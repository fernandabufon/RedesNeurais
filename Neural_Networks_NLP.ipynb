{
  "cells": [
    {
      "cell_type": "markdown",
      "metadata": {
        "id": "P2hz2MrnW3wv"
      },
      "source": [
        "# Apresentação Redes Neurais - NLP\n",
        "Fernanda Bufon e Danielle Tavares"
      ]
    },
    {
      "cell_type": "markdown",
      "metadata": {
        "id": "wbQ1nXDndIjI"
      },
      "source": [
        "### Imports:"
      ]
    },
    {
      "cell_type": "code",
      "execution_count": 1,
      "metadata": {
        "id": "XFBmy0YrdL2W"
      },
      "outputs": [],
      "source": [
        "import numpy as np\n",
        "import pandas as pd\n",
        "import matplotlib.pyplot as plt\n",
        "import seaborn as sn\n",
        "import ipywidgets as wg\n",
        "from ipywidgets import interactive, fixed\n",
        "from random import random\n",
        "from sklearn.linear_model import LinearRegression\n",
        "from sklearn.preprocessing import MinMaxScaler\n",
        "from sklearn.datasets import make_blobs\n",
        "from sklearn.model_selection import train_test_split\n",
        "import tensorflow as tf\n",
        "from tensorflow import keras\n",
        "import ipywidgets as widgets\n",
        "from IPython.display import display\n",
        "\n",
        "%matplotlib inline"
      ]
    },
    {
      "cell_type": "markdown",
      "metadata": {
        "id": "XG2_-3BaWacY"
      },
      "source": [
        "## Função Lógica XOR"
      ]
    },
    {
      "cell_type": "markdown",
      "metadata": {},
      "source": [
        "Vamos tentar resolver o problema da função lógica XOR de forma linear interativamente:"
      ]
    },
    {
      "cell_type": "code",
      "execution_count": 2,
      "metadata": {
        "id": "b78Yqr68e97n"
      },
      "outputs": [],
      "source": [
        "def plot_line(w1, w2, b):\n",
        "    x1, x2 = np.meshgrid(np.linspace(0,1,100), np.linspace(0,1,100))\n",
        "    x_mesh = np.array([x1.ravel(), x2.ravel()]).T\n",
        "\n",
        "    plt.figure(0, figsize=(10,4))\n",
        "    plt.subplot(1,2,2)\n",
        "    plt.scatter(x[:,0], x[:,1], c=y.ravel(), s=100, cmap='bwr')\n",
        "\n",
        "    y_mesh = np.dot(x_mesh, np.array([w1, w2]).T) + b\n",
        "    y_mesh = np.where(y_mesh <= 0, 0, 1)\n",
        "\n",
        "    plt.contourf(x1, x2, y_mesh.reshape(x1.shape), cmap='bwr')\n",
        "\n",
        "    y_pred = np.dot(x, np.array([w1, w2]).T) + b\n",
        "    y_bin = np.where(y_pred <= 0, 0, 1)\n",
        "    print('{0} => {1}'.format(y_pred, y_bin))\n",
        "\n",
        "    plt.subplot(1,2,1)\n",
        "    mse = np.mean((y.ravel() - y_bin)**2)\n",
        "    loss.append(mse)\n",
        "    plt.plot(loss)\n",
        "    plt.title('Loss')\n",
        "\n",
        "    plt.show()"
      ]
    },
    {
      "cell_type": "code",
      "execution_count": 3,
      "metadata": {
        "colab": {
          "base_uri": "https://localhost:8080/",
          "height": 643,
          "referenced_widgets": [
            "e93d5a127b7143a59b7da0b02eb1b4c1",
            "1be1cfa770f94004a642c1c942cf9755",
            "a420fb6c27244cd186822e58ffb321e0",
            "071e68c8544747238912237392c60de0",
            "0d0a11c67adf4d59847ecd25944e5ae6",
            "2da06b5000024c90971da1e99329e6e5",
            "e8e6a62c752848b9b850619675424961",
            "1fa6ce6019a740c994c97f27ee1beef7",
            "bab1d1175e0a402c8566e211c426b4a2",
            "223ed76f893343c18e11b147c2ec3c67",
            "1f7f71f6b40544ed8fa1805d59e76a50",
            "4d94048a2cbd4b76b60466bfba2e2fdb",
            "acc294e411f94bf0a321ef8e1b7c404d"
          ]
        },
        "id": "5IzxVvP5e0x5",
        "outputId": "0a449b48-430f-4c9c-e45f-7d0831e40766"
      },
      "outputs": [
        {
          "name": "stdout",
          "output_type": "stream",
          "text": [
            "[[0 0]\n",
            " [0 1]\n",
            " [1 0]\n",
            " [1 1]]\n",
            "[[0]\n",
            " [1]\n",
            " [1]\n",
            " [0]]\n"
          ]
        },
        {
          "data": {
            "image/png": "[encoded data removed]",
            "text/plain": [
              "<Figure size 640x480 with 1 Axes>"
            ]
          },
          "metadata": {},
          "output_type": "display_data"
        },
        {
          "data": {
            "application/vnd.jupyter.widget-view+json": {
              "model_id": "3eb29fb95d6a4f9c816b555f14c167a4",
              "version_major": 2,
              "version_minor": 0
            },
            "text/plain": [
              "interactive(children=(FloatSlider(value=0.0, description='w1', max=1.0, min=-1.0, step=0.01), FloatSlider(valu…"
            ]
          },
          "execution_count": 3,
          "metadata": {},
          "output_type": "execute_result"
        }
      ],
      "source": [
        "x = np.array([[0, 0], [0, 1], [1, 0], [1, 1]])\n",
        "y = np.array([[0, 1, 1, 0]]).T\n",
        "\n",
        "print(x, y, sep='\\n')\n",
        "plt.scatter(x[:,0], x[:,1], c=y.ravel(), s=50, cmap='bwr')\n",
        "loss = []\n",
        "\n",
        "interactive_plot = interactive(plot_line, w1=(-1,1,0.01), w2=(-1,1,0.01), b=(-1.5, 1.5, 0.01))\n",
        "interactive_plot"
      ]
    },
    {
      "cell_type": "markdown",
      "metadata": {
        "id": "LfNcJ1n9fCBW"
      },
      "source": [
        "Como vimos acima, diferentemente da função AND e OR, a função XOR não consegue ser resolvida / separada por uma função linear. Qual a solução? CAMADAS OCULTAS!!"
      ]
    },
    {
      "cell_type": "markdown",
      "metadata": {},
      "source": [
        "Agora, vamos criar uma pequena Rede Neural para resolvermos o problema XOR. A rede segue a seguinte arquitetura:"
      ]
    },
    {
      "cell_type": "markdown",
      "metadata": {},
      "source": [
        "![Formato de Rede definida para resolver o problema XOR](https://i.imgur.com/JDmk8ME.png)\n",
        "\n",
        "Figura 1: Arquitetura para resolução do problema XOR, adaptada de 'Speech and Language Processing, 3ª edição (rascunho)' por Dan Jurafsky e James H. Martin, 2024."
      ]
    },
    {
      "cell_type": "code",
      "execution_count": 20,
      "metadata": {
        "colab": {
          "base_uri": "https://localhost:8080/"
        },
        "id": "MezUOQYYjXeX",
        "outputId": "ba7c7d13-40cc-4eec-acf4-4055f3839caa"
      },
      "outputs": [
        {
          "data": {
            "application/vnd.jupyter.widget-view+json": {
              "model_id": "cc8ec735a2c640cdaf18187e64626a3b",
              "version_major": 2,
              "version_minor": 0
            },
            "text/plain": [
              "IntText(value=0, description='Digite o valor de x1 (0 ou 1):')"
            ]
          },
          "metadata": {},
          "output_type": "display_data"
        },
        {
          "data": {
            "application/vnd.jupyter.widget-view+json": {
              "model_id": "09d39269870740abb10bd28a0c1ef1b9",
              "version_major": 2,
              "version_minor": 0
            },
            "text/plain": [
              "IntText(value=0, description='Digite o valor de x2 (0 ou 1):')"
            ]
          },
          "metadata": {},
          "output_type": "display_data"
        },
        {
          "data": {
            "application/vnd.jupyter.widget-view+json": {
              "model_id": "a2157747b301420787ee38244f165a6b",
              "version_major": 2,
              "version_minor": 0
            },
            "text/plain": [
              "Button(description='Submit', style=ButtonStyle())"
            ]
          },
          "metadata": {},
          "output_type": "display_data"
        },
        {
          "name": "stdout",
          "output_type": "stream",
          "text": [
            "Saída da rede neural: 1\n",
            "Saída da rede neural: 0\n",
            "Saída da rede neural: 1\n",
            "Saída da rede neural: 0\n"
          ]
        }
      ],
      "source": [
        "def step_function(x):\n",
        "    \"\"\" Função de ativação degrau. \"\"\"\n",
        "    return 1 if x > 0 else 0\n",
        "\n",
        "def neural_network(x1, x2):\n",
        "    # Pesos das conexões para as camadas ocultas\n",
        "    weights_hidden = np.array([[1, 1],  # Pesos para h1\n",
        "                               [1, 1]]) # Pesos para h2\n",
        "\n",
        "    # Bias das camadas ocultas\n",
        "    biases_hidden = np.array([0, -1])  # Bias para h1 e h2\n",
        "\n",
        "    # Entradas\n",
        "    inputs = np.array([x1, x2])\n",
        "\n",
        "    # Calculando as saídas das camadas ocultas como soma linear\n",
        "    hidden_linear_output = np.dot(weights_hidden, inputs) + biases_hidden\n",
        "\n",
        "    # Aplicando a função degrau às saídas das camadas ocultas\n",
        "    hidden_layer_output = np.array([step_function(x) for x in hidden_linear_output])\n",
        "\n",
        "    # Pesos da camada oculta para a saída\n",
        "    weights_output = np.array([1, -2])\n",
        "\n",
        "    # Bias da saída\n",
        "    bias_output = 0\n",
        "\n",
        "    # Calculando a entrada final para a saída\n",
        "    final_input = np.dot(weights_output, hidden_layer_output) + bias_output\n",
        "\n",
        "    # Aplicando a função degrau à saída final\n",
        "    output = step_function(final_input)\n",
        "    return output\n",
        "\n",
        "# Widgets para entrada de dados\n",
        "x1 = widgets.IntText(value=0, description='Digite o valor de x1 (0 ou 1):')\n",
        "x2 = widgets.IntText(value=0, description='Digite o valor de x2 (0 ou 1):')\n",
        "button = widgets.Button(description=\"Submit\")\n",
        "\n",
        "def on_button_clicked(b):\n",
        "    # Captura os valores dos widgets e chama a função neural_network\n",
        "    result = neural_network(x1.value, x2.value)\n",
        "    print(\"Saída da rede neural:\", result)\n",
        "\n",
        "button.on_click(on_button_clicked)\n",
        "display(x1, x2, button)"
      ]
    },
    {
      "cell_type": "markdown",
      "metadata": {},
      "source": [
        "Perceba que nós acabamos de criar uma espécie de rede neural com parâmetros estrategicamente definidos para resolver nosso problema. **Mas o que podemos fazer em casos onde não sabemos quais são os parâmetros necessários?**"
      ]
    },
    {
      "cell_type": "markdown",
      "metadata": {},
      "source": [
        "## Perceptron:"
      ]
    },
    {
      "cell_type": "markdown",
      "metadata": {
        "id": "vLpRa_1LeABm"
      },
      "source": [
        "Para termos uma ideia intuitiva do Perceptron e de Redes Neurais, vamos começar com uma ferramenta interativa."
      ]
    },
    {
      "cell_type": "markdown",
      "metadata": {},
      "source": [
        "Esse código foi feito pelo Arnaldo Gualberto, doutor em Deep Learning, no curso [Manual Prático em Deep Learning](https://www.udemy.com/course/redes-neurais/learn/lecture/18857722#overview) da Udemy."
      ]
    },
    {
      "cell_type": "code",
      "execution_count": 23,
      "metadata": {
        "colab": {
          "base_uri": "https://localhost:8080/",
          "height": 380
        },
        "id": "Qwq9Gxn3ZY1P",
        "outputId": "2c6fa08d-5fda-4865-e74c-fc08091bb849"
      },
      "outputs": [
        {
          "name": "stdout",
          "output_type": "stream",
          "text": [
            "(100, 2)\n"
          ]
        },
        {
          "data": {
            "text/html": [
              "<div>\n",
              "<style scoped>\n",
              "    .dataframe tbody tr th:only-of-type {\n",
              "        vertical-align: middle;\n",
              "    }\n",
              "\n",
              "    .dataframe tbody tr th {\n",
              "        vertical-align: top;\n",
              "    }\n",
              "\n",
              "    .dataframe thead th {\n",
              "        text-align: right;\n",
              "    }\n",
              "</style>\n",
              "<table border=\"1\" class=\"dataframe\">\n",
              "  <thead>\n",
              "    <tr style=\"text-align: right;\">\n",
              "      <th></th>\n",
              "      <th>Altura</th>\n",
              "      <th>Peso</th>\n",
              "    </tr>\n",
              "  </thead>\n",
              "  <tbody>\n",
              "    <tr>\n",
              "      <th>0</th>\n",
              "      <td>187</td>\n",
              "      <td>109.72</td>\n",
              "    </tr>\n",
              "    <tr>\n",
              "      <th>1</th>\n",
              "      <td>177</td>\n",
              "      <td>91.09</td>\n",
              "    </tr>\n",
              "    <tr>\n",
              "      <th>2</th>\n",
              "      <td>180</td>\n",
              "      <td>88.93</td>\n",
              "    </tr>\n",
              "    <tr>\n",
              "      <th>3</th>\n",
              "      <td>177</td>\n",
              "      <td>89.39</td>\n",
              "    </tr>\n",
              "    <tr>\n",
              "      <th>4</th>\n",
              "      <td>177</td>\n",
              "      <td>92.02</td>\n",
              "    </tr>\n",
              "    <tr>\n",
              "      <th>5</th>\n",
              "      <td>183</td>\n",
              "      <td>94.70</td>\n",
              "    </tr>\n",
              "    <tr>\n",
              "      <th>6</th>\n",
              "      <td>178</td>\n",
              "      <td>83.57</td>\n",
              "    </tr>\n",
              "    <tr>\n",
              "      <th>7</th>\n",
              "      <td>177</td>\n",
              "      <td>85.19</td>\n",
              "    </tr>\n",
              "    <tr>\n",
              "      <th>8</th>\n",
              "      <td>183</td>\n",
              "      <td>92.96</td>\n",
              "    </tr>\n",
              "    <tr>\n",
              "      <th>9</th>\n",
              "      <td>188</td>\n",
              "      <td>108.21</td>\n",
              "    </tr>\n",
              "  </tbody>\n",
              "</table>\n",
              "</div>"
            ],
            "text/plain": [
              "   Altura    Peso\n",
              "0     187  109.72\n",
              "1     177   91.09\n",
              "2     180   88.93\n",
              "3     177   89.39\n",
              "4     177   92.02\n",
              "5     183   94.70\n",
              "6     178   83.57\n",
              "7     177   85.19\n",
              "8     183   92.96\n",
              "9     188  108.21"
            ]
          },
          "execution_count": 23,
          "metadata": {},
          "output_type": "execute_result"
        }
      ],
      "source": [
        "df = pd.read_csv('medidas.csv')\n",
        "print(df.shape)\n",
        "df.head(10)"
      ]
    },
    {
      "cell_type": "markdown",
      "metadata": {
        "id": "6bU75Xlwd72-"
      },
      "source": [
        "Primeiramente, vamos dar uma olhada no nosso gráfico:"
      ]
    },
    {
      "cell_type": "code",
      "execution_count": 24,
      "metadata": {
        "colab": {
          "base_uri": "https://localhost:8080/",
          "height": 466
        },
        "id": "Lq5_LBaRmqxQ",
        "outputId": "400776c5-ad3f-49b6-e33e-f7c0a45d1863"
      },
      "outputs": [
        {
          "data": {
            "text/plain": [
              "Text(0, 0.5, 'Peso')"
            ]
          },
          "execution_count": 24,
          "metadata": {},
          "output_type": "execute_result"
        },
        {
          "data": {
            "image/png": "[encoded data removed]",
            "text/plain": [
              "<Figure size 640x480 with 1 Axes>"
            ]
          },
          "metadata": {},
          "output_type": "display_data"
        }
      ],
      "source": [
        "x = df.Altura\n",
        "y = df.Peso\n",
        "\n",
        "plt.figure()\n",
        "plt.scatter(x, y)\n",
        "plt.xlabel('Altura')\n",
        "plt.ylabel('Peso')"
      ]
    },
    {
      "cell_type": "markdown",
      "metadata": {},
      "source": [
        "Agora vamos criar um código para plotar a função linear e resolver manualmente."
      ]
    },
    {
      "cell_type": "code",
      "execution_count": 25,
      "metadata": {
        "id": "lKzxeRvPZ0oG"
      },
      "outputs": [],
      "source": [
        "def plot_line(w, b):\n",
        "    plt.figure(0, figsize=(20,4))\n",
        "    plt.subplot(1,3,3)\n",
        "    plt.scatter(x, y)\n",
        "    y_pred = x*w + b\n",
        "    plt.plot(x, y_pred, c='red')\n",
        "    plt.xlim(140, 210)\n",
        "    plt.ylim(40, 120)\n",
        "\n",
        "    plt.subplot(1,3,2)\n",
        "    x_ = np.array([0, x.max()])\n",
        "    y_ = x_*w + b\n",
        "    plt.scatter(x, y)\n",
        "    plt.plot(x_, y_, c='red')\n",
        "    plt.xlim(0, 210)\n",
        "    plt.ylim(-160, 120)\n",
        "\n",
        "    plt.subplot(1,3,1)\n",
        "    mse = np.mean((y - y_pred)**2)\n",
        "    loss.append(mse)\n",
        "    plt.plot(loss)\n",
        "    plt.title('Loss')\n",
        "\n",
        "    plt.show()"
      ]
    },
    {
      "cell_type": "markdown",
      "metadata": {
        "id": "51X2KjELeKBe"
      },
      "source": [
        "Com o código abaixo, conseguimos mudar o bias e o peso da nossa função linear para atingirmos a menos loss e, consequentemente, resolver o problemas de regressão. Observe que nessa etapa não estamos implementando a função de ativação."
      ]
    },
    {
      "cell_type": "code",
      "execution_count": 26,
      "metadata": {
        "colab": {
          "base_uri": "https://localhost:8080/",
          "height": 304,
          "referenced_widgets": [
            "d914a5ba69584ac5b8c8ee63d403ef49",
            "37efc0e925a0499086dbe4917979beb2",
            "e3be596244024f9fab702e5399e580bb",
            "ebd3f8230bc146d4bcfe692a2b03d136",
            "8a6a82a716eb47caafb49dd3e914137b",
            "04fbc00808a54a0aa078145918eb23df",
            "407289eddcbe447ebedfd9f0f5978fa5",
            "27dc6b8f63b44a42b8a51167aa5f98c2",
            "ea6189b3b9604ddfa2f66616bf7fa7ba",
            "835d9b9b2f764d87acea6a56165f8694"
          ]
        },
        "id": "MrXs-vgRZ2re",
        "outputId": "5688288c-829c-4562-e424-8ff9e5ce35f3"
      },
      "outputs": [
        {
          "data": {
            "application/vnd.jupyter.widget-view+json": {
              "model_id": "d4c5a6528c094c978738b82436293314",
              "version_major": 2,
              "version_minor": 0
            },
            "text/plain": [
              "interactive(children=(FloatSlider(value=1.25, description='w', max=1.5, min=1.0, step=0.01), IntSlider(value=-…"
            ]
          },
          "execution_count": 26,
          "metadata": {},
          "output_type": "execute_result"
        }
      ],
      "source": [
        "loss = []\n",
        "\n",
        "interactive_plot = interactive(plot_line, w=(1, 1.5, 0.01), b=(-200, 0, 1))\n",
        "output = interactive_plot.children[-1]\n",
        "output.layout_height = '350px'\n",
        "interactive_plot\n"
      ]
    },
    {
      "cell_type": "markdown",
      "metadata": {
        "id": "sp8IMLpBebtn"
      },
      "source": [
        "Agora vamos rodar o modelo de regressão linear para vermos quais são os melhores valores do peso e do bias para encaixar nos nossos dados."
      ]
    },
    {
      "cell_type": "code",
      "execution_count": 27,
      "metadata": {
        "colab": {
          "base_uri": "https://localhost:8080/"
        },
        "id": "jB7XDDEDZ7ZH",
        "outputId": "583cf756-5e0e-4032-f0e9-6894ba861c0e"
      },
      "outputs": [
        {
          "name": "stdout",
          "output_type": "stream",
          "text": [
            "w: 1.37 \n",
            "b: -157.47\n"
          ]
        }
      ],
      "source": [
        "reg = LinearRegression()\n",
        "reg.fit(x.values.reshape(-1,1), y)\n",
        "print(\"w: {:.2f} \\nb: {:.2f}\".format(reg.coef_[0], reg.intercept_))"
      ]
    },
    {
      "cell_type": "markdown",
      "metadata": {},
      "source": [
        "Observe que nós descobrimos o valor ideal dos pesos e dos bias de acordo com a Loss, ou seja, com o objetivo de minimizarmos. O processo que a gente seguiu foi:\n",
        "1. Começar com um valor aleatório para o peso e bias;\n",
        "2. Verificar o valor da Loss;\n",
        "3. Mudar o valor do peso de acordo com a primeira Loss encontrada;\n",
        "4. Mudar o valor do bias de acordo com a primeira Loss encontrada;\n",
        "5. Verificar o valor da Loss;\n",
        "6. Mudar o valor do peso...\n",
        "\n",
        "Basicamente, estamos fazendo o que a Rede Neural faz: *APRENDENDO!*\n",
        "\n",
        "Assim como fizemos, a rede aprende de acordo com a Loss obtida - e a relação da Loss com o parâmetro analisado."
      ]
    },
    {
      "cell_type": "markdown",
      "metadata": {
        "id": "K9QCf5U6nFgQ"
      },
      "source": [
        "## Implementando uma Rede Neural utilizando Python:\n",
        "Nosso objetivo será prever se uma pessoa vai adquirir um plano de saúde ou não. O código foi feito pelo Dhaval Patel, dono do canal [codebasics](https://www.youtube.com/@codebasics), no vídeo [Implement Neural Network In Python](https://www.youtube.com/watch?v=PQCE9ChuIDY&list=PLeo1K3hjS3uu7CxAacxVndI4bE_o3BDtO&index=13&ab_channel=codebasics)"
      ]
    },
    {
      "cell_type": "markdown",
      "metadata": {},
      "source": [
        "### Preparação dos dados:"
      ]
    },
    {
      "cell_type": "code",
      "execution_count": 29,
      "metadata": {
        "colab": {
          "base_uri": "https://localhost:8080/",
          "height": 206
        },
        "id": "2r0IQF88tc5h",
        "outputId": "abdf8c93-bd95-43f2-b723-b1cb90f2e6ba"
      },
      "outputs": [
        {
          "data": {
            "text/html": [
              "<div>\n",
              "<style scoped>\n",
              "    .dataframe tbody tr th:only-of-type {\n",
              "        vertical-align: middle;\n",
              "    }\n",
              "\n",
              "    .dataframe tbody tr th {\n",
              "        vertical-align: top;\n",
              "    }\n",
              "\n",
              "    .dataframe thead th {\n",
              "        text-align: right;\n",
              "    }\n",
              "</style>\n",
              "<table border=\"1\" class=\"dataframe\">\n",
              "  <thead>\n",
              "    <tr style=\"text-align: right;\">\n",
              "      <th></th>\n",
              "      <th>age</th>\n",
              "      <th>affordibility</th>\n",
              "      <th>bought_insurance</th>\n",
              "    </tr>\n",
              "  </thead>\n",
              "  <tbody>\n",
              "    <tr>\n",
              "      <th>0</th>\n",
              "      <td>22</td>\n",
              "      <td>1</td>\n",
              "      <td>0</td>\n",
              "    </tr>\n",
              "    <tr>\n",
              "      <th>1</th>\n",
              "      <td>25</td>\n",
              "      <td>0</td>\n",
              "      <td>0</td>\n",
              "    </tr>\n",
              "    <tr>\n",
              "      <th>2</th>\n",
              "      <td>47</td>\n",
              "      <td>1</td>\n",
              "      <td>1</td>\n",
              "    </tr>\n",
              "    <tr>\n",
              "      <th>3</th>\n",
              "      <td>52</td>\n",
              "      <td>0</td>\n",
              "      <td>0</td>\n",
              "    </tr>\n",
              "    <tr>\n",
              "      <th>4</th>\n",
              "      <td>46</td>\n",
              "      <td>1</td>\n",
              "      <td>1</td>\n",
              "    </tr>\n",
              "  </tbody>\n",
              "</table>\n",
              "</div>"
            ],
            "text/plain": [
              "   age  affordibility  bought_insurance\n",
              "0   22              1                 0\n",
              "1   25              0                 0\n",
              "2   47              1                 1\n",
              "3   52              0                 0\n",
              "4   46              1                 1"
            ]
          },
          "execution_count": 29,
          "metadata": {},
          "output_type": "execute_result"
        }
      ],
      "source": [
        "df = pd.read_csv(\"insurance_data.csv\")\n",
        "df.head()"
      ]
    },
    {
      "cell_type": "code",
      "execution_count": 30,
      "metadata": {
        "id": "9fSGPZShthon"
      },
      "outputs": [],
      "source": [
        "X_train, X_test, y_train, y_test = train_test_split(df[['age','affordibility']],df.bought_insurance,test_size=0.2, random_state=25)"
      ]
    },
    {
      "cell_type": "code",
      "execution_count": 31,
      "metadata": {
        "id": "_SOmuTg6tlUX"
      },
      "outputs": [],
      "source": [
        "X_train_scaled = X_train.copy()\n",
        "X_train_scaled['age'] = X_train_scaled['age'] / 100\n",
        "\n",
        "X_test_scaled = X_test.copy()\n",
        "X_test_scaled['age'] = X_test_scaled['age'] / 100"
      ]
    },
    {
      "cell_type": "markdown",
      "metadata": {},
      "source": [
        "### Definindo funções e fazendo a rede neural:"
      ]
    },
    {
      "cell_type": "markdown",
      "metadata": {},
      "source": [
        "Nossa função de ativação escolhida vai ser a Sigmoid."
      ]
    },
    {
      "cell_type": "code",
      "execution_count": 32,
      "metadata": {
        "colab": {
          "base_uri": "https://localhost:8080/"
        },
        "id": "nMk3jmmJuvAn",
        "outputId": "5a273042-abe6-461c-bb5e-004a7ff69402"
      },
      "outputs": [
        {
          "data": {
            "text/plain": [
              "array([0.99999386, 0.5       , 0.73105858])"
            ]
          },
          "execution_count": 32,
          "metadata": {},
          "output_type": "execute_result"
        }
      ],
      "source": [
        "def sigmoid_numpy(X):\n",
        "   return 1/(1+np.exp(-X))\n",
        "\n",
        "sigmoid_numpy(np.array([12,0,1]))"
      ]
    },
    {
      "cell_type": "markdown",
      "metadata": {},
      "source": [
        "O código a seguir define a função *log_loss*, que calcula a perda logarítmica (log loss), uma métrica comum para avaliar o desempenho de modelos de classificação. A função ajusta as previsões para garantir que elas estejam dentro do intervalo (epsilon, 1-epsilon) para evitar erros de logaritmo de zero. Em seguida, calcula a média do logaritmo negativo da probabilidade prevista para a classe verdadeira, ponderada pela verdade real, para todas as observações. Essa métrica é útil para medir quão bem um modelo de classificação prevê as classes corretas. "
      ]
    },
    {
      "cell_type": "code",
      "execution_count": 36,
      "metadata": {
        "id": "_Ck9rI_WuyWn"
      },
      "outputs": [],
      "source": [
        "def log_loss(y_true, y_predicted):\n",
        "    epsilon = 1e-15\n",
        "    y_predicted_new = [max(i,epsilon) for i in y_predicted]\n",
        "    y_predicted_new = [min(i,1-epsilon) for i in y_predicted_new]\n",
        "    y_predicted_new = np.array(y_predicted_new)\n",
        "    return -np.mean(y_true*np.log(y_predicted_new)+(1-y_true)*np.log(1-y_predicted_new))"
      ]
    },
    {
      "cell_type": "markdown",
      "metadata": {},
      "source": [
        "Agora, vamos criar nossa rede neural:"
      ]
    },
    {
      "cell_type": "code",
      "execution_count": 37,
      "metadata": {
        "id": "91VzsU1KtHqW"
      },
      "outputs": [],
      "source": [
        "class myNN:\n",
        "    def __init__(self):\n",
        "        self.w1 = 1\n",
        "        self.w2 = 1\n",
        "        self.bias = 0\n",
        "\n",
        "    def fit(self, X, y, epochs, loss_thresold):\n",
        "        self.w1, self.w2, self.bias = self.gradient_descent(X['age'],X['affordibility'],y, epochs, loss_thresold)\n",
        "        print(f\"\\nFinal weights and bias: w1: {self.w1}, w2: {self.w2}, bias: {self.bias}\")\n",
        "\n",
        "    def predict(self, X_test):\n",
        "        weighted_sum = self.w1*X_test['age'] + self.w2*X_test['affordibility'] + self.bias\n",
        "        return sigmoid_numpy(weighted_sum)\n",
        "\n",
        "    def gradient_descent(self, age,affordability, y_true, epochs, loss_thresold):\n",
        "        w1 = w2 = 1\n",
        "        bias = 0\n",
        "        rate = 0.5\n",
        "        n = len(age)\n",
        "        for i in range(epochs):\n",
        "            weighted_sum = w1 * age + w2 * affordability + bias\n",
        "            y_predicted = sigmoid_numpy(weighted_sum)\n",
        "            loss = log_loss(y_true, y_predicted)\n",
        "\n",
        "            w1d = (1/n)*np.dot(np.transpose(age),(y_predicted-y_true))\n",
        "            w2d = (1/n)*np.dot(np.transpose(affordability),(y_predicted-y_true))\n",
        "\n",
        "            bias_d = np.mean(y_predicted-y_true)\n",
        "            w1 = w1 - rate * w1d\n",
        "            w2 = w2 - rate * w2d\n",
        "            bias = bias - rate * bias_d\n",
        "\n",
        "            if i%50==0:\n",
        "                print (f'Epoch:{i}, w1:{w1}, w2:{w2}, bias:{bias}, loss:{loss}')\n",
        "\n",
        "            if loss<=loss_thresold:\n",
        "                print (f'Epoch:{i}, w1:{w1}, w2:{w2}, bias:{bias}, loss:{loss}')\n",
        "                break\n",
        "\n",
        "        return w1, w2, bias"
      ]
    },
    {
      "cell_type": "markdown",
      "metadata": {},
      "source": [
        "Este código define uma classe chamada `myNN` que representa uma rede neural simples para classificação binária. A rede utiliza o método de descida de gradiente para otimizar seus parâmetros.\n",
        "#### Método `__init__`\n",
        "* Inicializa os pesos (`w1`, `w2`) e o bias com valores iniciais de 1 e 0, respectivamente. Estes são os parâmetros que serão ajustados durante o treinamento.\n",
        "\n",
        "#### Método `fit`\n",
        "* Aceita as características de entrada X, o vetor de saída y, o número de épocas epochs e um limiar de perda loss_thresold.\n",
        "* Usa a função gradient_descent para ajustar os pesos e o bias com base nos dados de entrada.\n",
        "* Imprime os valores finais dos pesos e do bias após o treinamento.\n",
        "\n",
        "#### Método `predict`\n",
        "* Calcula a soma ponderada das entradas usando os pesos e o bias ajustados.\n",
        "* Aplica a função de ativação sigmoid para obter a probabilidade de a saída ser da classe 1.\n",
        "\n",
        "#### Método `gradient_descent`\n",
        "* Inicializa os pesos e o bias com valores de 1 e 0.\n",
        "* Define uma taxa de aprendizado `rate` de 0.5.\n",
        "* Executa um loop para um número especificado de epochs:\n",
        "* Calcula a soma ponderada das características de entrada.\n",
        "* Aplica a função sigmoid para obter as previsões `y_predicted`.\n",
        "* Calcula a perda usando a função `log_loss`.\n",
        "* Calcula os gradientes dos pesos e do bias com relação à perda.\n",
        "* Atualiza os pesos e o bias subtraindo uma fração dos gradientes.\n",
        "* Imprime os valores dos parâmetros e da perda a cada 50 épocas.\n",
        "* Se a perda for menor ou igual ao `loss_thresold`, interrompe o treinamento.\n",
        "* Retorna os valores ajustados dos pesos e do bias.\n",
        "\n",
        "Este código é um exemplo de como implementar uma rede neural simples do zero, utilizando o método de descida de gradiente para otimizar os parâmetros com base na perda logarítmica."
      ]
    },
    {
      "cell_type": "code",
      "execution_count": 38,
      "metadata": {
        "colab": {
          "base_uri": "https://localhost:8080/"
        },
        "id": "geD9AKaTnMd4",
        "outputId": "e2694227-b92c-41c6-f436-4ee68044c3f0"
      },
      "outputs": [
        {
          "name": "stdout",
          "output_type": "stream",
          "text": [
            "Epoch:0, w1:0.974907633470177, w2:0.948348125394529, bias:-0.11341867736368583, loss:0.7113403233723417\n",
            "Epoch:50, w1:1.503319554173139, w2:1.108384790367645, bias:-1.2319047301235464, loss:0.5675865113475955\n",
            "Epoch:100, w1:2.200713131760032, w2:1.2941584023238903, bias:-1.6607009122062801, loss:0.5390680417774752\n",
            "Epoch:150, w1:2.8495727769689085, w2:1.3696895491572747, bias:-1.986105845859897, loss:0.5176462164249294\n",
            "Epoch:200, w1:3.443016970881804, w2:1.404221862446503, bias:-2.2571369883752723, loss:0.5005011269691375\n",
            "Epoch:250, w1:3.982450494649577, w2:1.423912732932123, bias:-2.494377365971801, loss:0.48654089537617085\n",
            "Epoch:300, w1:4.4721795220959155, w2:1.438787986553552, bias:-2.7073878119223735, loss:0.47508146406327934\n",
            "Epoch:350, w1:4.917245868007634, w2:1.4525660781176122, bias:-2.901176333556766, loss:0.46561475306999006\n",
            "Epoch:400, w1:5.3225621674147305, w2:1.4664810071905663, bias:-3.0787595797907787, loss:0.4577474350773423\n",
            "Epoch:450, w1:5.69260053360137, w2:1.4808112468106693, bias:-3.2422158903641174, loss:0.45117171409379964\n",
            "Epoch:500, w1:6.031314968844422, w2:1.4954938706406726, bias:-3.39313314590453, loss:0.4456454060995865\n",
            "Epoch:550, w1:6.342157840222615, w2:1.5103674003714014, bias:-3.5328079807840513, loss:0.4409769559739329\n",
            "Epoch:600, w1:6.62812981441833, w2:1.5252634355026606, bias:-3.662340616030081, loss:0.43701399395304763\n",
            "Epoch:650, w1:6.8918376076325885, w2:1.54003727572441, bias:-3.7826846346080547, loss:0.4336345935394995\n",
            "Epoch:700, w1:7.135549285979656, w2:1.5545746584644058, bias:-3.8946764656896806, loss:0.4307405928835923\n",
            "Epoch:750, w1:7.361243533685756, w2:1.5687898126375563, bias:-3.9990551088427355, loss:0.42825248261100834\n",
            "Epoch:800, w1:7.570652134140106, w2:1.582620935100352, bias:-4.096476695372909, loss:0.42610547872487836\n",
            "Epoch:850, w1:7.765296035898225, w2:1.5960254291344156, bias:-4.187525978454527, loss:0.42424649186880836\n",
            "Epoch:900, w1:7.946515760566514, w2:1.6089757022142486, bias:-4.272725767814955, loss:0.4226317759984031\n",
            "Epoch:950, w1:8.115496979170883, w2:1.6214557085621062, bias:-4.352544851139164, loss:0.42122509387563983\n",
            "Epoch:1000, w1:8.273292028057181, w2:1.633458196575418, bias:-4.427404727306034, loss:0.4199962774950483\n",
            "Epoch:1050, w1:8.420838038144366, w2:1.6449825529074833, bias:-4.4976853703878525, loss:0.4189200918411035\n",
            "Epoch:1100, w1:8.558972248116982, w2:1.6560331275060975, bias:-4.56373018617984, loss:0.4179753328874885\n",
            "Epoch:1150, w1:8.688444977029185, w2:1.6666179373784558, bias:-4.6258502883896195, loss:0.4171441074955947\n",
            "Epoch:1200, w1:8.809930649359393, w2:1.676747665278476, bias:-4.684328198038542, loss:0.4164112553608268\n",
            "Epoch:1250, w1:8.924037196255604, w2:1.6864348869793515, bias:-4.739421052045668, loss:0.4157638825067604\n",
            "Epoch:1300, w1:9.0313140993808, w2:1.6956934754995692, bias:-4.791363393063042, loss:0.41519098285874206\n",
            "Epoch:1350, w1:9.13225929673326, w2:1.7045381424011814, bias:-4.840369601272302, loss:0.4146831297410198\n",
            "Epoch:1400, w1:9.22732513138308, w2:1.7129840854338167, bias:-4.8866360194194165, loss:0.41423222317546515\n",
            "Epoch:1450, w1:9.3169234927045, w2:1.7210467188440373, bias:-4.930342814470835, loss:0.41383128193897\n",
            "Epoch:1500, w1:9.401430274085703, w2:1.728741468065509, bias:-4.971655612648716, loss:0.4134742716990145\n",
            "Epoch:1550, w1:9.481189250177872, w2:1.736083614633514, bias:-5.010726939034293, loss:0.4131559623689645\n",
            "Epoch:1600, w1:9.556515459614847, w2:1.7430881803293579, bias:-5.047697488245486, loss:0.41287180923720884\n",
            "Epoch:1650, w1:9.627698165074403, w2:1.7497698419889112, bias:-5.082697248754564, loss:0.4126178535249128\n",
            "Epoch:1700, w1:9.695003450980153, w2:1.7561428702810808, bias:-5.1158465000937845, loss:0.4123906388890672\n",
            "Epoch:1750, w1:9.758676509592917, w2:1.7622210872096074, bias:-5.147256699400461, loss:0.4121871410657441\n",
            "Epoch:1800, w1:9.818943658334915, w2:1.7680178382155762, bias:-5.177031271392884, loss:0.4120047083846956\n",
            "Epoch:1850, w1:9.876014124626836, w2:1.7735459756339749, bias:-5.205266313873782, loss:0.4118410113123408\n",
            "Epoch:1900, w1:9.930081629052479, w2:1.7788178509427248, bias:-5.232051229169263, loss:0.4116939995199939\n",
            "Epoch:1950, w1:9.98132579310066, w2:1.7838453137803387, bias:-5.257469290478643, loss:0.4115618652464672\n",
            "Epoch:2000, w1:10.029913393909794, w2:1.7886397161316645, bias:-5.28159815089305, loss:0.41144301194328786\n",
            "Epoch:2050, w1:10.075999485227513, w2:1.7932119204153716, bias:-5.304510301803682, loss:0.41133602736779085\n",
            "Epoch:2100, w1:10.11972840109025, w2:1.797572310471431, bias:-5.32627348653556, loss:0.4112396604329403\n",
            "Epoch:2150, w1:10.161234656439627, w2:1.80173080465673, bias:-5.346951074285367, loss:0.4111528012396591\n",
            "Epoch:2200, w1:10.200643756953742, w2:1.8056968704238148, bias:-5.366602398793004, loss:0.4110744638129978\n",
            "Epoch:2250, w1:10.23807292872402, w2:1.8094795398906431, bias:-5.3852830656186255, loss:0.41100377114185027\n",
            "Epoch:2300, w1:10.273631777004542, w2:1.813087426015168, bias:-5.403045231416833, loss:0.4109399421864307\n",
            "Epoch:2350, w1:10.307422882061905, w2:1.8165287390730793, bias:-5.419937858185092, loss:0.41088228057099213\n",
            "Epoch:2400, w1:10.339542339126663, w2:1.8198113032046062, bias:-5.436006945105142, loss:0.41083016472340045\n",
            "Epoch:2450, w1:10.370080248565941, w2:1.822942572850126, bias:-5.451295740285347, loss:0.4107830392598589\n",
            "Epoch:2500, w1:10.399121161638108, w2:1.8259296489374535, bias:-5.4658449344422655, loss:0.4107404074436449\n",
            "Epoch:2550, w1:10.426744486535739, w2:1.828779294717971, bias:-5.479692838324754, loss:0.4107018245722937\n",
            "Epoch:2600, w1:10.45302485885744, w2:1.8314979511761447, bias:-5.492875545479166, loss:0.41066689216909186\n",
            "Epoch:2650, w1:10.478032480158504, w2:1.8340917519587456, bias:-5.505427081775296, loss:0.41063525287276337\n",
            "Epoch:2700, w1:10.501833427804524, w2:1.8365665377872997, bias:-5.517379542955926, loss:0.4106065859344268\n",
            "Epoch:2750, w1:10.52448993898139, w2:1.8389278703309844, bias:-5.528763221335542, loss:0.41058060324374035\n",
            "Epoch:2800, w1:10.546060671391823, w2:1.841181045527799, bias:-5.5396067226528505, loss:0.41055704581703284\n",
            "Epoch:2850, w1:10.566600942886012, w2:1.8433311063503177, bias:-5.549937073975539, loss:0.4105356806894594\n",
            "Epoch:2900, w1:10.586162952026578, w2:1.8453828550186937, bias:-5.559779823461842, loss:0.41051629816109\n",
            "Epoch:2950, w1:10.604795981370959, w2:1.8473408646686207, bias:-5.569159132700651, loss:0.4104987093535535\n",
            "Epoch:3000, w1:10.62254658506358, w2:1.8492094904856613, bias:-5.578097862278614, loss:0.41048274403960205\n",
            "Epoch:3050, w1:10.639458762162212, w2:1.850992880320117, bias:-5.586617651157612, loss:0.41046824871288534\n",
            "Epoch:3100, w1:10.655574116974536, w2:1.8526949847986192, bias:-5.594738990388356, loss:0.4104550848694467\n",
            "Epoch:3150, w1:10.670932007550181, w2:1.8543195669499573, bias:-5.602481291634494, loss:0.410443127476096\n",
            "Epoch:3200, w1:10.685569683357395, w2:1.855870211363557, bias:-5.609862950935907, loss:0.41043226360395196\n",
            "Epoch:3250, w1:10.699522413070799, w2:1.8573503328994785, bias:-5.6169014080991175, loss:0.4104223912081505\n",
            "Epoch:3300, w1:10.712823603305363, w2:1.8587631849690047, bias:-5.62361320206637, loss:0.4104134180370728\n",
            "Epoch:3350, w1:10.725504909050525, w2:1.8601118674047943, bias:-5.630014022582246, loss:0.4104052606564697\n",
            "Epoch:3400, w1:10.737596336485984, w2:1.8613993339393784, bias:-5.636118758447605, loss:0.4103978435756352\n",
            "Epoch:3450, w1:10.749126338796257, w2:1.8626283993103492, bias:-5.641941542624424, loss:0.4103910984643153\n",
            "Epoch:3500, w1:10.760121905543294, w2:1.8638017460101344, bias:-5.64749579443158, loss:0.4103849634503774\n",
            "Epoch:3550, w1:10.770608646104897, w2:1.864921930697673, bias:-5.652794259050488, loss:0.41037938248943995\n",
            "Epoch:3600, w1:10.780610867640437, w2:1.8659913902887266, bias:-5.657849044540455, loss:0.4103743047986793\n",
            "Epoch:3650, w1:10.790151648003787, w2:1.867012447740866, bias:-5.662671656546428, loss:0.41036968434793036\n",
            "Epoch:3700, w1:10.799252903986241, w2:1.8679873175485737, bias:-5.667273030866319, loss:0.41036547940198037\n",
            "Epoch:3750, w1:10.807935455238466, w2:1.8689181109631672, bias:-5.67166356403105, loss:0.4103616521086453\n",
            "Epoch:3800, w1:10.816219084190417, w2:1.8698068409516346, bias:-5.67585314203779, loss:0.41035816812782533\n",
            "Epoch:3850, w1:10.824122592260874, w2:1.870655426907787, bias:-5.6798511673653636, loss:0.41035499629726857\n",
            "Epoch:3900, w1:10.831663852623509, w2:1.8714656991284693, bias:-5.683666584390358, loss:0.41035210833124247\n",
            "Epoch:3950, w1:10.838859859774338, w2:1.8722394030669742, bias:-5.687307903312995, loss:0.4103494785487301\n",
            "Epoch:4000, w1:10.845726776125016, w2:1.8729782033751887, bias:-5.690783222693268, loss:0.4103470836281307\n",
            "Epoch:4050, w1:10.852279975828308, w2:1.8736836877453744, bias:-5.694100250689883, loss:0.41034490238577614\n",
            "Epoch:4100, w1:10.858534086025418, w2:1.8743573705619687, bias:-5.697266325087568, loss:0.4103429155758542\n",
            "Epoch:4150, w1:10.864503025689833, w2:1.8750006963732302, bias:-5.700288432191659, loss:0.4103411057095897\n",
            "Epoch:4200, w1:10.870200042228529, w2:1.875615043192025, bias:-5.703173224662981, loss:0.41033945689176227\n",
            "Epoch:4250, w1:10.875637745989094, w2:1.8762017256345822, bias:-5.7059270383606435, loss:0.41033795467283535\n",
            "Epoch:4300, w1:10.880828142809678, w2:1.8767619979055452, bias:-5.708555908255286, loss:0.4103365859151548\n",
            "Epoch:4350, w1:10.885782664738617, w2:1.8772970566372362, bias:-5.711065583470877, loss:0.41033533867183203\n",
            "Epoch:4400, w1:10.890512199040755, w2:1.8778080435905997, bias:-5.713461541508913, loss:0.4103342020770724\n",
            "Epoch:4450, w1:10.895027115599133, w2:1.878296048224911, bias:-5.715749001705053, loss:0.4103331662468292\n",
            "Epoch:4500, w1:10.899337292812518, w2:1.8787621101429315, bias:-5.717932937964695, loss:0.41033222218878596\n",
            "Epoch:4550, w1:10.903452142082154, w2:1.8792072214178621, bias:-5.720018090820801, loss:0.41033136172076207\n",
            "Epoch:4600, w1:10.907380630974336, w2:1.8796323288080792, bias:-5.722008978854236, loss:0.4103305773967335\n",
            "Epoch:4650, w1:10.911131305139337, w2:1.8800383358653439, bias:-5.723909909514202, loss:0.4103298624397375\n",
            "Epoch:4700, w1:10.914712309061546, w2:1.880426104941844, bias:-5.7257249893737665, loss:0.4103292106810048\n",
            "Epoch:4750, w1:10.918131405710565, w2:1.8807964591011639, bias:-5.727458133853205, loss:0.41032861650472585\n",
            "Epoch:4800, w1:10.921395995158168, w2:1.8811501839379865, bias:-5.729113076441662, loss:0.4103280747979183\n",
            "Epoch:4850, w1:10.9245131322217, w2:1.8814880293110954, bias:-5.73069337744569, loss:0.4103275809049128\n",
            "Epoch:4900, w1:10.927489543190386, w2:1.8818107109940012, bias:-5.7322024322913645, loss:0.41032713058602116\n",
            "Epoch:4950, w1:10.93033164168732, w2:1.882118912247261, bias:-5.733643479404956, loss:0.4103267199799974\n",
            "\n",
            "Final weights and bias: w1: 10.932992483821772, w2: 1.8824075292964162, bias: -5.734992702048112\n"
          ]
        }
      ],
      "source": [
        "customModel = myNN()\n",
        "customModel.fit(X_train_scaled, y_train, epochs=5000, loss_thresold=0.3)"
      ]
    },
    {
      "cell_type": "code",
      "execution_count": 41,
      "metadata": {
        "id": "goZ19hp0vUXg"
      },
      "outputs": [],
      "source": [
        "def prediction_function(age, affordibility):\n",
        "    weighted_sum = 10.932992483821772*age + 1.8824075292964162*affordibility + -5.734992702048112\n",
        "    return sigmoid_numpy(weighted_sum)\n",
        "\n",
        "y_pred = prediction_function(.47, 1)\n",
        "\n",
        "if(y_pred > 0.5):\n",
        "  y_pred = 1\n",
        "else:\n",
        "  y_pred = 0"
      ]
    },
    {
      "cell_type": "code",
      "execution_count": 42,
      "metadata": {
        "colab": {
          "base_uri": "https://localhost:8080/"
        },
        "id": "y48QRGVlxgkQ",
        "outputId": "dc45981f-5c39-4a87-c819-59c85aa41bbb"
      },
      "outputs": [
        {
          "name": "stdout",
          "output_type": "stream",
          "text": [
            "1\n"
          ]
        }
      ],
      "source": [
        "print(y_pred)"
      ]
    },
    {
      "cell_type": "markdown",
      "metadata": {
        "id": "JfOfYYtiTcWX"
      },
      "source": [
        "## Redes Neurais para Análise de Sentimentos\n",
        "Vamos importar dados de reviews do Play Store e criar uma rede neural para classificar o comentário em positivo, neutro ou negativo. Utilizaremos o BOW para transformar o texto em números para que a rede possa entender."
      ]
    },
    {
      "cell_type": "markdown",
      "metadata": {
        "id": "CLEqaGXIUNOa"
      },
      "source": [
        "Obs: O dataset, a preparação do ambiente e o pré-processamento dos dados foram feitos pelo professor [Sávio Teles](https://www.linkedin.com/in/savio-teles-6707b111?miniProfileUrn=urn%3Ali%3Afs_miniProfile%3AACoAAAJuaXQBgXnWG-u9VN8L4bYxB8zMEy5dQPA&lipi=urn%3Ali%3Apage%3Ad_flagship3_search_srp_all%3BxTHvVOGcR1yYLjWzMDshDg%3D%3D) no Workshop de LLMs."
      ]
    },
    {
      "cell_type": "markdown",
      "metadata": {
        "id": "_GGKmkIWV47s"
      },
      "source": [
        "### Preparação dos dados:"
      ]
    },
    {
      "cell_type": "markdown",
      "metadata": {
        "id": "bwWn9qUD0pEs"
      },
      "source": [
        "#### Configurando o ambiente de execução"
      ]
    },
    {
      "cell_type": "code",
      "execution_count": 1,
      "metadata": {
        "id": "8uaEXidxSWAT"
      },
      "outputs": [],
      "source": [
        "import numpy as np\n",
        "import pandas as pd\n",
        "\n",
        "pd.set_option('display.max_colwidth',1000)"
      ]
    },
    {
      "cell_type": "markdown",
      "metadata": {
        "id": "JUUDYHVoK5af"
      },
      "source": [
        "#### Explorando os dados de treinamento\n",
        "Iremos baixar o arquivo `reviews_complete.csv` que contém quase **12k reviews** de aplicativos do PlayStore."
      ]
    },
    {
      "cell_type": "code",
      "execution_count": 2,
      "metadata": {
        "colab": {
          "base_uri": "https://localhost:8080/"
        },
        "id": "2t36bWtVTRYs",
        "outputId": "3617fe56-3bdb-47d8-822d-c16a2c2bcd89"
      },
      "outputs": [
        {
          "name": "stderr",
          "output_type": "stream",
          "text": [
            "Downloading...\n",
            "From: https://drive.google.com/uc?id=1wf-3sf_zkSi1VMhVSMcWfyX7wWVEY2R5\n",
            "To: c:\\Users\\ferna\\OneDrive\\Documentos\\RedesNeurais\\reviews.csv\n",
            "\n",
            "  0%|          | 0.00/6.78M [00:00<?, ?B/s]\n",
            "  8%|▊         | 524k/6.78M [00:00<00:04, 1.36MB/s]\n",
            " 15%|█▌        | 1.05M/6.78M [00:00<00:03, 1.69MB/s]\n",
            " 23%|██▎       | 1.57M/6.78M [00:00<00:02, 2.07MB/s]\n",
            " 31%|███       | 2.10M/6.78M [00:01<00:01, 2.35MB/s]\n",
            " 46%|████▋     | 3.15M/6.78M [00:01<00:01, 3.14MB/s]\n",
            " 54%|█████▍    | 3.67M/6.78M [00:01<00:00, 3.43MB/s]\n",
            " 62%|██████▏   | 4.19M/6.78M [00:01<00:00, 2.97MB/s]\n",
            " 77%|███████▋  | 5.24M/6.78M [00:01<00:00, 3.35MB/s]\n",
            " 85%|████████▌ | 5.77M/6.78M [00:01<00:00, 3.56MB/s]\n",
            "100%|██████████| 6.78M/6.78M [00:02<00:00, 4.21MB/s]\n",
            "100%|██████████| 6.78M/6.78M [00:02<00:00, 3.16MB/s]\n"
          ]
        }
      ],
      "source": [
        "!gdown 1wf-3sf_zkSi1VMhVSMcWfyX7wWVEY2R5"
      ]
    },
    {
      "cell_type": "code",
      "execution_count": 3,
      "metadata": {
        "id": "I8CVBh6xU2rA"
      },
      "outputs": [],
      "source": [
        "df = pd.read_csv(\"reviews.csv\")"
      ]
    },
    {
      "cell_type": "code",
      "execution_count": 4,
      "metadata": {
        "colab": {
          "base_uri": "https://localhost:8080/",
          "height": 535
        },
        "id": "CJMXQZEzU3Jx",
        "outputId": "5653234b-1afc-4429-a975-2a592e7c8b4d"
      },
      "outputs": [
        {
          "data": {
            "text/html": [
              "<div>\n",
              "<style scoped>\n",
              "    .dataframe tbody tr th:only-of-type {\n",
              "        vertical-align: middle;\n",
              "    }\n",
              "\n",
              "    .dataframe tbody tr th {\n",
              "        vertical-align: top;\n",
              "    }\n",
              "\n",
              "    .dataframe thead th {\n",
              "        text-align: right;\n",
              "    }\n",
              "</style>\n",
              "<table border=\"1\" class=\"dataframe\">\n",
              "  <thead>\n",
              "    <tr style=\"text-align: right;\">\n",
              "      <th></th>\n",
              "      <th>reviewId</th>\n",
              "      <th>userName</th>\n",
              "      <th>userImage</th>\n",
              "      <th>content</th>\n",
              "      <th>score</th>\n",
              "      <th>thumbsUpCount</th>\n",
              "      <th>reviewCreatedVersion</th>\n",
              "      <th>at</th>\n",
              "      <th>replyContent</th>\n",
              "      <th>repliedAt</th>\n",
              "      <th>sortOrder</th>\n",
              "      <th>appId</th>\n",
              "      <th>sentiment</th>\n",
              "    </tr>\n",
              "  </thead>\n",
              "  <tbody>\n",
              "    <tr>\n",
              "      <th>0</th>\n",
              "      <td>28d8bde6-09a2-4b70-81d0-98bca41600f0</td>\n",
              "      <td>Hipólito Mota</td>\n",
              "      <td>https://play-lh.googleusercontent.com/a-/ACNPEu_S0oCMDOcgrovV02UhlQG-HTIdzp--kxK4a4yk</td>\n",
              "      <td>Horrível. Informação enganadora, principalmente nas medidas. Dois produtos com a mesma suposta medida de peito e ombros, e os dois completamente diferentes. Um é claramente 2 ou 3 tamanhos acima do outro. Além do mais muito caro para a qualidade que apresenta o material. Primeira e última compra.</td>\n",
              "      <td>1</td>\n",
              "      <td>9</td>\n",
              "      <td>8.6.6</td>\n",
              "      <td>2022-11-04 12:58:10</td>\n",
              "      <td>Olá, obrigada pela sua avaliação. Caso tenha algum problema, não hesite em contactar connosco via opção de suportar em APP. Por favor, clique \"mim\"-→suportar-→serviço ao cliente e depois insira【Fala com agente】e entregue um bilhete para nós. Estamos sempre dispostos em servi-lo.</td>\n",
              "      <td>2022-11-05 01:31:28</td>\n",
              "      <td>most_relevant</td>\n",
              "      <td>com.zzkko</td>\n",
              "      <td>0</td>\n",
              "    </tr>\n",
              "  </tbody>\n",
              "</table>\n",
              "</div>"
            ],
            "text/plain": [
              "                               reviewId       userName  \\\n",
              "0  28d8bde6-09a2-4b70-81d0-98bca41600f0  Hipólito Mota   \n",
              "\n",
              "                                                                               userImage  \\\n",
              "0  https://play-lh.googleusercontent.com/a-/ACNPEu_S0oCMDOcgrovV02UhlQG-HTIdzp--kxK4a4yk   \n",
              "\n",
              "                                                                                                                                                                                                                                                                                                     content  \\\n",
              "0  Horrível. Informação enganadora, principalmente nas medidas. Dois produtos com a mesma suposta medida de peito e ombros, e os dois completamente diferentes. Um é claramente 2 ou 3 tamanhos acima do outro. Além do mais muito caro para a qualidade que apresenta o material. Primeira e última compra.   \n",
              "\n",
              "   score  thumbsUpCount reviewCreatedVersion                   at  \\\n",
              "0      1              9                8.6.6  2022-11-04 12:58:10   \n",
              "\n",
              "                                                                                                                                                                                                                                                                              replyContent  \\\n",
              "0  Olá, obrigada pela sua avaliação. Caso tenha algum problema, não hesite em contactar connosco via opção de suportar em APP. Por favor, clique \"mim\"-→suportar-→serviço ao cliente e depois insira【Fala com agente】e entregue um bilhete para nós. Estamos sempre dispostos em servi-lo.   \n",
              "\n",
              "             repliedAt      sortOrder      appId  sentiment  \n",
              "0  2022-11-05 01:31:28  most_relevant  com.zzkko          0  "
            ]
          },
          "execution_count": 4,
          "metadata": {},
          "output_type": "execute_result"
        }
      ],
      "source": [
        "df.head(1)"
      ]
    },
    {
      "cell_type": "markdown",
      "metadata": {
        "id": "vuqihCscVLm2"
      },
      "source": [
        "#### Preparando o ambiente\n",
        "\n",
        "Foi utilizada a bilioteca nltk para facilitar o processamento dos textos.\n",
        "\n",
        "Aqui utilizamos quatro pacotes do nltk:\n",
        "\n",
        "* **stopwords**: pacote com uma lista de stopwords, incluíndo a língua portuguesa.\n",
        "* **punkt**: pacote para tokenização que divide um texto em uma lista de sentenças utilizando um algoritmo não supervisionado.\n",
        "* **wordnet**: banco de dados léxicos. Aqui utilizamos na operação de Lemmatization.\n",
        "* **omw-1.4**: Open Multilingual Wordnet. Aqui utilizamos na operação de Lemmatization."
      ]
    },
    {
      "cell_type": "code",
      "execution_count": 5,
      "metadata": {
        "colab": {
          "base_uri": "https://localhost:8080/"
        },
        "id": "6fadhOYTqwEv",
        "outputId": "3dbd4b5b-c4a1-47fa-8d5e-e3eef09d3851"
      },
      "outputs": [
        {
          "name": "stderr",
          "output_type": "stream",
          "text": [
            "[nltk_data] Downloading package stopwords to\n",
            "[nltk_data]     C:\\Users\\ferna\\AppData\\Roaming\\nltk_data...\n",
            "[nltk_data]   Package stopwords is already up-to-date!\n",
            "[nltk_data] Downloading package punkt to\n",
            "[nltk_data]     C:\\Users\\ferna\\AppData\\Roaming\\nltk_data...\n",
            "[nltk_data]   Package punkt is already up-to-date!\n",
            "[nltk_data] Downloading package wordnet to\n",
            "[nltk_data]     C:\\Users\\ferna\\AppData\\Roaming\\nltk_data...\n",
            "[nltk_data]   Package wordnet is already up-to-date!\n",
            "[nltk_data] Downloading package omw-1.4 to\n",
            "[nltk_data]     C:\\Users\\ferna\\AppData\\Roaming\\nltk_data...\n",
            "[nltk_data]   Package omw-1.4 is already up-to-date!\n"
          ]
        },
        {
          "data": {
            "text/plain": [
              "True"
            ]
          },
          "execution_count": 5,
          "metadata": {},
          "output_type": "execute_result"
        }
      ],
      "source": [
        "import nltk\n",
        "from nltk.corpus import stopwords\n",
        "nltk.download('stopwords')\n",
        "nltk.download('punkt')\n",
        "nltk.download('wordnet')\n",
        "nltk.download('omw-1.4')"
      ]
    },
    {
      "cell_type": "code",
      "execution_count": 6,
      "metadata": {
        "colab": {
          "base_uri": "https://localhost:8080/"
        },
        "id": "SKMKP21JIbud",
        "outputId": "a2bd5577-0634-47fc-e1a4-88d74a0267d9"
      },
      "outputs": [
        {
          "name": "stdout",
          "output_type": "stream",
          "text": [
            "Requirement already satisfied: spacy in c:\\users\\ferna\\appdata\\local\\programs\\python\\python39\\lib\\site-packages (3.7.5)\n",
            "Requirement already satisfied: preshed<3.1.0,>=3.0.2 in c:\\users\\ferna\\appdata\\local\\programs\\python\\python39\\lib\\site-packages (from spacy) (3.0.9)\n",
            "Requirement already satisfied: thinc<8.3.0,>=8.2.2 in c:\\users\\ferna\\appdata\\local\\programs\\python\\python39\\lib\\site-packages (from spacy) (8.2.5)\n",
            "Requirement already satisfied: packaging>=20.0 in c:\\users\\ferna\\appdata\\local\\programs\\python\\python39\\lib\\site-packages (from spacy) (24.1)\n",
            "Requirement already satisfied: weasel<0.5.0,>=0.1.0 in c:\\users\\ferna\\appdata\\local\\programs\\python\\python39\\lib\\site-packages (from spacy) (0.4.1)\n",
            "Requirement already satisfied: tqdm<5.0.0,>=4.38.0 in c:\\users\\ferna\\appdata\\local\\programs\\python\\python39\\lib\\site-packages (from spacy) (4.66.2)\n",
            "Requirement already satisfied: spacy-loggers<2.0.0,>=1.0.0 in c:\\users\\ferna\\appdata\\local\\programs\\python\\python39\\lib\\site-packages (from spacy) (1.0.5)\n",
            "Requirement already satisfied: pydantic!=1.8,!=1.8.1,<3.0.0,>=1.7.4 in c:\\users\\ferna\\appdata\\local\\programs\\python\\python39\\lib\\site-packages (from spacy) (2.7.4)\n",
            "Requirement already satisfied: numpy>=1.19.0 in c:\\users\\ferna\\appdata\\local\\programs\\python\\python39\\lib\\site-packages (from spacy) (1.24.4)\n",
            "Requirement already satisfied: typer<1.0.0,>=0.3.0 in c:\\users\\ferna\\appdata\\local\\programs\\python\\python39\\lib\\site-packages (from spacy) (0.12.3)\n",
            "Requirement already satisfied: wasabi<1.2.0,>=0.9.1 in c:\\users\\ferna\\appdata\\local\\programs\\python\\python39\\lib\\site-packages (from spacy) (1.1.3)\n",
            "Requirement already satisfied: srsly<3.0.0,>=2.4.3 in c:\\users\\ferna\\appdata\\local\\programs\\python\\python39\\lib\\site-packages (from spacy) (2.4.8)\n",
            "Requirement already satisfied: requests<3.0.0,>=2.13.0 in c:\\users\\ferna\\appdata\\local\\programs\\python\\python39\\lib\\site-packages (from spacy) (2.31.0)\n",
            "Requirement already satisfied: jinja2 in c:\\users\\ferna\\appdata\\local\\programs\\python\\python39\\lib\\site-packages (from spacy) (3.1.4)\n",
            "Requirement already satisfied: setuptools in c:\\users\\ferna\\appdata\\local\\programs\\python\\python39\\lib\\site-packages (from spacy) (58.1.0)\n",
            "Requirement already satisfied: catalogue<2.1.0,>=2.0.6 in c:\\users\\ferna\\appdata\\local\\programs\\python\\python39\\lib\\site-packages (from spacy) (2.0.10)\n",
            "Requirement already satisfied: murmurhash<1.1.0,>=0.28.0 in c:\\users\\ferna\\appdata\\local\\programs\\python\\python39\\lib\\site-packages (from spacy) (1.0.10)\n",
            "Requirement already satisfied: cymem<2.1.0,>=2.0.2 in c:\\users\\ferna\\appdata\\local\\programs\\python\\python39\\lib\\site-packages (from spacy) (2.0.8)\n",
            "Requirement already satisfied: spacy-legacy<3.1.0,>=3.0.11 in c:\\users\\ferna\\appdata\\local\\programs\\python\\python39\\lib\\site-packages (from spacy) (3.0.12)\n",
            "Requirement already satisfied: langcodes<4.0.0,>=3.2.0 in c:\\users\\ferna\\appdata\\local\\programs\\python\\python39\\lib\\site-packages (from spacy) (3.4.0)\n",
            "Requirement already satisfied: language-data>=1.2 in c:\\users\\ferna\\appdata\\local\\programs\\python\\python39\\lib\\site-packages (from langcodes<4.0.0,>=3.2.0->spacy) (1.2.0)\n",
            "Requirement already satisfied: pydantic-core==2.18.4 in c:\\users\\ferna\\appdata\\local\\programs\\python\\python39\\lib\\site-packages (from pydantic!=1.8,!=1.8.1,<3.0.0,>=1.7.4->spacy) (2.18.4)\n",
            "Requirement already satisfied: typing-extensions>=4.6.1 in c:\\users\\ferna\\appdata\\local\\programs\\python\\python39\\lib\\site-packages (from pydantic!=1.8,!=1.8.1,<3.0.0,>=1.7.4->spacy) (4.12.2)\n",
            "Requirement already satisfied: annotated-types>=0.4.0 in c:\\users\\ferna\\appdata\\local\\programs\\python\\python39\\lib\\site-packages (from pydantic!=1.8,!=1.8.1,<3.0.0,>=1.7.4->spacy) (0.7.0)\n",
            "Requirement already satisfied: charset-normalizer<4,>=2 in c:\\users\\ferna\\appdata\\local\\programs\\python\\python39\\lib\\site-packages (from requests<3.0.0,>=2.13.0->spacy) (3.3.2)\n",
            "Requirement already satisfied: certifi>=2017.4.17 in c:\\users\\ferna\\appdata\\local\\programs\\python\\python39\\lib\\site-packages (from requests<3.0.0,>=2.13.0->spacy) (2023.7.22)\n",
            "Requirement already satisfied: urllib3<3,>=1.21.1 in c:\\users\\ferna\\appdata\\local\\programs\\python\\python39\\lib\\site-packages (from requests<3.0.0,>=2.13.0->spacy) (2.1.0)\n",
            "Requirement already satisfied: idna<4,>=2.5 in c:\\users\\ferna\\appdata\\local\\programs\\python\\python39\\lib\\site-packages (from requests<3.0.0,>=2.13.0->spacy) (3.4)\n",
            "Requirement already satisfied: confection<1.0.0,>=0.0.1 in c:\\users\\ferna\\appdata\\local\\programs\\python\\python39\\lib\\site-packages (from thinc<8.3.0,>=8.2.2->spacy) (0.1.5)\n",
            "Requirement already satisfied: blis<0.8.0,>=0.7.8 in c:\\users\\ferna\\appdata\\local\\programs\\python\\python39\\lib\\site-packages (from thinc<8.3.0,>=8.2.2->spacy) (0.7.11)\n",
            "Requirement already satisfied: colorama in c:\\users\\ferna\\appdata\\local\\programs\\python\\python39\\lib\\site-packages (from tqdm<5.0.0,>=4.38.0->spacy) (0.4.6)\n",
            "Requirement already satisfied: shellingham>=1.3.0 in c:\\users\\ferna\\appdata\\local\\programs\\python\\python39\\lib\\site-packages (from typer<1.0.0,>=0.3.0->spacy) (1.5.4)\n",
            "Requirement already satisfied: rich>=10.11.0 in c:\\users\\ferna\\appdata\\local\\programs\\python\\python39\\lib\\site-packages (from typer<1.0.0,>=0.3.0->spacy) (13.7.1)\n",
            "Requirement already satisfied: click>=8.0.0 in c:\\users\\ferna\\appdata\\local\\programs\\python\\python39\\lib\\site-packages (from typer<1.0.0,>=0.3.0->spacy) (8.1.7)\n",
            "Requirement already satisfied: cloudpathlib<1.0.0,>=0.7.0 in c:\\users\\ferna\\appdata\\local\\programs\\python\\python39\\lib\\site-packages (from weasel<0.5.0,>=0.1.0->spacy) (0.18.1)\n",
            "Requirement already satisfied: smart-open<8.0.0,>=5.2.1 in c:\\users\\ferna\\appdata\\local\\programs\\python\\python39\\lib\\site-packages (from weasel<0.5.0,>=0.1.0->spacy) (7.0.4)\n",
            "Requirement already satisfied: MarkupSafe>=2.0 in c:\\users\\ferna\\appdata\\local\\programs\\python\\python39\\lib\\site-packages (from jinja2->spacy) (2.1.5)\n",
            "Requirement already satisfied: marisa-trie>=0.7.7 in c:\\users\\ferna\\appdata\\local\\programs\\python\\python39\\lib\\site-packages (from language-data>=1.2->langcodes<4.0.0,>=3.2.0->spacy) (1.2.0)\n",
            "Requirement already satisfied: pygments<3.0.0,>=2.13.0 in c:\\users\\ferna\\appdata\\local\\programs\\python\\python39\\lib\\site-packages (from rich>=10.11.0->typer<1.0.0,>=0.3.0->spacy) (2.18.0)\n",
            "Requirement already satisfied: markdown-it-py>=2.2.0 in c:\\users\\ferna\\appdata\\local\\programs\\python\\python39\\lib\\site-packages (from rich>=10.11.0->typer<1.0.0,>=0.3.0->spacy) (3.0.0)\n",
            "Requirement already satisfied: wrapt in c:\\users\\ferna\\appdata\\local\\programs\\python\\python39\\lib\\site-packages (from smart-open<8.0.0,>=5.2.1->weasel<0.5.0,>=0.1.0->spacy) (1.16.0)\n",
            "Requirement already satisfied: mdurl~=0.1 in c:\\users\\ferna\\appdata\\local\\programs\\python\\python39\\lib\\site-packages (from markdown-it-py>=2.2.0->rich>=10.11.0->typer<1.0.0,>=0.3.0->spacy) (0.1.2)\n"
          ]
        },
        {
          "name": "stderr",
          "output_type": "stream",
          "text": [
            "WARNING: You are using pip version 22.0.4; however, version 24.1 is available.\n",
            "You should consider upgrading via the 'C:\\Users\\ferna\\AppData\\Local\\Programs\\Python\\Python39\\python.exe -m pip install --upgrade pip' command.\n"
          ]
        },
        {
          "name": "stdout",
          "output_type": "stream",
          "text": [
            "Collecting pt-core-news-sm==3.7.0\n",
            "  Downloading https://github.com/explosion/spacy-models/releases/download/pt_core_news_sm-3.7.0/pt_core_news_sm-3.7.0-py3-none-any.whl (13.0 MB)\n",
            "     ---------------------------------------- 13.0/13.0 MB 4.6 MB/s eta 0:00:00\n",
            "Requirement already satisfied: spacy<3.8.0,>=3.7.0 in c:\\users\\ferna\\appdata\\local\\programs\\python\\python39\\lib\\site-packages (from pt-core-news-sm==3.7.0) (3.7.5)\n",
            "Requirement already satisfied: packaging>=20.0 in c:\\users\\ferna\\appdata\\local\\programs\\python\\python39\\lib\\site-packages (from spacy<3.8.0,>=3.7.0->pt-core-news-sm==3.7.0) (24.1)\n",
            "Requirement already satisfied: spacy-legacy<3.1.0,>=3.0.11 in c:\\users\\ferna\\appdata\\local\\programs\\python\\python39\\lib\\site-packages (from spacy<3.8.0,>=3.7.0->pt-core-news-sm==3.7.0) (3.0.12)\n",
            "Requirement already satisfied: thinc<8.3.0,>=8.2.2 in c:\\users\\ferna\\appdata\\local\\programs\\python\\python39\\lib\\site-packages (from spacy<3.8.0,>=3.7.0->pt-core-news-sm==3.7.0) (8.2.5)\n",
            "Requirement already satisfied: requests<3.0.0,>=2.13.0 in c:\\users\\ferna\\appdata\\local\\programs\\python\\python39\\lib\\site-packages (from spacy<3.8.0,>=3.7.0->pt-core-news-sm==3.7.0) (2.31.0)\n",
            "Requirement already satisfied: langcodes<4.0.0,>=3.2.0 in c:\\users\\ferna\\appdata\\local\\programs\\python\\python39\\lib\\site-packages (from spacy<3.8.0,>=3.7.0->pt-core-news-sm==3.7.0) (3.4.0)\n",
            "Requirement already satisfied: catalogue<2.1.0,>=2.0.6 in c:\\users\\ferna\\appdata\\local\\programs\\python\\python39\\lib\\site-packages (from spacy<3.8.0,>=3.7.0->pt-core-news-sm==3.7.0) (2.0.10)\n",
            "Requirement already satisfied: weasel<0.5.0,>=0.1.0 in c:\\users\\ferna\\appdata\\local\\programs\\python\\python39\\lib\\site-packages (from spacy<3.8.0,>=3.7.0->pt-core-news-sm==3.7.0) (0.4.1)\n",
            "Requirement already satisfied: pydantic!=1.8,!=1.8.1,<3.0.0,>=1.7.4 in c:\\users\\ferna\\appdata\\local\\programs\\python\\python39\\lib\\site-packages (from spacy<3.8.0,>=3.7.0->pt-core-news-sm==3.7.0) (2.7.4)\n",
            "Requirement already satisfied: jinja2 in c:\\users\\ferna\\appdata\\local\\programs\\python\\python39\\lib\\site-packages (from spacy<3.8.0,>=3.7.0->pt-core-news-sm==3.7.0) (3.1.4)\n",
            "Requirement already satisfied: cymem<2.1.0,>=2.0.2 in c:\\users\\ferna\\appdata\\local\\programs\\python\\python39\\lib\\site-packages (from spacy<3.8.0,>=3.7.0->pt-core-news-sm==3.7.0) (2.0.8)\n",
            "Requirement already satisfied: murmurhash<1.1.0,>=0.28.0 in c:\\users\\ferna\\appdata\\local\\programs\\python\\python39\\lib\\site-packages (from spacy<3.8.0,>=3.7.0->pt-core-news-sm==3.7.0) (1.0.10)\n",
            "Requirement already satisfied: tqdm<5.0.0,>=4.38.0 in c:\\users\\ferna\\appdata\\local\\programs\\python\\python39\\lib\\site-packages (from spacy<3.8.0,>=3.7.0->pt-core-news-sm==3.7.0) (4.66.2)\n",
            "Requirement already satisfied: setuptools in c:\\users\\ferna\\appdata\\local\\programs\\python\\python39\\lib\\site-packages (from spacy<3.8.0,>=3.7.0->pt-core-news-sm==3.7.0) (58.1.0)\n",
            "Requirement already satisfied: preshed<3.1.0,>=3.0.2 in c:\\users\\ferna\\appdata\\local\\programs\\python\\python39\\lib\\site-packages (from spacy<3.8.0,>=3.7.0->pt-core-news-sm==3.7.0) (3.0.9)\n",
            "Requirement already satisfied: typer<1.0.0,>=0.3.0 in c:\\users\\ferna\\appdata\\local\\programs\\python\\python39\\lib\\site-packages (from spacy<3.8.0,>=3.7.0->pt-core-news-sm==3.7.0) (0.12.3)\n",
            "Requirement already satisfied: srsly<3.0.0,>=2.4.3 in c:\\users\\ferna\\appdata\\local\\programs\\python\\python39\\lib\\site-packages (from spacy<3.8.0,>=3.7.0->pt-core-news-sm==3.7.0) (2.4.8)\n",
            "Requirement already satisfied: numpy>=1.19.0 in c:\\users\\ferna\\appdata\\local\\programs\\python\\python39\\lib\\site-packages (from spacy<3.8.0,>=3.7.0->pt-core-news-sm==3.7.0) (1.24.4)\n",
            "Requirement already satisfied: spacy-loggers<2.0.0,>=1.0.0 in c:\\users\\ferna\\appdata\\local\\programs\\python\\python39\\lib\\site-packages (from spacy<3.8.0,>=3.7.0->pt-core-news-sm==3.7.0) (1.0.5)\n",
            "Requirement already satisfied: wasabi<1.2.0,>=0.9.1 in c:\\users\\ferna\\appdata\\local\\programs\\python\\python39\\lib\\site-packages (from spacy<3.8.0,>=3.7.0->pt-core-news-sm==3.7.0) (1.1.3)\n",
            "Requirement already satisfied: language-data>=1.2 in c:\\users\\ferna\\appdata\\local\\programs\\python\\python39\\lib\\site-packages (from langcodes<4.0.0,>=3.2.0->spacy<3.8.0,>=3.7.0->pt-core-news-sm==3.7.0) (1.2.0)\n",
            "Requirement already satisfied: typing-extensions>=4.6.1 in c:\\users\\ferna\\appdata\\local\\programs\\python\\python39\\lib\\site-packages (from pydantic!=1.8,!=1.8.1,<3.0.0,>=1.7.4->spacy<3.8.0,>=3.7.0->pt-core-news-sm==3.7.0) (4.12.2)\n",
            "Requirement already satisfied: annotated-types>=0.4.0 in c:\\users\\ferna\\appdata\\local\\programs\\python\\python39\\lib\\site-packages (from pydantic!=1.8,!=1.8.1,<3.0.0,>=1.7.4->spacy<3.8.0,>=3.7.0->pt-core-news-sm==3.7.0) (0.7.0)\n",
            "Requirement already satisfied: pydantic-core==2.18.4 in c:\\users\\ferna\\appdata\\local\\programs\\python\\python39\\lib\\site-packages (from pydantic!=1.8,!=1.8.1,<3.0.0,>=1.7.4->spacy<3.8.0,>=3.7.0->pt-core-news-sm==3.7.0) (2.18.4)\n",
            "Requirement already satisfied: charset-normalizer<4,>=2 in c:\\users\\ferna\\appdata\\local\\programs\\python\\python39\\lib\\site-packages (from requests<3.0.0,>=2.13.0->spacy<3.8.0,>=3.7.0->pt-core-news-sm==3.7.0) (3.3.2)\n",
            "Requirement already satisfied: urllib3<3,>=1.21.1 in c:\\users\\ferna\\appdata\\local\\programs\\python\\python39\\lib\\site-packages (from requests<3.0.0,>=2.13.0->spacy<3.8.0,>=3.7.0->pt-core-news-sm==3.7.0) (2.1.0)\n",
            "Requirement already satisfied: idna<4,>=2.5 in c:\\users\\ferna\\appdata\\local\\programs\\python\\python39\\lib\\site-packages (from requests<3.0.0,>=2.13.0->spacy<3.8.0,>=3.7.0->pt-core-news-sm==3.7.0) (3.4)\n",
            "Requirement already satisfied: certifi>=2017.4.17 in c:\\users\\ferna\\appdata\\local\\programs\\python\\python39\\lib\\site-packages (from requests<3.0.0,>=2.13.0->spacy<3.8.0,>=3.7.0->pt-core-news-sm==3.7.0) (2023.7.22)\n",
            "Requirement already satisfied: confection<1.0.0,>=0.0.1 in c:\\users\\ferna\\appdata\\local\\programs\\python\\python39\\lib\\site-packages (from thinc<8.3.0,>=8.2.2->spacy<3.8.0,>=3.7.0->pt-core-news-sm==3.7.0) (0.1.5)\n",
            "Requirement already satisfied: blis<0.8.0,>=0.7.8 in c:\\users\\ferna\\appdata\\local\\programs\\python\\python39\\lib\\site-packages (from thinc<8.3.0,>=8.2.2->spacy<3.8.0,>=3.7.0->pt-core-news-sm==3.7.0) (0.7.11)\n",
            "Requirement already satisfied: colorama in c:\\users\\ferna\\appdata\\local\\programs\\python\\python39\\lib\\site-packages (from tqdm<5.0.0,>=4.38.0->spacy<3.8.0,>=3.7.0->pt-core-news-sm==3.7.0) (0.4.6)\n",
            "Requirement already satisfied: rich>=10.11.0 in c:\\users\\ferna\\appdata\\local\\programs\\python\\python39\\lib\\site-packages (from typer<1.0.0,>=0.3.0->spacy<3.8.0,>=3.7.0->pt-core-news-sm==3.7.0) (13.7.1)\n",
            "Requirement already satisfied: shellingham>=1.3.0 in c:\\users\\ferna\\appdata\\local\\programs\\python\\python39\\lib\\site-packages (from typer<1.0.0,>=0.3.0->spacy<3.8.0,>=3.7.0->pt-core-news-sm==3.7.0) (1.5.4)\n",
            "Requirement already satisfied: click>=8.0.0 in c:\\users\\ferna\\appdata\\local\\programs\\python\\python39\\lib\\site-packages (from typer<1.0.0,>=0.3.0->spacy<3.8.0,>=3.7.0->pt-core-news-sm==3.7.0) (8.1.7)\n",
            "Requirement already satisfied: cloudpathlib<1.0.0,>=0.7.0 in c:\\users\\ferna\\appdata\\local\\programs\\python\\python39\\lib\\site-packages (from weasel<0.5.0,>=0.1.0->spacy<3.8.0,>=3.7.0->pt-core-news-sm==3.7.0) (0.18.1)\n",
            "Requirement already satisfied: smart-open<8.0.0,>=5.2.1 in c:\\users\\ferna\\appdata\\local\\programs\\python\\python39\\lib\\site-packages (from weasel<0.5.0,>=0.1.0->spacy<3.8.0,>=3.7.0->pt-core-news-sm==3.7.0) (7.0.4)\n",
            "Requirement already satisfied: MarkupSafe>=2.0 in c:\\users\\ferna\\appdata\\local\\programs\\python\\python39\\lib\\site-packages (from jinja2->spacy<3.8.0,>=3.7.0->pt-core-news-sm==3.7.0) (2.1.5)\n",
            "Requirement already satisfied: marisa-trie>=0.7.7 in c:\\users\\ferna\\appdata\\local\\programs\\python\\python39\\lib\\site-packages (from language-data>=1.2->langcodes<4.0.0,>=3.2.0->spacy<3.8.0,>=3.7.0->pt-core-news-sm==3.7.0) (1.2.0)\n",
            "Requirement already satisfied: pygments<3.0.0,>=2.13.0 in c:\\users\\ferna\\appdata\\local\\programs\\python\\python39\\lib\\site-packages (from rich>=10.11.0->typer<1.0.0,>=0.3.0->spacy<3.8.0,>=3.7.0->pt-core-news-sm==3.7.0) (2.18.0)\n",
            "Requirement already satisfied: markdown-it-py>=2.2.0 in c:\\users\\ferna\\appdata\\local\\programs\\python\\python39\\lib\\site-packages (from rich>=10.11.0->typer<1.0.0,>=0.3.0->spacy<3.8.0,>=3.7.0->pt-core-news-sm==3.7.0) (3.0.0)\n",
            "Requirement already satisfied: wrapt in c:\\users\\ferna\\appdata\\local\\programs\\python\\python39\\lib\\site-packages (from smart-open<8.0.0,>=5.2.1->weasel<0.5.0,>=0.1.0->spacy<3.8.0,>=3.7.0->pt-core-news-sm==3.7.0) (1.16.0)\n",
            "Requirement already satisfied: mdurl~=0.1 in c:\\users\\ferna\\appdata\\local\\programs\\python\\python39\\lib\\site-packages (from markdown-it-py>=2.2.0->rich>=10.11.0->typer<1.0.0,>=0.3.0->spacy<3.8.0,>=3.7.0->pt-core-news-sm==3.7.0) (0.1.2)\n",
            "\u001b[38;5;2m✔ Download and installation successful\u001b[0m\n",
            "You can now load the package via spacy.load('pt_core_news_sm')\n"
          ]
        },
        {
          "name": "stderr",
          "output_type": "stream",
          "text": [
            "WARNING: You are using pip version 22.0.4; however, version 24.1 is available.\n",
            "You should consider upgrading via the 'c:\\Users\\ferna\\AppData\\Local\\Programs\\Python\\Python39\\python.exe -m pip install --upgrade pip' command.\n"
          ]
        }
      ],
      "source": [
        "!pip install spacy\n",
        "!python -m spacy download pt_core_news_sm"
      ]
    },
    {
      "cell_type": "code",
      "execution_count": 7,
      "metadata": {
        "id": "HjHg6bqiI0GV"
      },
      "outputs": [],
      "source": [
        "import spacy\n",
        "nlp = spacy.load('pt_core_news_sm')"
      ]
    },
    {
      "cell_type": "markdown",
      "metadata": {
        "id": "C98Z4leEd_f4"
      },
      "source": [
        "#### Pré-processamento dos dados\n",
        "\n",
        "O pré-processamento dos dados textuais de treinamento envolvem as seguintes tarefas:\n",
        "\n",
        "* **Normalização**: remoção de dígitos, pontuação, lower case, etc..\n",
        "* **Tokenização**: segmenta o texto em palavras\n",
        "* **Remoção de stopwords**: são um conjunto de palavras bastante utilizadas em uma linguagem e, geralmente, não tem importância para entender o significado principal do texto. Exemplo: \"o\", \"da\", \"é\" e \"para\".\n",
        "* **Lemmatization**:  processo de deflexionar uma palavra para determinar o seu lema. Por exemplo, as palavras gato, gata, gatos, gatas são todas formas do mesmo lema: gato."
      ]
    },
    {
      "cell_type": "code",
      "execution_count": 8,
      "metadata": {
        "colab": {
          "base_uri": "https://localhost:8080/"
        },
        "id": "c2RwXptxzdJM",
        "outputId": "2c167cef-872d-4644-dcdd-2a1e8c098c8d"
      },
      "outputs": [
        {
          "data": {
            "text/plain": [
              "['O',\n",
              " 'tema',\n",
              " 'do',\n",
              " 'workshop',\n",
              " 'até',\n",
              " 'que',\n",
              " 'é',\n",
              " 'bom.',\n",
              " 'O',\n",
              " 'problema',\n",
              " 'é',\n",
              " 'o',\n",
              " 'professor!']"
            ]
          },
          "execution_count": 8,
          "metadata": {},
          "output_type": "execute_result"
        }
      ],
      "source": [
        "doc = nlp(u'O tema do workshop até que é bom. O problema é o professor!')\n",
        "doc.text.split()"
      ]
    },
    {
      "cell_type": "code",
      "execution_count": 9,
      "metadata": {
        "id": "btIw6XBatFso"
      },
      "outputs": [],
      "source": [
        "from textblob import Word\n",
        "def pre_processing(df, stop_words):\n",
        "    # Lower case\n",
        "    df['content'] = df['content'].apply(lambda x: ' '.join(x.lower() for x in x.split()))\n",
        "    # remoção de dígitos ou números\n",
        "    df['content'] = df['content'].str.replace('\\d+', '')\n",
        "    # Remoção de stop words\n",
        "    df['content'] = df['content'].apply(lambda x: ' '.join(x for x in x.split() if x not in stop_words))\n",
        "    # Lemmatization\n",
        "    df['content'] = df['content'].apply(lambda row: \" \".join([w.lemma_ for w in nlp(row)]))\n",
        "    return df\n",
        "stop_words = stopwords.words('portuguese')\n",
        "df = pre_processing(df, stop_words)"
      ]
    },
    {
      "cell_type": "markdown",
      "metadata": {
        "id": "_V0Dhbjwgrtt"
      },
      "source": [
        "Pré-processamento dos dados utilizando `TfidfVectorizer` para construir o Bag of Word. Parâmetros:\n",
        "\n",
        "* **ngram_range**: os limites inferiores e superiores da faixa de valores para os n-grams. Por exemplo, o ngram_range igual a (1,2) significa que podem ser gerados unigramas e bigramas.\n",
        "* **sublinear_tf**: aplica um scaling no tf, ou seja, substitui o tf por 1 + log(tf)."
      ]
    },
    {
      "cell_type": "code",
      "execution_count": 10,
      "metadata": {
        "colab": {
          "base_uri": "https://localhost:8080/"
        },
        "id": "cv7b2IuY-eqx",
        "outputId": "1a2e40c6-5214-4122-9670-24d9b293c2cd"
      },
      "outputs": [
        {
          "data": {
            "text/plain": [
              "0                                                                                                                horrível . informação enganador , principalmente medida . dois produto mesmo suposto medida peito ombro , dois completamente diferente . claramente 2 3 tamanho acima outro . além caro qualidade apresentar material . primeiro último compra .\n",
              "1    primeiro experiência plataformo . bom preço , variedade . entregar internacional prazo . entregar nacional péssima ! ! ! ! ainda recebir produto , atrasar com si nenhum contato . apenas rastreamento dizer q entregar .... qdo ? ? ? decepcionar . continuar nenhum informação pedido super atrasar ! ! ! . \" suporte \" responder nenhum contato . absurdo\n",
              "2                     gostar nada de esse plataforma compra , fiz pedir devido problema sério endereço cancelar pedir , porém , cancelar endereço lá simplesmente existir tento contato suporte técnico consigo . horrível ! ! primeiro compra nunca mais , cliente shopee lá todo assistência preciso . ficar alertar pra gente , cuidado comprar em esse site .\n",
              "3                                                                                      péssimo . incrível poder 5 estrela , completo descaso responder mensagem absurda . fiz compra 6 item , recebir 5 ( o compra quase 1 mês , todo hoje constar \" em processamento \" ) avaliar recebir reclamar faltar . mar mensagem nada . tudo pagar , então prejuízo meu .\n",
              "4                                                                                                                                      aplicativo bom mexer . 3 primeiro compra atraso cerca 2 semana postar pedir ser dizer descrição disponível estoque . entregar atraso último pedir fiz 1 mês hoje postar , aplicativo opção cancelar compra pedir estorno .\n",
              "Name: content, dtype: object"
            ]
          },
          "execution_count": 10,
          "metadata": {},
          "output_type": "execute_result"
        }
      ],
      "source": [
        "df['content'].head()"
      ]
    },
    {
      "cell_type": "code",
      "execution_count": 11,
      "metadata": {
        "id": "XMSlKvp-qFzI"
      },
      "outputs": [],
      "source": [
        "from sklearn.feature_extraction.text import CountVectorizer, TfidfVectorizer\n",
        "from nltk.tokenize import RegexpTokenizer\n",
        "cv = TfidfVectorizer(ngram_range=(1,2),\n",
        "                     sublinear_tf=True)\n",
        "text_counts = cv.fit_transform(df['content'])"
      ]
    },
    {
      "cell_type": "code",
      "execution_count": 12,
      "metadata": {
        "colab": {
          "base_uri": "https://localhost:8080/"
        },
        "id": "e_y1XmYt-49T",
        "outputId": "18b68df0-6e93-4bc6-be79-43b7fa818eb8"
      },
      "outputs": [
        {
          "data": {
            "text/plain": [
              "(12000, 129590)"
            ]
          },
          "execution_count": 12,
          "metadata": {},
          "output_type": "execute_result"
        }
      ],
      "source": [
        "text_counts.shape"
      ]
    },
    {
      "cell_type": "markdown",
      "metadata": {
        "id": "yTw4pWHbWNAs"
      },
      "source": [
        "### Implementação da Rede Neural:"
      ]
    },
    {
      "cell_type": "markdown",
      "metadata": {
        "id": "M5eOzyjQWPyQ"
      },
      "source": [
        "Agora que temos os dados em formato numérico (que estão na variável \"text_counts\") podemos criar e treinar nosso modelo utilizando o tensorflow."
      ]
    },
    {
      "cell_type": "code",
      "execution_count": 13,
      "metadata": {
        "id": "65vBgveNWjpV"
      },
      "outputs": [],
      "source": [
        "import tensorflow as tf\n",
        "from sklearn.model_selection import train_test_split\n",
        "from tensorflow import keras\n",
        "import matplotlib.pyplot as plt\n",
        "%matplotlib inline\n",
        "import numpy as np"
      ]
    },
    {
      "cell_type": "code",
      "execution_count": 15,
      "metadata": {
        "id": "S07E3Ys9bXLs"
      },
      "outputs": [],
      "source": [
        "\n",
        "\n",
        "# Dividindo os dados em treino e teste\n",
        "X_train, X_test, y_train, y_test = train_test_split(text_counts, df['sentiment'], test_size=0.25, random_state=5)\n",
        "\n",
        "# Convertendo as labels em números\n",
        "y_train = y_train.to_numpy()\n",
        "y_test = y_test.to_numpy()\n",
        "\n",
        "# Converter a matrix esparsa do Scipy para um tensor esparso.\n",
        "def to_sparse_tensor(sparse_matrix):\n",
        "    coo = sparse_matrix.tocoo()  # Converte a matriz pro formato Cordinate\n",
        "    indices = np.array(list(zip(coo.row, coo.col)), dtype=np.int64)  # Cria indices a partir das coordenadas de elementos não-zero.\n",
        "    return tf.sparse.SparseTensor(indices=indices, values=coo.data, dense_shape=coo.shape) # retorna um SparceTensor - formato compatível com TensorFlow.\n",
        "\n",
        "#Transformando X_train e X_test para o tensor esparso\n",
        "train_sparse_tensor = to_sparse_tensor(X_train)\n",
        "test_sparse_tensor = to_sparse_tensor(X_test)\n",
        "\n",
        "# Garantindo que os tensores estão em odem\n",
        "train_sparse_tensor = tf.sparse.reorder(train_sparse_tensor)\n",
        "test_sparse_tensor = tf.sparse.reorder(test_sparse_tensor)"
      ]
    },
    {
      "cell_type": "code",
      "execution_count": 25,
      "metadata": {
        "colab": {
          "background_save": true,
          "base_uri": "https://localhost:8080/"
        },
        "id": "6zBr7q-x_mPy",
        "outputId": "d827e8b0-5371-40ae-f605-6a3849865333"
      },
      "outputs": [
        {
          "name": "stdout",
          "output_type": "stream",
          "text": [
            "Epoch 1/5\n"
          ]
        },
        {
          "name": "stderr",
          "output_type": "stream",
          "text": [
            "c:\\Users\\ferna\\AppData\\Local\\Programs\\Python\\Python39\\lib\\site-packages\\keras\\src\\layers\\core\\input_layer.py:25: UserWarning: Argument `input_shape` is deprecated. Use `shape` instead.\n",
            "  warnings.warn(\n"
          ]
        },
        {
          "name": "stdout",
          "output_type": "stream",
          "text": [
            "\u001b[1m282/282\u001b[0m \u001b[32m━━━━━━━━━━━━━━━━━━━━\u001b[0m\u001b[37m\u001b[0m \u001b[1m3s\u001b[0m 9ms/step - accuracy: 0.4484 - loss: 1.0817 - val_accuracy: 0.6290 - val_loss: 0.9847\n",
            "Epoch 2/5\n",
            "\u001b[1m282/282\u001b[0m \u001b[32m━━━━━━━━━━━━━━━━━━━━\u001b[0m\u001b[37m\u001b[0m \u001b[1m2s\u001b[0m 8ms/step - accuracy: 0.8563 - loss: 0.8104 - val_accuracy: 0.6430 - val_loss: 0.8450\n",
            "Epoch 3/5\n",
            "\u001b[1m282/282\u001b[0m \u001b[32m━━━━━━━━━━━━━━━━━━━━\u001b[0m\u001b[37m\u001b[0m \u001b[1m2s\u001b[0m 8ms/step - accuracy: 0.9343 - loss: 0.4587 - val_accuracy: 0.6427 - val_loss: 0.7871\n",
            "Epoch 4/5\n",
            "\u001b[1m282/282\u001b[0m \u001b[32m━━━━━━━━━━━━━━━━━━━━\u001b[0m\u001b[37m\u001b[0m \u001b[1m2s\u001b[0m 8ms/step - accuracy: 0.9583 - loss: 0.2712 - val_accuracy: 0.6423 - val_loss: 0.7715\n",
            "Epoch 5/5\n",
            "\u001b[1m282/282\u001b[0m \u001b[32m━━━━━━━━━━━━━━━━━━━━\u001b[0m\u001b[37m\u001b[0m \u001b[1m3s\u001b[0m 9ms/step - accuracy: 0.9689 - loss: 0.1737 - val_accuracy: 0.6330 - val_loss: 0.7759\n"
          ]
        },
        {
          "data": {
            "text/plain": [
              "<keras.src.callbacks.history.History at 0x28f72f76a00>"
            ]
          },
          "execution_count": 25,
          "metadata": {},
          "output_type": "execute_result"
        }
      ],
      "source": [
        "# Criando um modelo de rede neural sequencial que aceite o input esparso.\n",
        "# O modelo tem número de input layers do tamanho do shape de cada vetor que representa o texto\n",
        "# Possui uma camada oculta com 10 neurônios, com função de ativação ReLU\n",
        "# A camada de saída possui três neurônios, e o resultado final é uma matriz de probabilidades (criada pelo softmax)\n",
        "\n",
        "model = tf.keras.Sequential([\n",
        "    tf.keras.layers.InputLayer(input_shape=(X_train.shape[1],), sparse=True),\n",
        "    tf.keras.layers.Dense(10, activation='relu'),\n",
        "    tf.keras.layers.Dense(3, activation='softmax')\n",
        "])\n",
        "\n",
        "# O Adam mantém uma taxa de aprendizado individual e adaptativa para cada parâmetro\n",
        "# Calcula a divergência entre as distribuições de probabilidade previstas e as verdadeiras\n",
        "model.compile(optimizer='adam', loss='sparse_categorical_crossentropy', metrics=['accuracy'])\n",
        "\n",
        "# Treinando o modelo com 5\n",
        "model.fit(train_sparse_tensor, y_train, epochs=5, validation_data=(test_sparse_tensor, y_test))"
      ]
    },
    {
      "cell_type": "code",
      "execution_count": 26,
      "metadata": {
        "colab": {
          "background_save": true
        },
        "id": "BSJbFreNcNh5",
        "outputId": "a450ae08-d7fa-44dd-fe4d-df342caa9611"
      },
      "outputs": [
        {
          "name": "stdout",
          "output_type": "stream",
          "text": [
            "\u001b[1m94/94\u001b[0m \u001b[32m━━━━━━━━━━━━━━━━━━━━\u001b[0m\u001b[37m\u001b[0m \u001b[1m0s\u001b[0m 2ms/step\n",
            "Accuracy Score:  0.633\n"
          ]
        }
      ],
      "source": [
        "from sklearn import metrics\n",
        "\n",
        "predicted = model.predict(test_sparse_tensor)\n",
        "accuracy_score = metrics.accuracy_score(np.argmax(predicted, axis = 1), y_test)\n",
        "print(\"Accuracy Score: \",accuracy_score)"
      ]
    },
    {
      "cell_type": "markdown",
      "metadata": {
        "id": "O0OXl1ZriH73"
      },
      "source": [
        "### Predição com dados reais do Play Store\n",
        "\n",
        "Abaixo utilizamos alguns textos extraídos de reviews do Play Store para verificar o quão o modelo está bom em textos reais. Utilizamos 3 sentenças (1 positiva, 1 neutra e 1 negativa) para realizarmos a avaliação do modelo em algumas sentenças escolhidas."
      ]
    },
    {
      "cell_type": "code",
      "execution_count": 27,
      "metadata": {
        "id": "AXEXeTpt_L_a"
      },
      "outputs": [],
      "source": [
        "class_names = ['negative', 'neutral', 'positive']"
      ]
    },
    {
      "cell_type": "code",
      "execution_count": 28,
      "metadata": {
        "id": "EvkA1HpUsPvr"
      },
      "outputs": [],
      "source": [
        "negative_review = \"\"\"Péssimo para quem quer vender. Além das altas taxas cobradas, demora para atualizar os encaminhamentos do produto\"\"\"\n",
        "neutral_review = \"\"\"Muito prático e fácil de usar, mas para conseguir ajuda é terrível!\"\"\"\n",
        "positive_review = \"\"\"Eu adoro o app enjoei, em todos os sentidos, acho bem intuitivo, fácil de procurar os ítens que você está querendo comprar e a interface é linda, bem clean e agradável aos olhos.\"\"\"\n",
        "reviews = [negative_review, neutral_review, positive_review]"
      ]
    },
    {
      "cell_type": "code",
      "execution_count": 29,
      "metadata": {
        "colab": {
          "base_uri": "https://localhost:8080/"
        },
        "id": "3UEcQR3oZiHh",
        "outputId": "6bd7ce58-f657-492b-b32c-697f94f38700"
      },
      "outputs": [
        {
          "name": "stdout",
          "output_type": "stream",
          "text": [
            "\u001b[1m1/1\u001b[0m \u001b[32m━━━━━━━━━━━━━━━━━━━━\u001b[0m\u001b[37m\u001b[0m \u001b[1m0s\u001b[0m 44ms/step\n",
            "Review text: Péssimo para quem quer vender. Além das altas taxas cobradas, demora para atualizar os encaminhamentos do produto\n",
            "Sentiment  : negative\n",
            "\u001b[1m1/1\u001b[0m \u001b[32m━━━━━━━━━━━━━━━━━━━━\u001b[0m\u001b[37m\u001b[0m \u001b[1m0s\u001b[0m 43ms/step\n",
            "Review text: Muito prático e fácil de usar, mas para conseguir ajuda é terrível!\n",
            "Sentiment  : neutral\n",
            "\u001b[1m1/1\u001b[0m \u001b[32m━━━━━━━━━━━━━━━━━━━━\u001b[0m\u001b[37m\u001b[0m \u001b[1m0s\u001b[0m 84ms/step\n",
            "Review text: Eu adoro o app enjoei, em todos os sentidos, acho bem intuitivo, fácil de procurar os ítens que você está querendo comprar e a interface é linda, bem clean e agradável aos olhos.\n",
            "Sentiment  : positive\n"
          ]
        }
      ],
      "source": [
        "for review in reviews:\n",
        "    review_vector = cv.transform([review])  # Vectorização\n",
        "    review_sparse_tensor = to_sparse_tensor(review_vector)\n",
        "    review_sparse_tensor = tf.sparse.reorder(review_sparse_tensor)  # Reordenar o tensor esparço\n",
        "    prediction = model.predict(review_sparse_tensor)[0]\n",
        "    predicted = np.argmax(prediction)\n",
        "    print(f'Review text: {review}')\n",
        "    print(f'Sentiment  : {class_names[predicted]}')"
      ]
    },
    {
      "cell_type": "markdown",
      "metadata": {
        "id": "QHBifY-LyEr_"
      },
      "source": [
        "Fontes: https://github.com/codebasics/deep-learning-keras-tf-tutorial/tree/master, https://github.com/arnaldog12/Manual-Pratico-Deep-Learning e https://turing.inf.ufg.br/course/view.php?id=787"
      ]
    },
    {
      "cell_type": "markdown",
      "metadata": {},
      "source": []
    }
  ],
  "metadata": {
    "colab": {
      "collapsed_sections": [
        "hiGOUyEVxH21",
        "sROF9-cb0Yja",
        "K9QCf5U6nFgQ",
        "qSYVpgyoziYK"
      ],
      "provenance": []
    },
    "kernelspec": {
      "display_name": "Python 3",
      "name": "python3"
    },
    "language_info": {
      "codemirror_mode": {
        "name": "ipython",
        "version": 3
      },
      "file_extension": ".py",
      "mimetype": "text/x-python",
      "name": "python",
      "nbconvert_exporter": "python",
      "pygments_lexer": "ipython3",
      "version": "3.9.13"
    },
    "widgets": {
      "application/vnd.jupyter.widget-state+json": {
        "04fbc00808a54a0aa078145918eb23df": {
          "model_module": "@jupyter-widgets/base",
          "model_module_version": "1.2.0",
          "model_name": "LayoutModel",
          "state": {
            "_model_module": "@jupyter-widgets/base",
            "_model_module_version": "1.2.0",
            "_model_name": "LayoutModel",
            "_view_count": null,
            "_view_module": "@jupyter-widgets/base",
            "_view_module_version": "1.2.0",
            "_view_name": "LayoutView",
            "align_content": null,
            "align_items": null,
            "align_self": null,
            "border": null,
            "bottom": null,
            "display": null,
            "flex": null,
            "flex_flow": null,
            "grid_area": null,
            "grid_auto_columns": null,
            "grid_auto_flow": null,
            "grid_auto_rows": null,
            "grid_column": null,
            "grid_gap": null,
            "grid_row": null,
            "grid_template_areas": null,
            "grid_template_columns": null,
            "grid_template_rows": null,
            "height": null,
            "justify_content": null,
            "justify_items": null,
            "left": null,
            "margin": null,
            "max_height": null,
            "max_width": null,
            "min_height": null,
            "min_width": null,
            "object_fit": null,
            "object_position": null,
            "order": null,
            "overflow": null,
            "overflow_x": null,
            "overflow_y": null,
            "padding": null,
            "right": null,
            "top": null,
            "visibility": null,
            "width": null
          }
        },
        "071e68c8544747238912237392c60de0": {
          "model_module": "@jupyter-widgets/controls",
          "model_module_version": "1.5.0",
          "model_name": "FloatSliderModel",
          "state": {
            "_dom_classes": [],
            "_model_module": "@jupyter-widgets/controls",
            "_model_module_version": "1.5.0",
            "_model_name": "FloatSliderModel",
            "_view_count": null,
            "_view_module": "@jupyter-widgets/controls",
            "_view_module_version": "1.5.0",
            "_view_name": "FloatSliderView",
            "continuous_update": true,
            "description": "b",
            "description_tooltip": null,
            "disabled": false,
            "layout": "IPY_MODEL_1f7f71f6b40544ed8fa1805d59e76a50",
            "max": 1.5,
            "min": -1.5,
            "orientation": "horizontal",
            "readout": true,
            "readout_format": ".2f",
            "step": 0.01,
            "style": "IPY_MODEL_4d94048a2cbd4b76b60466bfba2e2fdb",
            "value": -0.48
          }
        },
        "0d0a11c67adf4d59847ecd25944e5ae6": {
          "model_module": "@jupyter-widgets/output",
          "model_module_version": "1.0.0",
          "model_name": "OutputModel",
          "state": {
            "_dom_classes": [],
            "_model_module": "@jupyter-widgets/output",
            "_model_module_version": "1.0.0",
            "_model_name": "OutputModel",
            "_view_count": null,
            "_view_module": "@jupyter-widgets/output",
            "_view_module_version": "1.0.0",
            "_view_name": "OutputView",
            "layout": "IPY_MODEL_acc294e411f94bf0a321ef8e1b7c404d",
            "msg_id": "",
            "outputs": [
              {
                "name": "stdout",
                "output_type": "stream",
                "text": [
                  "[-0.48 -0.83 -0.21 -0.56] => [0 0 0 0]\n"
                ]
              },
              {
                "data": {
                  "image/png": "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\n",
                  "text/plain": "<Figure size 1000x400 with 2 Axes>"
                },
                "metadata": {},
                "output_type": "display_data"
              }
            ]
          }
        },
        "1be1cfa770f94004a642c1c942cf9755": {
          "model_module": "@jupyter-widgets/controls",
          "model_module_version": "1.5.0",
          "model_name": "FloatSliderModel",
          "state": {
            "_dom_classes": [],
            "_model_module": "@jupyter-widgets/controls",
            "_model_module_version": "1.5.0",
            "_model_name": "FloatSliderModel",
            "_view_count": null,
            "_view_module": "@jupyter-widgets/controls",
            "_view_module_version": "1.5.0",
            "_view_name": "FloatSliderView",
            "continuous_update": true,
            "description": "w1",
            "description_tooltip": null,
            "disabled": false,
            "layout": "IPY_MODEL_e8e6a62c752848b9b850619675424961",
            "max": 1,
            "min": -1,
            "orientation": "horizontal",
            "readout": true,
            "readout_format": ".2f",
            "step": 0.01,
            "style": "IPY_MODEL_1fa6ce6019a740c994c97f27ee1beef7",
            "value": 0.27
          }
        },
        "1f7f71f6b40544ed8fa1805d59e76a50": {
          "model_module": "@jupyter-widgets/base",
          "model_module_version": "1.2.0",
          "model_name": "LayoutModel",
          "state": {
            "_model_module": "@jupyter-widgets/base",
            "_model_module_version": "1.2.0",
            "_model_name": "LayoutModel",
            "_view_count": null,
            "_view_module": "@jupyter-widgets/base",
            "_view_module_version": "1.2.0",
            "_view_name": "LayoutView",
            "align_content": null,
            "align_items": null,
            "align_self": null,
            "border": null,
            "bottom": null,
            "display": null,
            "flex": null,
            "flex_flow": null,
            "grid_area": null,
            "grid_auto_columns": null,
            "grid_auto_flow": null,
            "grid_auto_rows": null,
            "grid_column": null,
            "grid_gap": null,
            "grid_row": null,
            "grid_template_areas": null,
            "grid_template_columns": null,
            "grid_template_rows": null,
            "height": null,
            "justify_content": null,
            "justify_items": null,
            "left": null,
            "margin": null,
            "max_height": null,
            "max_width": null,
            "min_height": null,
            "min_width": null,
            "object_fit": null,
            "object_position": null,
            "order": null,
            "overflow": null,
            "overflow_x": null,
            "overflow_y": null,
            "padding": null,
            "right": null,
            "top": null,
            "visibility": null,
            "width": null
          }
        },
        "1fa6ce6019a740c994c97f27ee1beef7": {
          "model_module": "@jupyter-widgets/controls",
          "model_module_version": "1.5.0",
          "model_name": "SliderStyleModel",
          "state": {
            "_model_module": "@jupyter-widgets/controls",
            "_model_module_version": "1.5.0",
            "_model_name": "SliderStyleModel",
            "_view_count": null,
            "_view_module": "@jupyter-widgets/base",
            "_view_module_version": "1.2.0",
            "_view_name": "StyleView",
            "description_width": "",
            "handle_color": null
          }
        },
        "223ed76f893343c18e11b147c2ec3c67": {
          "model_module": "@jupyter-widgets/controls",
          "model_module_version": "1.5.0",
          "model_name": "SliderStyleModel",
          "state": {
            "_model_module": "@jupyter-widgets/controls",
            "_model_module_version": "1.5.0",
            "_model_name": "SliderStyleModel",
            "_view_count": null,
            "_view_module": "@jupyter-widgets/base",
            "_view_module_version": "1.2.0",
            "_view_name": "StyleView",
            "description_width": "",
            "handle_color": null
          }
        },
        "27dc6b8f63b44a42b8a51167aa5f98c2": {
          "model_module": "@jupyter-widgets/base",
          "model_module_version": "1.2.0",
          "model_name": "LayoutModel",
          "state": {
            "_model_module": "@jupyter-widgets/base",
            "_model_module_version": "1.2.0",
            "_model_name": "LayoutModel",
            "_view_count": null,
            "_view_module": "@jupyter-widgets/base",
            "_view_module_version": "1.2.0",
            "_view_name": "LayoutView",
            "align_content": null,
            "align_items": null,
            "align_self": null,
            "border": null,
            "bottom": null,
            "display": null,
            "flex": null,
            "flex_flow": null,
            "grid_area": null,
            "grid_auto_columns": null,
            "grid_auto_flow": null,
            "grid_auto_rows": null,
            "grid_column": null,
            "grid_gap": null,
            "grid_row": null,
            "grid_template_areas": null,
            "grid_template_columns": null,
            "grid_template_rows": null,
            "height": null,
            "justify_content": null,
            "justify_items": null,
            "left": null,
            "margin": null,
            "max_height": null,
            "max_width": null,
            "min_height": null,
            "min_width": null,
            "object_fit": null,
            "object_position": null,
            "order": null,
            "overflow": null,
            "overflow_x": null,
            "overflow_y": null,
            "padding": null,
            "right": null,
            "top": null,
            "visibility": null,
            "width": null
          }
        },
        "2da06b5000024c90971da1e99329e6e5": {
          "model_module": "@jupyter-widgets/base",
          "model_module_version": "1.2.0",
          "model_name": "LayoutModel",
          "state": {
            "_model_module": "@jupyter-widgets/base",
            "_model_module_version": "1.2.0",
            "_model_name": "LayoutModel",
            "_view_count": null,
            "_view_module": "@jupyter-widgets/base",
            "_view_module_version": "1.2.0",
            "_view_name": "LayoutView",
            "align_content": null,
            "align_items": null,
            "align_self": null,
            "border": null,
            "bottom": null,
            "display": null,
            "flex": null,
            "flex_flow": null,
            "grid_area": null,
            "grid_auto_columns": null,
            "grid_auto_flow": null,
            "grid_auto_rows": null,
            "grid_column": null,
            "grid_gap": null,
            "grid_row": null,
            "grid_template_areas": null,
            "grid_template_columns": null,
            "grid_template_rows": null,
            "height": null,
            "justify_content": null,
            "justify_items": null,
            "left": null,
            "margin": null,
            "max_height": null,
            "max_width": null,
            "min_height": null,
            "min_width": null,
            "object_fit": null,
            "object_position": null,
            "order": null,
            "overflow": null,
            "overflow_x": null,
            "overflow_y": null,
            "padding": null,
            "right": null,
            "top": null,
            "visibility": null,
            "width": null
          }
        },
        "37efc0e925a0499086dbe4917979beb2": {
          "model_module": "@jupyter-widgets/controls",
          "model_module_version": "1.5.0",
          "model_name": "FloatSliderModel",
          "state": {
            "_dom_classes": [],
            "_model_module": "@jupyter-widgets/controls",
            "_model_module_version": "1.5.0",
            "_model_name": "FloatSliderModel",
            "_view_count": null,
            "_view_module": "@jupyter-widgets/controls",
            "_view_module_version": "1.5.0",
            "_view_name": "FloatSliderView",
            "continuous_update": true,
            "description": "w",
            "description_tooltip": null,
            "disabled": false,
            "layout": "IPY_MODEL_04fbc00808a54a0aa078145918eb23df",
            "max": 1.5,
            "min": 1,
            "orientation": "horizontal",
            "readout": true,
            "readout_format": ".2f",
            "step": 0.01,
            "style": "IPY_MODEL_407289eddcbe447ebedfd9f0f5978fa5",
            "value": 1.25
          }
        },
        "407289eddcbe447ebedfd9f0f5978fa5": {
          "model_module": "@jupyter-widgets/controls",
          "model_module_version": "1.5.0",
          "model_name": "SliderStyleModel",
          "state": {
            "_model_module": "@jupyter-widgets/controls",
            "_model_module_version": "1.5.0",
            "_model_name": "SliderStyleModel",
            "_view_count": null,
            "_view_module": "@jupyter-widgets/base",
            "_view_module_version": "1.2.0",
            "_view_name": "StyleView",
            "description_width": "",
            "handle_color": null
          }
        },
        "4d94048a2cbd4b76b60466bfba2e2fdb": {
          "model_module": "@jupyter-widgets/controls",
          "model_module_version": "1.5.0",
          "model_name": "SliderStyleModel",
          "state": {
            "_model_module": "@jupyter-widgets/controls",
            "_model_module_version": "1.5.0",
            "_model_name": "SliderStyleModel",
            "_view_count": null,
            "_view_module": "@jupyter-widgets/base",
            "_view_module_version": "1.2.0",
            "_view_name": "StyleView",
            "description_width": "",
            "handle_color": null
          }
        },
        "835d9b9b2f764d87acea6a56165f8694": {
          "model_module": "@jupyter-widgets/base",
          "model_module_version": "1.2.0",
          "model_name": "LayoutModel",
          "state": {
            "_model_module": "@jupyter-widgets/base",
            "_model_module_version": "1.2.0",
            "_model_name": "LayoutModel",
            "_view_count": null,
            "_view_module": "@jupyter-widgets/base",
            "_view_module_version": "1.2.0",
            "_view_name": "LayoutView",
            "align_content": null,
            "align_items": null,
            "align_self": null,
            "border": null,
            "bottom": null,
            "display": null,
            "flex": null,
            "flex_flow": null,
            "grid_area": null,
            "grid_auto_columns": null,
            "grid_auto_flow": null,
            "grid_auto_rows": null,
            "grid_column": null,
            "grid_gap": null,
            "grid_row": null,
            "grid_template_areas": null,
            "grid_template_columns": null,
            "grid_template_rows": null,
            "height": null,
            "justify_content": null,
            "justify_items": null,
            "left": null,
            "margin": null,
            "max_height": null,
            "max_width": null,
            "min_height": null,
            "min_width": null,
            "object_fit": null,
            "object_position": null,
            "order": null,
            "overflow": null,
            "overflow_x": null,
            "overflow_y": null,
            "padding": null,
            "right": null,
            "top": null,
            "visibility": null,
            "width": null
          }
        },
        "8a6a82a716eb47caafb49dd3e914137b": {
          "model_module": "@jupyter-widgets/base",
          "model_module_version": "1.2.0",
          "model_name": "LayoutModel",
          "state": {
            "_model_module": "@jupyter-widgets/base",
            "_model_module_version": "1.2.0",
            "_model_name": "LayoutModel",
            "_view_count": null,
            "_view_module": "@jupyter-widgets/base",
            "_view_module_version": "1.2.0",
            "_view_name": "LayoutView",
            "align_content": null,
            "align_items": null,
            "align_self": null,
            "border": null,
            "bottom": null,
            "display": null,
            "flex": null,
            "flex_flow": null,
            "grid_area": null,
            "grid_auto_columns": null,
            "grid_auto_flow": null,
            "grid_auto_rows": null,
            "grid_column": null,
            "grid_gap": null,
            "grid_row": null,
            "grid_template_areas": null,
            "grid_template_columns": null,
            "grid_template_rows": null,
            "height": null,
            "justify_content": null,
            "justify_items": null,
            "left": null,
            "margin": null,
            "max_height": null,
            "max_width": null,
            "min_height": null,
            "min_width": null,
            "object_fit": null,
            "object_position": null,
            "order": null,
            "overflow": null,
            "overflow_x": null,
            "overflow_y": null,
            "padding": null,
            "right": null,
            "top": null,
            "visibility": null,
            "width": null
          }
        },
        "a420fb6c27244cd186822e58ffb321e0": {
          "model_module": "@jupyter-widgets/controls",
          "model_module_version": "1.5.0",
          "model_name": "FloatSliderModel",
          "state": {
            "_dom_classes": [],
            "_model_module": "@jupyter-widgets/controls",
            "_model_module_version": "1.5.0",
            "_model_name": "FloatSliderModel",
            "_view_count": null,
            "_view_module": "@jupyter-widgets/controls",
            "_view_module_version": "1.5.0",
            "_view_name": "FloatSliderView",
            "continuous_update": true,
            "description": "w2",
            "description_tooltip": null,
            "disabled": false,
            "layout": "IPY_MODEL_bab1d1175e0a402c8566e211c426b4a2",
            "max": 1,
            "min": -1,
            "orientation": "horizontal",
            "readout": true,
            "readout_format": ".2f",
            "step": 0.01,
            "style": "IPY_MODEL_223ed76f893343c18e11b147c2ec3c67",
            "value": -0.35
          }
        },
        "acc294e411f94bf0a321ef8e1b7c404d": {
          "model_module": "@jupyter-widgets/base",
          "model_module_version": "1.2.0",
          "model_name": "LayoutModel",
          "state": {
            "_model_module": "@jupyter-widgets/base",
            "_model_module_version": "1.2.0",
            "_model_name": "LayoutModel",
            "_view_count": null,
            "_view_module": "@jupyter-widgets/base",
            "_view_module_version": "1.2.0",
            "_view_name": "LayoutView",
            "align_content": null,
            "align_items": null,
            "align_self": null,
            "border": null,
            "bottom": null,
            "display": null,
            "flex": null,
            "flex_flow": null,
            "grid_area": null,
            "grid_auto_columns": null,
            "grid_auto_flow": null,
            "grid_auto_rows": null,
            "grid_column": null,
            "grid_gap": null,
            "grid_row": null,
            "grid_template_areas": null,
            "grid_template_columns": null,
            "grid_template_rows": null,
            "height": null,
            "justify_content": null,
            "justify_items": null,
            "left": null,
            "margin": null,
            "max_height": null,
            "max_width": null,
            "min_height": null,
            "min_width": null,
            "object_fit": null,
            "object_position": null,
            "order": null,
            "overflow": null,
            "overflow_x": null,
            "overflow_y": null,
            "padding": null,
            "right": null,
            "top": null,
            "visibility": null,
            "width": null
          }
        },
        "bab1d1175e0a402c8566e211c426b4a2": {
          "model_module": "@jupyter-widgets/base",
          "model_module_version": "1.2.0",
          "model_name": "LayoutModel",
          "state": {
            "_model_module": "@jupyter-widgets/base",
            "_model_module_version": "1.2.0",
            "_model_name": "LayoutModel",
            "_view_count": null,
            "_view_module": "@jupyter-widgets/base",
            "_view_module_version": "1.2.0",
            "_view_name": "LayoutView",
            "align_content": null,
            "align_items": null,
            "align_self": null,
            "border": null,
            "bottom": null,
            "display": null,
            "flex": null,
            "flex_flow": null,
            "grid_area": null,
            "grid_auto_columns": null,
            "grid_auto_flow": null,
            "grid_auto_rows": null,
            "grid_column": null,
            "grid_gap": null,
            "grid_row": null,
            "grid_template_areas": null,
            "grid_template_columns": null,
            "grid_template_rows": null,
            "height": null,
            "justify_content": null,
            "justify_items": null,
            "left": null,
            "margin": null,
            "max_height": null,
            "max_width": null,
            "min_height": null,
            "min_width": null,
            "object_fit": null,
            "object_position": null,
            "order": null,
            "overflow": null,
            "overflow_x": null,
            "overflow_y": null,
            "padding": null,
            "right": null,
            "top": null,
            "visibility": null,
            "width": null
          }
        },
        "d914a5ba69584ac5b8c8ee63d403ef49": {
          "model_module": "@jupyter-widgets/controls",
          "model_module_version": "1.5.0",
          "model_name": "VBoxModel",
          "state": {
            "_dom_classes": [
              "widget-interact"
            ],
            "_model_module": "@jupyter-widgets/controls",
            "_model_module_version": "1.5.0",
            "_model_name": "VBoxModel",
            "_view_count": null,
            "_view_module": "@jupyter-widgets/controls",
            "_view_module_version": "1.5.0",
            "_view_name": "VBoxView",
            "box_style": "",
            "children": [
              "IPY_MODEL_37efc0e925a0499086dbe4917979beb2",
              "IPY_MODEL_e3be596244024f9fab702e5399e580bb",
              "IPY_MODEL_ebd3f8230bc146d4bcfe692a2b03d136"
            ],
            "layout": "IPY_MODEL_8a6a82a716eb47caafb49dd3e914137b"
          }
        },
        "e3be596244024f9fab702e5399e580bb": {
          "model_module": "@jupyter-widgets/controls",
          "model_module_version": "1.5.0",
          "model_name": "IntSliderModel",
          "state": {
            "_dom_classes": [],
            "_model_module": "@jupyter-widgets/controls",
            "_model_module_version": "1.5.0",
            "_model_name": "IntSliderModel",
            "_view_count": null,
            "_view_module": "@jupyter-widgets/controls",
            "_view_module_version": "1.5.0",
            "_view_name": "IntSliderView",
            "continuous_update": true,
            "description": "b",
            "description_tooltip": null,
            "disabled": false,
            "layout": "IPY_MODEL_27dc6b8f63b44a42b8a51167aa5f98c2",
            "max": 0,
            "min": -200,
            "orientation": "horizontal",
            "readout": true,
            "readout_format": "d",
            "step": 1,
            "style": "IPY_MODEL_ea6189b3b9604ddfa2f66616bf7fa7ba",
            "value": -100
          }
        },
        "e8e6a62c752848b9b850619675424961": {
          "model_module": "@jupyter-widgets/base",
          "model_module_version": "1.2.0",
          "model_name": "LayoutModel",
          "state": {
            "_model_module": "@jupyter-widgets/base",
            "_model_module_version": "1.2.0",
            "_model_name": "LayoutModel",
            "_view_count": null,
            "_view_module": "@jupyter-widgets/base",
            "_view_module_version": "1.2.0",
            "_view_name": "LayoutView",
            "align_content": null,
            "align_items": null,
            "align_self": null,
            "border": null,
            "bottom": null,
            "display": null,
            "flex": null,
            "flex_flow": null,
            "grid_area": null,
            "grid_auto_columns": null,
            "grid_auto_flow": null,
            "grid_auto_rows": null,
            "grid_column": null,
            "grid_gap": null,
            "grid_row": null,
            "grid_template_areas": null,
            "grid_template_columns": null,
            "grid_template_rows": null,
            "height": null,
            "justify_content": null,
            "justify_items": null,
            "left": null,
            "margin": null,
            "max_height": null,
            "max_width": null,
            "min_height": null,
            "min_width": null,
            "object_fit": null,
            "object_position": null,
            "order": null,
            "overflow": null,
            "overflow_x": null,
            "overflow_y": null,
            "padding": null,
            "right": null,
            "top": null,
            "visibility": null,
            "width": null
          }
        },
        "e93d5a127b7143a59b7da0b02eb1b4c1": {
          "model_module": "@jupyter-widgets/controls",
          "model_module_version": "1.5.0",
          "model_name": "VBoxModel",
          "state": {
            "_dom_classes": [
              "widget-interact"
            ],
            "_model_module": "@jupyter-widgets/controls",
            "_model_module_version": "1.5.0",
            "_model_name": "VBoxModel",
            "_view_count": null,
            "_view_module": "@jupyter-widgets/controls",
            "_view_module_version": "1.5.0",
            "_view_name": "VBoxView",
            "box_style": "",
            "children": [
              "IPY_MODEL_1be1cfa770f94004a642c1c942cf9755",
              "IPY_MODEL_a420fb6c27244cd186822e58ffb321e0",
              "IPY_MODEL_071e68c8544747238912237392c60de0",
              "IPY_MODEL_0d0a11c67adf4d59847ecd25944e5ae6"
            ],
            "layout": "IPY_MODEL_2da06b5000024c90971da1e99329e6e5"
          }
        },
        "ea6189b3b9604ddfa2f66616bf7fa7ba": {
          "model_module": "@jupyter-widgets/controls",
          "model_module_version": "1.5.0",
          "model_name": "SliderStyleModel",
          "state": {
            "_model_module": "@jupyter-widgets/controls",
            "_model_module_version": "1.5.0",
            "_model_name": "SliderStyleModel",
            "_view_count": null,
            "_view_module": "@jupyter-widgets/base",
            "_view_module_version": "1.2.0",
            "_view_name": "StyleView",
            "description_width": "",
            "handle_color": null
          }
        },
        "ebd3f8230bc146d4bcfe692a2b03d136": {
          "model_module": "@jupyter-widgets/output",
          "model_module_version": "1.0.0",
          "model_name": "OutputModel",
          "state": {
            "_dom_classes": [],
            "_model_module": "@jupyter-widgets/output",
            "_model_module_version": "1.0.0",
            "_model_name": "OutputModel",
            "_view_count": null,
            "_view_module": "@jupyter-widgets/output",
            "_view_module_version": "1.0.0",
            "_view_name": "OutputView",
            "layout": "IPY_MODEL_835d9b9b2f764d87acea6a56165f8694",
            "msg_id": "",
            "outputs": [
              {
                "data": {
                  "image/png": "iVBORw0KGgoAAAANSUhEUgAABlwAAAF2CAYAAAALGjX/AAAAOXRFWHRTb2Z0d2FyZQBNYXRwbG90bGliIHZlcnNpb24zLjcuMSwgaHR0cHM6Ly9tYXRwbG90bGliLm9yZy/bCgiHAAAACXBIWXMAAA9hAAAPYQGoP6dpAACtfUlEQVR4nOzde1jUdfr/8eeACGoyCgYzlAcyS1HzVCqttVqYuka1ubWWmpVpmtrB1swtD3Qy7eQh07SDtVq721aWtktZ9k0rPLJYiFm6mP6M0RIFTyAy8/vj00wMzMAMpxng9bguru1znPew5Yzzmvu+TQ6Hw4GIiIiIiIiIiIiIiIhUWkigFyAiIiIiIiIiIiIiIlLXKXARERERERERERERERGpIgUuIiIiIiIiIiIiIiIiVaTARUREREREREREREREpIoUuIiIiIiIiIiIiIiIiFSRAhcREREREREREREREZEqUuAiIiIiIiIiIiIiIiJSRQpcREREREREREREREREqkiBi4iIiIiIiIiIiIiISBUpcBEREREREREREREREakiBS4iUqEVK1ZgMpnYtm1boJciIiIiIiIiIiIiEpQUuIiIiIiIiIiIiIiIiFSRAhcREREREREREREREZEqUuAiItXiv//9L0OGDCEyMpJzzjmHq6++mk2bNrmdU1RUREpKCh06dCAiIoLo6Gj69evHunXrXOfYbDbuuOMOzj//fMLDw7FarVx//fXs27evlp+RiIiIiIiIiIiIiO8aBXoBIlL37dy5kyuuuILIyEgeeughwsLCePnll+nfvz9ffPEFffr0AWD27NnMmTOHu+66i969e5Ofn8+2bdtIT09n4MCBAAwbNoydO3cyefJk2rVrx+HDh1m3bh379++nXbt2AXyWIiIiIiIiIiIiIt6ZHA6HI9CLEJHgtmLFCu644w62bt3KpZdeWub4H//4R/7973+za9cuLrjgAgBycnK4+OKL6dGjB1988QUA3bt35/zzz2ft2rUeH+fYsWO0bNmSZ555hr/85S8194REREREREREREREqplaiolIlRQXF/PJJ59www03uMIWAKvVyq233sqXX35Jfn4+AC1atGDnzp388MMPHu/VpEkTGjduzP/93/9x9OjRWlm/iIiIiIiIiIiISHVQ4CIiVfLzzz9z6tQpLr744jLHOnXqhN1u58CBAwA89thjHDt2jIsuuoiuXbsydepUvvnmG9f54eHhzJ07l//85z/ExsZy5ZVXMm/ePGw2W609HxEREREREREREZHKUOAiIrXmyiuvZO/evbz22mt06dKFV155hZ49e/LKK6+4zrn//vv5/vvvmTNnDhEREcyYMYNOnTrx3//+N4ArFxERERERERERESmfAhcRqZJzzz2Xpk2bsnv37jLHvvvuO0JCQmjdurVrX1RUFHfccQdvv/02Bw4c4JJLLmH27Nlu17Vv354HH3yQTz75hMzMTM6cOcNzzz1X009FREREREREREREpNIUuIhIlYSGhnLNNdfwwQcfsG/fPtf+Q4cO8dZbb9GvXz8iIyMBOHLkiNu155xzDhdeeCGFhYUAnDp1ioKCArdz2rdvT/PmzV3niIiIiIiIiIiIiASjRoFegIjUHa+99hqpqall9s+ePZt169bRr18/7rnnHho1asTLL79MYWEh8+bNc52XkJBA//796dWrF1FRUWzbto1//etfTJo0CYDvv/+eq6++mptvvpmEhAQaNWrE+++/z6FDhxg+fHitPU8RERERERERERERf5kcDocj0IsQkeC2YsUK7rjjDq/HDxw4wM8//8z06dP56quvsNvt9OnThyeffJLExETXeU8++SQffvgh33//PYWFhbRt25ZRo0YxdepUwsLCOHLkCLNmzeKzzz7jwIEDNGrUiI4dO/Lggw9y00031cZTFREREREREREREakUBS4iIiIiIiIiIiIiIiJVpBkuIiIiIiIiIiIiIiIiVaTARUREREREREREREREpIoUuIiIiIiIiIiIiIiIiFSRAhcRERERERERkWq0YcMGkpOTiYuLw2QysXr1atexoqIipk2bRteuXWnWrBlxcXHcdttt/PTTT273yM3NZcSIEURGRtKiRQvGjBnDiRMnavmZiIiIiD8UuIiIiIiIiIiIVKOTJ0/SrVs3Fi9eXObYqVOnSE9PZ8aMGaSnp/Pee++xe/durrvuOrfzRowYwc6dO1m3bh1r165lw4YNjBs3rraegoiIiFSCyeFwOAK9CBERERERERGR+shkMvH+++9zww03eD1n69at9O7dmx9//JE2bdqwa9cuEhIS2Lp1K5deeikAqamp/OEPf+D//b//R1xcXC2tXkRERPzRKNALqCl2u52ffvqJ5s2bYzKZAr0cERGRoOBwODh+/DhxcXGEhKjQtSbpvYiIiEhZei/iWV5eHiaTiRYtWgCQlpZGixYtXGELQFJSEiEhIWzevJk//vGPZe5RWFhIYWGha9tut5Obm0t0dLTei4iIiPyqpt+L1NvA5aeffqJ169aBXoaIiEhQOnDgAOeff36gl1Gv6b2IiIiId3ov8puCggKmTZvGLbfcQmRkJAA2m42YmBi38xo1akRUVBQ2m83jfebMmUNKSkqNr1dERKQ+qKn3IvU2cGnevDlg/OKcb1hEREQauvz8fFq3bu16nZSao/ciIiL13E8/wdSpsHatsR0fD/PnQ//+gVxV0NN7EXdFRUXcfPPNOBwOlixZUqV7TZ8+nSlTpri28/LyaNOmjd6LiAQbs9nz/ry82l2HSANV0+9F6m3g4iyXjYyM1BsLERGRUtRWoubpvYiISD1lt8PLL8PDD0N+PjRqZAQvM2ZAkyaBXl2dofciv4UtP/74I+vXr3d7v2CxWDh8+LDb+WfPniU3NxeLxeLxfuHh4YSHh5fZr/ciIkHE0599Gq8tEhA19V5EDVNFREREREREfLFzJ1xxBdxzjxG29O4N27fDU08pbBG/OMOWH374gU8//ZTo6Gi344mJiRw7dozt27e79q1fvx673U6fPn1qe7kiUlXXXquwRaSBqLcVLiIiIiIiIiLVoqAAnnwS5s6FoiI45xwjZLnnHggNDfTqJAidOHGCPXv2uLazs7PJyMggKioKq9XKn/70J9LT01m7di3FxcWuuSxRUVE0btyYTp06MXjwYMaOHcvSpUspKipi0qRJDB8+nLi4uEA9LRGpDE9By5VXwhdf1P5aRKTGKXARERERERER8eb//g/uvhu+/97Yvu46ePFFaN06oMuS4LZt2zYGDBjg2nbOVhk9ejSzZ8/mww8/BKB79+5u133++ef0/3UO0KpVq5g0aRJXX301ISEhDBs2jIULF9bK+kWkmqiqRaTBUeAiIiIiIiIiUlpuLjz0ELz6qrFttcKiRXDjjZ4/QBMpoX///jjK+VC1vGNOUVFRvPXWW9W5LBGpLd5eJxS2iNR7muEiIiIiIiIi4uRwwN//Dp06/Ra2jB8PWVkwbFhAwpZiu4O0vUf4IOMgaXuPUGzXB3YiIkHL0+vEU08pbBFpIFThIiIiIiIiIgKwb58xl+U//zG2O3WCZcugX7+ALSk1M4eUNVnk5BW49rVoEsYdv2vHpKs6EBpSfgBUbHewJTuXw8cLiGkeQe/4qAqvERGRSnA4IMTDd9sVtIg0KApcREREREREpGE7e9ZoF/boo3DqFDRuDI88AtOmQXh4wJaVmpnDhJXplP6o7tjpIl749Ade/3ofT9/YlcFdrF6vLx3WWM0RzEpO8HqNiIhUglqIiciv1FJMREREREREGq7//hf69oUpU4yw5YorYMcOmDkzoGFLsd1BypqsMmFLScdOFTFhZTqpmTlljjnDmpJhC4Atr8DrNSIiUgmewpavvlLYItJAKXARERERERGRhufkSZg6FS67DLZvhxYtYPly+L//g44dA706tmTnlglLPHEAKWuy3Oa6lBfWOPeVvkZERPx05IjnsMXhgMsvr/31iEhQUOAiIiIiIiIiDcvHH0OXLvDss1BcDH/+M+zaBXfd5bn/fgAcPl5x2OKUk1fAluxc13ZFYY3DwzUiIuIHkwlatSq7X1UtIg1ecLyTFBEREREREalphw/DiBEweDDs2wdt2sDatfD3v4PFEujVuYlpHuHX+SUDGl/DGn9CHRER+ZWnqpZfflHYIiJAJQKXDRs2kJycTFxcHCaTidWrV3s9d/z48ZhMJubPn1/m2EcffUSfPn1o0qQJLVu25IYbbnA7vn//foYOHUrTpk2JiYlh6tSpnD171t/lioiIiIiISEPncMCKFdCpE7z1llHFcv/9sHMnDB0a6NV51Ds+CqvZ99ClZEDja1jjb6gjItKgbdnivYVYdHTtr0dEgpLfgcvJkyfp1q0bixcvLve8999/n02bNhEXF1fm2LvvvsuoUaO444472LFjB1999RW33nqr63hxcTFDhw7lzJkzfP3117zxxhusWLGCmTNn+rtcERERERERach++AGuvhruuANyc6FbN9i0CV54Ac45J9Cr8yo0xMSs5IQKzzMBVnMEveOjXPucYY2HjwW9XiMiIuUwmaBPn7L7VdUiIqX4HbgMGTKEJ554gj/+8Y9ezzl48CCTJ09m1apVhIWFuR07e/Ys9913H8888wzjx4/noosuIiEhgZtvvtl1zieffEJWVhYrV66ke/fuDBkyhMcff5zFixdz5swZf5csIiIiIiIiDc2ZM/DUU9C1K3z+OTRpAvPmwdatcNllgV6dTwZ3sbJ0ZE9aNA3zeNwZqMxKTiA05Ld4pWRYUzp08XaNiIh44amqxW5X2CIiHlX7DBe73c6oUaOYOnUqnTt3LnM8PT2dgwcPEhISQo8ePbBarQwZMoTMzEzXOWlpaXTt2pXY2FjXvkGDBpGfn8/OnTs9Pm5hYSH5+fluPyIiIiIiItIAbdoEvXrBI49AYSEMHAiZmTB1KoR5Di+C1eAuVrY/OpAHki6iRRP3tVvMESwZ2ZPBXawU2x2k7T3CBxkHSdt7hIEJFpaM7ImlVFuykteIiEg5Fi703kLM034REaBRdd9w7ty5NGrUiHvvvdfj8f/9738AzJ49m+eff5527drx3HPP0b9/f77//nuioqKw2WxuYQvg2rbZbB7vO2fOHFJSUqrxmYiIiEhdtGHDBp555hm2b99OTk4O77//vtusOIfDwaxZs1i+fDnHjh3jd7/7HUuWLKFDhw6uc3Jzc5k8eTJr1qwhJCSEYcOGsWDBAs4J4tYzIiIC5OfDX/8KL71kfCDWqhXMnw+33lrnPxzrHR9Fm+im5J4oJKpZYyzmJvSOjyI0xERqZg4pa7LIyStwnW81RzArOYEvp13FluxcDh8vIKZ5hOsaEREph7fXDFW1iEgFqrXCZfv27SxYsIAVK1Zg8vIHk91uB+CRRx5h2LBh9OrVi9dffx2TycQ777xT6ceePn06eXl5rp8DBw5U+l4iIiJSd1U0b27evHksXLiQpUuXsnnzZpo1a8agQYMoKPjtQ6oRI0awc+dO1q1bx9q1a9mwYQPjxo2rracgIiKV8cEHkJAAixcbH4iNHg27dsGIEXU6bEnNzKHf3PXcsnwTD/wjg8c/2sW8j3eTd/qMK2yZsDLdLWwBsOUVMGFlOuuybCS2j+b67ueR2D5aYYuISEW8VbUobBERH1RrhcvGjRs5fPgwbdq0ce0rLi7mwQcfZP78+ezbtw+r1ShbTkj4bfhfeHg4F1xwAfv37wfAYrGwZcsWt3sfOnTIdcyT8PBwwsPDq/PpiIiISB00ZMgQhgwZ4vGYw+Fg/vz5PProo1x//fUAvPnmm8TGxrJ69WqGDx/Orl27SE1NZevWrVx66aUALFq0iD/84Q88++yzxMXF1dpzERERH/z0E0yeDO+9Z2y3bw8vvwxXXx3YdVVBsd3Bluxc1mXZeO2rfWWOO8OUxbf25PGPsvD0EaADY15LyposBiZYFLSIiFTk6qth/fqy+xW0iIgfqrXCZdSoUXzzzTdkZGS4fuLi4pg6dSoff/wxAL169SI8PJzdu3e7risqKmLfvn20bdsWgMTERL799lsOHz7sOmfdunVERka6BTUiIiIi/sjOzsZms5GUlOTaZzab6dOnD2lpaYAxS65FixausAUgKSmJkJAQNm/e7PXemicnIlLL7HZYsgQ6dTLCltBQePhh+PbbOh22lKxo8RS2AK6AZcYHmWUqW0qfl5NXwJbs3Gpfp4hIvWIylQ1bBg5U2CIifvO7wuXEiRPs2bPHtZ2dnU1GRgZRUVG0adOG6Ohot/PDwsKwWCxcfPHFAERGRjJ+/HhmzZpF69atadu2Lc888wwAN910EwDXXHMNCQkJjBo1innz5mGz2Xj00UeZOHGiqlhERESk0pyz4DzNinMes9lsxMTEuB1v1KiRa86cN5onJyJSi3buhHHj4Ouvje3evWH5crjkksCuq4qc7cF8+XjPARw5ecan+x4+7j2UERFp8Ly1EBMRqQS/A5dt27YxYMAA1/aUKVMAGD16NCtWrPDpHs888wyNGjVi1KhRnD59mj59+rB+/XpatmwJQGhoKGvXrmXChAkkJibSrFkzRo8ezWOPPebvckVERERqxfTp013viwDy8/Np3bp1AFckIlIPFRTAk0/C3LlQVATnnANPPQX33GNUuNRBzvZhtrzTPP7RLp/CFn/FNI+ogbuKiNRx3uZ7KWwRkSrwO3Dp378/Dj/+4Nm3b1+ZfWFhYTz77LM8++yzXq9r27Yt//73v/1dnoiIiIhXzllwhw4dcs2Vc253797ddU7JtqYAZ8+eJTc31+ssOdA8ORGRGvfFF0ZVy/ffG9vJybB4MQQg3HaGJIePFxDTPILe8VGVmpGSmplDypqsctuCVYUJsJiN9YmISAmewpZFi2DSpNpfi4jUK34HLiIiIiJ1VXx8PBaLhc8++8wVsOTn57N582YmTJgAGLPkjh07xvbt2+nVqxcA69evx26306dPn0AtXUSk4crNhYcegldfNbYtFnjxRbjxRu/fTq5BnkISqzmCWckJDO5i9Xpd6ZDmyPECJv09o9rWZQK36hjnb2ZWckKlwiARkXrJbvdcEamqFhGpJgpcREREpF6paN7c/fffzxNPPEGHDh2Ij49nxowZxMXFccMNNwDQqVMnBg8ezNixY1m6dClFRUVMmjSJ4cOHExcXF6BnJSLSADkc8M9/wr33grPy8O674emnoUWLgCzJ24wVW14B41emc8fv2nF+iyZENWuMxdzEVflS05UsAC2bNSa3xEwXiw8hkIhIg6IWYiJSCxS4iIiISL1S0by5hx56iJMnTzJu3DiOHTtGv379SE1NJSLit/72q1atYtKkSVx99dWEhIQwbNgwFi5cWOvPRUSkwfrxR2Mui7PNdKdOsGwZ9OsXsCUV2x2krMnyOGPFue/1r/a57bdERpDczcLyjftKX1LtZgzthMXcpMptzkRE6iVPYcvWrXDppbW/FhGp10wOfway1CH5+fmYzWby8vKIjIwM9HJERESCgl4fa49+1yIilXD2rNFD/9FH4dQpaNwYHnkEpk2DAM/JStt7hFuWbwroGsrz9ti+JLaPDvQyKqTXx9qj37UIcPQoRHmYY1U/Pw4VER/U9OujKlxEREREREQk8P77Xxg7FrZvN7avuMKoaunYMbDr+tXh4zXXDqwqTBjtw3rHe/hAUUSkIVMLMREJgJBAL0BEREREREQasJMnYepUuOwyI2xp0QKWL4f/+7+gCVsAYppHVHxSLXN+lDgrOUHtw0RESvIUthw9qrBFRGqcAhcREREREREJjI8/hq5d4dlnobgYbr4Zdu2Cu+6CkOD662rv+CgskcEVuljMESwZ2ZPBXayBXoqISHDYutVz2OJwGIG+iEgNU0sxERERERERqV2HD8OUKbBqlbHdujW89BJce21g11WOdVk2Cs4WB3oZLjOGduL238WrskVExEktxEQkCChwERERERERkdrhcMAbb8CDD0JurlHFcu+98PjjcM45gV6dR8V2By+u/4EXPv0h0EsBfpvZorBFRKQET2GL3e49hBERqSHBVaMtIiIiIiIi9dMPP8DVV8MddxhhS7dusGkTvPBC0IYtqZk5/O7p9UEVtoBmtgS7DRs2kJycTFxcHCaTidWrV7sdf++997jmmmuIjo7GZDKRkZFR5h4FBQVMnDiR6OhozjnnHIYNG8ahQ4dq5wmI1CULF3pvIaawRUQCQIGLiIiIiIiI1JyiInjqKWNWy+efQ5MmMG+e0Wf/sssCvTqvUjNzmLAyHVt+QUAe32SCFk3C3PZpZkvdcPLkSbp168bixYu9Hu/Xrx9z5871eo8HHniANWvW8M477/DFF1/w008/ceONN9bUkkXqJpMJ7ruv7H61EKsXiu0O0vYe4YOMg6TtPUKxXf+/St2glmIiIiIiIiJSMzZtgrFjITPT2B44EJYsgfbtA7uuchTbHWz63xEefvdbAvnRjsMBeaeLeCDpItq1akpM8wh6x0epsqUOGDJkCEOGDPF6fNSoUQDs27fP4/G8vDxeffVV3nrrLa666ioAXn/9dTp16sSmTZvo27dvta9ZpM7xVtUi9UJqZg4pa7LIyfvtSw9WcwSzkhP0pQMJeqpwERERERERkeqVnw+TJ8PllxthS6tW8Le/wccfB3XYkpqZQ7+56xnxymaOnS4K9HIA+PvW/Vx7SRyJ7aMVtjQQ27dvp6ioiKSkJNe+jh070qZNG9LS0gK4MpEg0L+/wpZ6zllhWjJsAbDlFTBhZTqpmTkBWpmIbxS4iIiIiIiISPX54ANISIAXXzQ+ALvtNti1C0aODOp++t4+4AkkB5CTV8CW7NxAL0Vqkc1mo3HjxrRo0cJtf2xsLDabzet1hYWF5Ofnu/2I1CsmE3zxhfu+P/9ZYUs9Umx3kLImy2OFqXNfypostReToKaWYiIiIiIiIlJ1P/1kVLW8956xfcEF8PLLUOJb+sGqvA94gsHh48ETAknwmjNnDikpKYFehkjNUFVLg7AlO7fcLz6U/CJCYvvo2luYH4rtDrZk53L4eIHagTZQClxERERERESk8ux2I1h5+GGjlVhoKEydCjNmQNOmgV6dTyr6gKcmhJhg8lUdWPDZDxWeG9M8ohZWJMHCYrFw5swZjh075lblcujQISwWi9frpk+fzpQpU1zb+fn5tG7duiaXKlLzvFVGKmypl3z9gkGwfhFBs2cE1FJMREREREREKmvnTrjiCrjnHiNs6d0b0tNhzpw6E7YAfJrlvU1TTbE7oHd8FFZzBN6+92rC+KCmd3xUbS5NAqxXr16EhYXx2Wefufbt3r2b/fv3k5iY6PW68PBwIiMj3X5E6jRPYcvrrytsqcd8/YJBq2bhpO09wgcZB0nbeyQoWoxp9ow4qcJFRERERERE/FNQAE89BU8/DUVFcM45xvY99xgVLnVIamYOr361LyCP/cuJQmYlJzBhZTomcGtp5vyYcVZyglqR1DEnTpxgz549ru3s7GwyMjKIioqiTZs25Obmsn//fn766SfACFPAqGyxWCyYzWbGjBnDlClTiIqKIjIyksmTJ5OYmEjfvn0D8pxEapXd7vm1REFLvef8IoItr8Bjm08TYG4axoPv7MCWHzxVJBXNnjFhzJ4ZmGDRa3oDoAoXERERERER8d0XX0D37vD440bYkpwMWVnG/JY6FrY4PyAJlJjmEQzuYmXJyJ5YzO7f6rWYI1gysqdakNRB27Zto0ePHvTo0QOAKVOm0KNHD2bOnAnAhx9+SI8ePRg6dCgAw4cPp0ePHixdutR1jxdeeIFrr72WYcOGceWVV2KxWHjPOR9JpD4zmRS2NGChISZmJScAlKn+dH4x4dipIrewBQJfReLP7Bmp/1ThIiIiIiIiIhU7ehQeegheecXYtlhg0SIYNsx7j/0gF4jZLWB8aGQp0SpscBcrAxMsGrJbT/Tv3x9HOR8O33777dx+++3l3iMiIoLFixezePHial6dSBDz9FqSkQHdutX6UiRwnF9EKD0LJTYynIKzdo6dKipzTaCrSOr67BmpXgpcRERERERExDuHA/75T7jvPjh0yNh3991GO7ESA73rokB88OGtVVhoiInE9tG1vh4RkYD7+WeIiSm7X1UtDZanLyLYHQ5GvLLZ6zUlq0hq+/XU19kzvp4ndZsCFxEREREREfHsxx+NuSz//rex3akTLFsG/foFdl3VJBAffFgC3GdeRCSoeKuQVNjS4JX+IsIHGQd9ui4QX6bwZfZMycpWqd80w0VERERERETcnT0LL7wACQlG2NK4MaSkwH//W2/CFoCjJ8/U6uNFN2vMF1MHKGwREQHPYUtensIW8SiYq0gqmj0DZStbpf5S4CIiIiIiIiK/+e9/oW9fmDIFTp2CK64weujPnAnh4YFeXZUU2x2k7T3CBxkHWfDp99zzVnqtPv6Rk2fY/uPRWn1MEZGgs3Gj57DF4YDIyNpfj9QJzioSb5GFCbAGsIrEOXvGYnYPfCzmCJaM7KkvWzQgaikmIiIiIiIiRrgyezY8/zwUF4PZDM88A2PGQEhwf1ev2O7wOHDeud+Wd5qv9hxh3a5D5J0uO2y3Nmlgrog0aGohJpXkrCKZsDIdE7i17gqWKhJPs2ec70mk4VDgIiIiIiIi0tB9/DFMmADZ2cb2zTfD/PlgDf5vY6Zm5jD7w53Y8gtd+8wRjbjyolZs3XfUbX8w0MBcEWmwPIUtdrv3EEakFGcVScqaLHLyfvsCQzDNRys9e0YaHgUuIiIiIiIiDdXhw0brsFWrjO3WreGll+DaawO7Lh+lZuYwfmXZtmB5BWdZ840tACvyTgNzRaTBevppmD697H5VtUglqIpEgp0CFxERERERkYbG4YA33oAHH4TcXKNl2L33wuOPwznnBHp15XK1Ccsv4NHV39b647doGkZEo1Bs+QVu+46dqrhVWaBbnYiI1Dq1EJMaoCoSCWYKXERERERERBqSPXvg7rth/Xpju1s3WL4cLrsssOvygdE+LMst7Khtx04VsWpMT0JCTG7frF2XZSvT4sTJGkStTkREao2nsEVBi4jUc35PPtywYQPJycnExcVhMplYvXq113PHjx+PyWRi/vz5Ho8XFhbSvXt3TCYTGRkZbse++eYbrrjiCiIiImjdujXz5s3zd6kiIiIiIiLiVFQEc+ZA165G2BIRAXPnwtatdSZsGb8yPaBhi9MvJwtJbB/N9d3PI7F9NKEhJgZ3sfLltKt4e2xfXri5GzOGduKFP3fn7bF9+XLaVQpbRKTh6NJFYYuINFh+V7icPHmSbt26ceedd3LjjTd6Pe/9999n06ZNxMXFeT3noYceIi4ujh07drjtz8/P55prriEpKYmlS5fy7bffcuedd9KiRQvGjRvn75JFREREREQats2bYexY+PbXFlxJSbB0KbRvH9h1+ajY7uDh92q/fZg33gbfq8WJiDR4noKWG26A99+v9aWIiASC34HLkCFDGDJkSLnnHDx4kMmTJ/Pxxx8zdOhQj+f85z//4ZNPPuHdd9/lP//5j9uxVatWcebMGV577TUaN25M586dycjI4Pnnn1fgIiIiIiIi4qv8fHjkEVi82PhmcXQ0vPACjBzpva9+kHDOajl8vIDD+YU+zUipaRp8LyJSDlW1iIhU/wwXu93OqFGjmDp1Kp07d/Z4zqFDhxg7diyrV6+madOmZY6npaVx5ZVX0rhxY9e+QYMGMXfuXI4ePUrLli3LXFNYWEhhYaFrOz8/vxqejYiIiIiISB31wQcwcSIcPGhs33YbPPcctGoV2HX5IDUzx+s8lEBxfoyowfciIqV4C/AVtohIA+T3DJeKzJ07l0aNGnHvvfd6PO5wOLj99tsZP348l156qcdzbDYbsbGxbvuc2zabzeM1c+bMwWw2u35at25dhWchIiIiIiJSR/30E/zpT0YLl4MH4YILYN06eOONOhO2TFiZHtCwJfGCllgiw932WcwRLBnZU7NYRERK8hS2LF+usEVEGqxqrXDZvn07CxYsID09HZOXdHvRokUcP36c6dOnV+dDM336dKZMmeLazs/PV+giIiIiIiINh90Oy5bBtGlGK7HQUJg6FWbMAA+dBYJRsd1ByposAv0x3fDebbn2kjhXS7OY5kYbMVW2iIj8qrgYGnn4WFFBi4g0cNUauGzcuJHDhw/Tpk0b177i4mIefPBB5s+fz759+1i/fj1paWmEh7t/W+jSSy9lxIgRvPHGG1gsFg4dOuR23LltsVg8PnZ4eHiZe4qIiIiIiDQIWVkwbhx89ZWxfdllxjeMu3UL7Lr8tCU7NyjaiMU0jyA0xERi++hAL0VEJPiohZiIiFfVGriMGjWKpKQkt32DBg1i1KhR3HHHHQAsXLiQJ554wnX8p59+YtCgQfzjH/+gT58+ACQmJvLII49QVFREWFgYAOvWrePiiy/2OL9FRERERESkQSoogDlzjJ+iImjWDJ56ypjdEhoa6NX57fDxwIYtJozWYb3jowK6DhGRoOUpbPnuO7j44tpfi4hIEPI7cDlx4gR79uxxbWdnZ5ORkUFUVBRt2rQhOtr9G0BhYWFYLBYu/vUP3pLVLwDnnHMOAO3bt+f8888H4NZbbyUlJYUxY8Ywbdo0MjMzWbBgAS+88IK/yxUREREREamfvvgC7r4bdu82tq+9FhYvhlJ/56oLiu0OtmTn8sOh44FeCrOSE9Q6TESktJ9/hpiYsvtV1SIi4sbvwGXbtm0MGDDAte2cmzJ69GhWrFhRLYsym8188sknTJw4kV69etGqVStmzpzJuHHjquX+IiIiIiIiddbRo/DQQ/DKK8a2xQKLFsGwYd7bvASx1MwcUtZkBbyVmNUcwazkBAZ3sQZ0HSIiQUctxEREfOZ34NK/f38cfvyBum/fvnKPt2vXzuP9LrnkEjZu3Ojv8kREREREROonhwP++U+47z5wzry8+254+mlo0SKgS6us1MwcJqxMJ9Af2T2Q1IFJV3VQZYuISGmewpaTJ6Fp09pfi4hIHRAS6AWIiIiIiIhIBX78EZKTYfhwI2zp2BE2bIClS+ts2FJsd5CyJiugYYvJBHdfGc99SRcpbBERKSktzXPY4nAobBERKYcCFxERERERkWBVXAzz50PnzvDRR9C4McyeDRkZcMUVAV5c1WzJzg14GzEcsGxDNqmZOYFdh4hIMDGZ4PLLy+5XCzERkQopcBEREREREQlG//0v9O0LDzxgtG/p188IWmbNgvDwQK+uyg4fD3DYAq7qmpQ1WRTb9UGiiIjXqhaFLSIiPlHgIiIiIiIiEkxOnYKHHoLLLoNt28BshmXL4IsvoFOnQK+u2sQ0jwj0EgAjdMnJK2BLdm6glyIiEjiPP+49bBEREZ81CvQCRERERERE5FeffALjx0N2trF9881GSzGrNaDLqgm946OwmiOw5RUEdI6LUzBU3IiIBISnoCUsDM6cqf21iIjUcapwERERERERCbSff4ZRo2DQICNsad0aPvwQ/vGPehm2AISGmJgxtFNQhC0QPBU3IiK1yltVi8IWEZFKUeAiIiIiIiISKA4HvPEGdOwIK1caH3zddx/s3AnJyYFeXY0ptjtY8OkP/PX9zEAvBRNgNUfQOz4q0EsREak9v/+9WoiJiNQAtRQTEREREREJhD174O67Yf16Y/uSS2D5cujdO7DrqmGpmTk8/N63HDtVFOil4PyocVZyAqEhHj54FBGpjzwFLXfcAa+9VvtrEQmwYruDLdm5HD5eQExz4wsYek8gVaEKFxEREWlwZs+ejclkcvvp2LGj63hBQQETJ04kOjqac845h2HDhnHo0KEArlhE6pWiIpgzB7p2NcKWiAh4+mnYtq1ehC3Fdgdpe4/wQcZB0vYeodj+27elUzNzGL8yPWBhS+nPTyzmCJaM7MngLvWzbZsEzoYNG0hOTiYuLg6TycTq1avdjjscDmbOnInVaqVJkyYkJSXxww8/uJ2Tm5vLiBEjiIyMpEWLFowZM4YTJ07U4rOQeslbVYvCFmmAUjNz6Dd3Pbcs38R9f8/gluWb6Dd3PamZOYFemtRhqnARERGRBqlz5858+umnru1GjX57W/TAAw/w0Ucf8c4772A2m5k0aRI33ngjX331VSCWKiL1yebNMHYsfPutsZ2UBEuXQvv2gV1XJXj6Rui6LBspa7LIyfttAL3VHMGs5AQGJlhIWZNVq2s0N2nEpAEdaHVOYyzmJvRq25LtPx7Vt1ilxp08eZJu3bpx5513cuONN5Y5Pm/ePBYuXMgbb7xBfHw8M2bMYNCgQWRlZRERYcwTGjFiBDk5Oaxbt46ioiLuuOMOxo0bx1tvvVXbT0fqA09BC6iFmDRYqZk5TFiZXmaWnC2vgAkr0/WFDKk0BS4iIiLSIDVq1AiLxVJmf15eHq+++ipvvfUWV111FQCvv/46nTp1YtOmTfTt27e2lyoi9cHx4/DII/Dii8aHW9HR8MILMHKk9w/BglhqZk6ZYKVF0zCPlSvODy6G9TzP7fya5PyNzh12SZkPSxLbR9fKGqRhGzJkCEOGDPF4zOFwMH/+fB599FGuv/56AN58801iY2NZvXo1w4cPZ9euXaSmprJ161YuvfRSABYtWsQf/vAHnn32WeLi4mrtuUg94Ol15t13wUMYKBIsarLVV7HdQcqarDJhC4AD431EyposBiZY9MUM8ZtaiomIiEiD9MMPPxAXF8cFF1zAiBEj2L9/PwDbt2+nqKiIpKQk17kdO3akTZs2pKWleb1fYWEh+fn5bj8iIgB8+CEkJMCiRUbYcttt8N13MGpUnQ1bJqxMLxOeeGsT5vj151/pB6v0uKZff166tSfXXmKlvN+cWoVJMMvOzsZms7m91zCbzfTp08f1XiMtLY0WLVq4whaApKQkQkJC2Lx5s8f76r2IlHH2rPcWYgpbJIjVdKuvLdm55X4JxAHk5BWwJTu3Wh5PGhZVuIiIiEiD06dPH1asWMHFF19MTk4OKSkpXHHFFWRmZmKz2WjcuDEtWrRwuyY2Nhabzeb1nnPmzCElJaWGVy4idUpODkyebHyLGOCCC+Dll402YnVUed8IrWmWX1uTDe5i5Q+XWHn+Zjt/S9vHj7mnaN2yKR1jm5N7+oxahUnQc76fiI2Nddtf8r2GzWYjJibG7XijRo2Iiory+n5E70XEjVqISR1VG62+Dh/3reLW1/NESlLgIiIiIg1OyRYfl1xyCX369KFt27b885//pEmTJpW65/Tp05kyZYprOz8/n9atW1d5rSJSB9ntsGwZPPww5OVBaCj85S8wcyY0bRro1VVJRd8IrQmTBlzI7y5sVSZEadwohDFXXFCraxEJZnovIi6ewpbvv4cOHWp/LSJ+qK1WXzHNI6r1PJGS1FJMREREGrwWLVpw0UUXsWfPHiwWC2fOnOHYsWNu5xw6dMjjzBen8PBwIiMj3X5EpAHKyoIrr4QJE4yw5bLLYPt2ePrpOh+2QGC+6dkh9hwS20erYkXqDef7iUOHDrntL/lew2KxcPjwYbfjZ8+eJTc31+v7Eb0XEWw27y3EFLZIHVBbrb56x0dhNUd4bU9qAqxmo2JWxF8KXERERKTBO3HiBHv37sVqtdKrVy/CwsL47LPPXMd3797N/v37SUxMDOAqRSSoFRTArFnQvTt89RU0awYLFkBaGnTrFujVVZtAfNNT3y6V+iY+Ph6LxeL2XiM/P5/Nmze73mskJiZy7Ngxtm/f7jpn/fr12O12+vTpU+trljrAZAKrhzZLaiEmdUhttfoKDTExKzkBoEzo4tyelZygL3tIpailmIiIiDQ4f/nLX0hOTqZt27b89NNPzJo1i9DQUG655RbMZjNjxoxhypQpREVFERkZyeTJk0lMTKRv376BXrqIBKMNG2DcONi929i+9lpYvBjatAnsumqA8xuhtryCGp/jYsKY26Jvl0pddOLECfbs2ePazs7OJiMjg6ioKNq0acP999/PE088QYcOHYiPj2fGjBnExcVxww03ANCpUycGDx7M2LFjWbp0KUVFRUyaNInhw4cTFxcXoGclQctTVcupU1DJVrki1a3Y7mBLdi6HjxeUO2utNlt9De5iZcnInqSsyXKrqik5M06kMhS4iIiISIPz//7f/+OWW27hyJEjnHvuufTr149NmzZx7rnnAvDCCy8QEhLCsGHDKCwsZNCgQbz00ksBXrWIBJ2jR+Ghh+CVV4zt2FhYtAj+9Cfvw4rrOOc3QiesTMcEbqFL6e2KmIAWTcM4eqrI471A3y6Vumvbtm0MGDDAte2crTJ69GhWrFjBQw89xMmTJxk3bhzHjh2jX79+pKamEhHx24eIq1atYtKkSVx99dWu9yULFy6s9eciQSw9HXr1KrtfVS0SRFIzc8qEGlYvoUZFX+yo7i9jDO5iZWCCxacwSMRXJoejfv4pnJ+fj9lsJi8vT31LRUREfqXXx9qj37VIPeZwwDvvwL33gnMGw7hxxpyWli0Du7Za4u3DkxlDE3hs7U5s+YXlXu/8GGPJyJ4APn8QI3WfXh9rj37X9Zy3YL9+fswndVRqZg4TVqaXCU9Kvg8o/VrvvAY8fxnD0zUi/qjp10dVuIiIiIiIiPjqxx9h4kT46CNju2NHWLYMrrgisOuqZeV9IzQkBI8flJRUul2Hvl0qIuIHT2GLghYJMsV2Bylrsjy+F3BgBCgpa7IYmGBxe81Xqy+p6xS4iIiIiIiIVKS42GgX9uijcPIkhIXBX/8K06dDeHigVxcQoSEmEttHl9nv7YOSqGZh/LH7eSQlWMoEKt7uJSIiJbz+Otx5Z9n9ClskCG3JznV7H1CaA8jJK2BLdm6Z9wBq9SV1mQIXERERERGR8mRkwNixsG2bsd2vn1HV0qlTQJcVzPRBiYhINfNU1XL99bB6da0vRcQXh497D1t8OU9fxpC6SoGLiIiIiIiIJ6dOQUoKPPecUeFiNsO8eXDXXRASEujVBT19UCIiUk3UQkzqoJjmEdV6nkhdob8liIiIiIiIlPbJJ9ClixGwFBfDTTfBrl0wbpzCFhERqR3336+wReqs3vFRWM0ReKttNQFWs1EBK1Kf6G8KIiIiIiIiTj//DKNGwaBBkJ0N558PH34I//wnWDWkVUREaonJBAsWuO9bvlxhi9QZoSEmZiUnAJQJXZzbs5IT1G5U6h0FLiIiIiIiIg4HvPGGMZdl5Urjg65774WsLEhODvTqRESkIfFW1XLXXbW/FpEqGNzFypKRPbGY3duGWcwRLBnZk8FdKvdllmK7g7S9R/gg4yBpe49QbFcQKcFDM1xERERERKRh27MH7r4b1q83ti+5xPgWce/egV2XiIg0LAMGwP/9X9n9qmqROmxwFysDEyxsyc7l8PECYpobbcQqW9mSmplDyposcvIKXPus5ghmJSdUOsARqU4KXEREREREpGEqKoLnnoOUFCgogIgImD0bpkyBsLBAr05ERBoST1UtmzZBnz61vxaRahYaYiKxfXSV75OamcOElemUjiBteQVMWJlepaoZkeqiwEVERERERBqezZth7Fj49ltjOykJli6F9u0Duy4REWlYzp71HPKrqkWCVLHdUW3VKv4+bsqarDJhC4ADYy5MyposBiZYNBdGAsrvGS4bNmwgOTmZuLg4TCYTq1ev9nru+PHjMZlMzJ8/37Vv3759jBkzhvj4eJo0aUL79u2ZNWsWZ86ccbv2m2++4YorriAiIoLWrVszb948f5cqIiIiIiLi7vhxYzZLYqIRtkRHw5tvwiefKGwREZHaZTIpbJE6JTUzh35z13PL8k3c9/cMblm+iX5z15OamVPjj70lO9etjVhpDiAnr4At2bk1vhaR8vgduJw8eZJu3bqxePHics97//332bRpE3FxcW77v/vuO+x2Oy+//DI7d+7khRdeYOnSpfz1r391nZOfn88111xD27Zt2b59O8888wyzZ89m2bJl/i5XRERERETE8OGHkJAAixYZH2aNGgW7dhn/66mVi4iISE3x9Lpz6JDCFglaznZepUMPZzuvmg5dDh/3HrZU5jyRmuJ3S7EhQ4YwZMiQcs85ePAgkydP5uOPP2bo0KFuxwYPHszgwYNd2xdccAG7d+9myZIlPPvsswCsWrWKM2fO8Nprr9G4cWM6d+5MRkYGzz//POPGjfN3ySIiIiIi0pDl5MDkyfDuu8b2BRcY7cMGDgzsukREpOE5dgxatiy7X0GLBLFgaOcV0zyiWs8TqSl+V7hUxG63M2rUKKZOnUrnzp19uiYvL4+oqCjXdlpaGldeeSWNGzd27Rs0aBC7d+/m6NGj1b1kERERERGpj+x2ePll6NTJCFtCQ2HaNKOVmMIWERGpbSaTwpZ6rNjuIG3vET7IOEja3iMU2+vP/6/B0M6rd3wUVnME3uIcE2A1GzNlRALJ7wqXisydO5dGjRpx7733+nT+nj17WLRokau6BcBmsxEfH+92XmxsrOtYSw8vToWFhRQWFrq28/PzK7N8ERERERGpD7KyYNw4+OorY/uyy2D5cujWLbDrEhGRhslTC7EzZzzPcJE6JzUzh5Q1WW6hhNUcwazkBAZ3sQZwZYaqDroPhnZeoSEmZiUnMGFlOiZwq7ZxPpNZyQk1VmEj4qtqDVy2b9/OggULSE9Px+RDD+SDBw8yePBgbrrpJsaOHVulx54zZw4pKSlVuoeIiIiIiNRxhYXw1FMwZw4UFUGzZvDkkzBpklHhIiIiUpu++86otCxNVS31hnO2Sen/R52zTZaM7BnQ0KU6wqBgaec1uIuVJSN7lnk+liAKt0SqNXDZuHEjhw8fpk2bNq59xcXFPPjgg8yfP599+/a59v/0008MGDCAyy+/nGXLlrndx2KxcOjQIbd9zm2LxeLxsadPn86UKVNc2/n5+bRu3bqqT0lEREREROqKDRuMqpbdu43toUPhpZegxN9PREREao2nLyP/4Q/w0Ue1vxapEcEw26Q8VQmDSlbFtDonHEtkOLb8Qo/nQu218xrcxcrABEuVKnZEalK1Bi6jRo0iKSnJbd+gQYMYNWoUd9xxh2vfwYMHGTBgAL169eL1118nJMR9lExiYiKPPPIIRUVFhP1aWrlu3Touvvhij+3EAMLDwwkPD6/OpyMiIiIiInXB0aPGbJbly43t2FhYtAj+9CfPH3aJiIjUNE+vP6pqqXf8mW2S2D669hZG1cIgT1UxzRqXXyl8XTdrrYUeoSGmWv99ivgqpOJT3J04cYKMjAwyMjIAyM7OJiMjg/379xMdHU2XLl3cfsLCwrBYLFx88cWAEbb079+fNm3a8Oyzz/Lzzz9js9mw2Wyux7j11ltp3LgxY8aMYefOnfzjH/9gwYIFbhUsIiIiIiLSwDkc8M9/Gq1anGHL2LGwaxfcdJPCFhERqX3r1ytsaUCCYbaJN5UddO+siil97ckzxeU+3oc7cii2+//vebHdQdreI3yQcZC0vUcqdQ+RYOJ3hcu2bdsYMGCAa9sZgowePZoVK1ZUeP26devYs2cPe/bs4fzzz3c75vj1xcdsNvPJJ58wceJEevXqRatWrZg5cybjxo3zd7kiIiIiIlIf7d8P99zzW1uWjh1h2TK44orArktERBouT0HLwoUweXLtr0VqRVVnm3gbZl/VIfdQuTCovKqYilSmkqc65suIBBu/A5f+/fu7ghFflJzbAnD77bdz++23V3jdJZdcwsaNG/1cnYiIiIiI1GvFxfDii/DII3DyJISFwV//CtOng1oMi4hIoKiqpUHqHR+F1RyBLa/AY0hhwhjo7mm2ibew4bpuVj7ckVPlEKIyYVBFVTEV8aeSpyrzZUSCmd8txURERERERAIiIwP69oX77zfCln79YMcOmD1bYYuIiATGxo0KWxqw0BATs5ITACNcKcm5PSs5weOMFE9tu3LyCnh5Q3aZ/c4QIjUzx+e1OcMgb3UxJsoOuq9q6zNfQ56K5suAMV9G7cWkLlLgIiIiIiIiwe3UKZg2DS69FLZtA7MZXn4ZvvjCmN8iIiISCCYTXHml+75PP1XY0sAM7mJlycieWMzuYYPFHOGxSqMybbt8CSFKz0IB/A6DfA1MSvMU3pSnsvNlROoCv1uKiYiIiIiI1JpPPoHx4yE729j+05+MfvhWtZgQEZEAUlWLlDC4i5WBCRaf5q5Utm1XyRCi9JyU8mahLBnZs8wxi5cWZRW1SPOkvEoebyozX0akrlDgIiIiIiIiwefnn2HKFFi50tg+/3xYvBiuuy6w6xIRkYbt7bfh1lvd9/XqZVRgSoMWGmLyaWB8VUOE0tf7Mgvly2lX+RQGOVukTViZjgnc7uncbtE0jGOnilz7vYU35anMfBmRukKBi4iIiIiIBA+HA/72NyNsOXLE+Abx5MnwxBPQvHmgVyciIg2Zp6qWw4fh3HNrfy1SZ1U1RCh5fUWzUEwYbcgGJlh8CoPgtxZp3qpifK3kKU9FlTSmXx/P1xZlIsFEgYuIiIiIiASHPXuM9mGffWZsX3IJLF8OvXsHdl0iItKw2e0QGlp2v1qISSVUpm2XU4gJerVt6dr2ZxaKr4ELVNwizZ97eVJRJQ3416JMJJiEBHoBIiIiIiLSwBUVwdNPQ9euRtgSEWFsb9umsEVE6q3jx49z//3307ZtW5o0acLll1/O1q1bXccdDgczZ87EarXSpEkTkpKS+OGHHwK44gbqqafKhi2jRytskUpzhg1Qdph9RewO2JqdS9reI3yQcZCv9vzi03WVaWPmbJF2fffzSGwf7Qo/iu0O1+On7T1Csb1y/y04K2ksZveKH4s5giUje/rVokwkmKjCRUREREREAmfzZhg3Dr75xti++mpYuhQuvDCw6xIRqWF33XUXmZmZ/O1vfyMuLo6VK1eSlJREVlYW5513HvPmzWPhwoW88cYbxMfHM2PGDAYNGkRWVhYREZprUCs8tRA7dQqaNKn9tUi94q1tly8mvpXOsdNFFZ9YQnXNQknNzCmzZmslZrg4VVRJI1IXmRyO+hnJ5+fnYzabycvLIzIyMtDLERERCQp6faw9+l2LVOD4cXjkEXjxReNbwtHR8PzzMGqU5w+4RKRe0Ouj4fTp0zRv3pwPPviAoUOHuvb36tWLIUOG8PjjjxMXF8eDDz7IX/7yFwDy8vKIjY1lxYoVDB8+vMLH0O+6Ck6fhqZNy+6vnx+hSQAV2x2usOGX44U8/tGuan+Mlk3D2PbowCqHGKmZOUxYmV6mDZrzrqpKkbqipl8f1VJMRERERERq15o1kJAAixYZH16NGgW7dsFttylsEZEG4ezZsxQXF5epVGnSpAlffvkl2dnZ2Gw2kpKSXMfMZjN9+vQhLS2ttpfbsIweXTZsmTNHYYvUiJJtu27/XTxWc/VXr1XHv7nFdgcpa7I83su5L2VNVqXbi4nUJ2opJiIiIiIitSMnB+69F/71L2P7gguM9mEDBwZ2XSIitax58+YkJiby+OOP06lTJ2JjY3n77bdJS0vjwgsvxGazARAbG+t2XWxsrOtYaYWFhRQWFrq28/Pza+4J1FeeQv/iYgjR95Wl5oWGmLium5WXN2RX632PnSpi0/+OEGIyVbpt15bs3HJbnzmAnLwCtmTnktg+uhpWLVJ3KXAREREREZGaZbfD8uUwbRrk5RnDh//yF5g503PLFhGRBuBvf/sbd955J+eddx6hoaH07NmTW265he3bt1fqfnPmzCElJaWaV9lAHD4MpcItQFUtUquK7Q4+3JFTI/eeuMp97ou/c1cOH/dtzoyv54nUZ4roRURERESk5uzaBb//PYwfb4Qtl14K27bB008rbBGRBq19+/Z88cUXnDhxggMHDrBlyxaKioq44IILsFgsABw6dMjtmkOHDrmOlTZ9+nTy8vJcPwcOHKjx51Av9OpVNmz5+98Vtkitq6iKpCpKhi0AtrwCJqxMJzXTt4Anprlvrc58PU+kPlPgIiIiIiIi1a+wEGbPhm7d4MsvoVkzmD8fNm2C7t0DvDgRkeDRrFkzrFYrR48e5eOPP+b6668nPj4ei8XCZ5995jovPz+fzZs3k5iY6PE+4eHhREZGuv1IBUwmSE933+dwwJ//HJj1SINWm9Uh/s5d6R0fhdUcgbcmZCaMqpne8VHVtUSROkuBi4iIiIiIVK8NG4ygJSUFiopg6FDIyoL77jPaiYmICB9//DGpqalkZ2ezbt06BgwYQMeOHbnjjjswmUzcf//9PPHEE3z44Yd8++233HbbbcTFxXHDDTcEeul13+7dnue1qKpFAqi2q0NKzl2pSGiIiVnJCQBlQhfn9qzkBL/mwojUVwpcRERERESkehw9CuPGGS3Edu82WrT84x+wZg20aRPo1YmIBJW8vDwmTpxIx44due222+jXrx8ff/wxYWFhADz00ENMnjyZcePGcdlll3HixAlSU1OJiFDLnioxmaBjR/d9GzcqbJGA86WKpEXTMCyR7n8GWM0R3H1lPFaz+/4WTcN8elxfK2sGd7GyZGRPLKUex2KOYMnInj7PgxGp70wOR/18RcnPz8dsNpOXl6cyWhERkV/p9bH26HctDYrDAe+8A/feC855A2PHwty50LJlYNcmIkFFr4+1R79rD1TVIlVUbHewJTuXw8cLiGlutNCqzqqO1MwcJqw02tyV/DfT+QhLRvZkYILF4xpKr81udzDi1c0VPubbY/uS2D7a5zXW9O9ApKbV9Otjo2q/o4iIiIiINBz798PEibB2rbF98cWwbBlceWVg1yUiIuL0xRfQv7/7vsaNjXljIj5KzcwhZU2W22B7qzmCWckJla7uKB1eDEywsGRkzzKPYyn1OJ4CktAQk9v+M2fthJigvBEtISbo1da/L8eUfhwRcafARURERERE/FdcDC++CI88AidPQlgY/PWvMH06hIcHenUiIiIGT1Ut338PHTrU/lqkznJWnpTOLmx5BUxYmV6pllrlBThfTruqylUk2388Wm7YAkYYs/3HowpQRKqRAhcREREREfFPRoYxq2XrVmP7d78zqloSEgK6LBERETdqISbVoNjuIGVNVpmwBYy2XyYgZU0WAxMsPociNRHglObrbBZfzxMR34QEegEiIiIiIlJHnDoF06bBpZcaYUtkJCxdChs2KGwREZHgsW5d2bClTx+FLVIpW7Jz3apQSnMAOXkFbMnO9el+FQU4YAQ4xRWVp1QgpnlExSf5cZ6I+EYVLiIiIiIiUrF162D8ePjf/4ztP/0JFiyAuLjArktERKQkT1UtP/8MrVrV/lqkTio9V8WWd9qn63ytFPEnwKlKq6/e8VFYzRHY8go8hjsmjNkwveOjKv0YIlKWAhcREREREfHu55/hwQfhb38zts8/HxYvhuuuC+y6RERESrLbITS07H5VtYgfPM1ViWrW2KdrvVWKlAlw8mun1VdoiIlZyQlMWJmOCdxCF2csOSs5we/ZMCJSPrUUExEREfFi8eLFtGvXjoiICPr06cOWLVsCvSSR2uNwwJtvQqdORthiMsG990JWlsIWEREJLm++WTZsmTdPYYv4xTlXpXT1ydGTZ8q9zoQx7N5TpUhqZg795q7nluWbuO/vGdyyfBOPr93p03qqo9XX4C5WlozsicXsfi+LOaJa5sSISFmqcBERERHx4B//+AdTpkxh6dKl9OnTh/nz5zNo0CB2795NTExMoJcnUrP27DHah332mbHdtSssX270vxcREQkm0dGQW2p2RmEhNPatKkEEfJur4kl5lSLOAKf09bkni8pdi7PVl93u4IOMg8Q0N8KcylaiDO5iZWCCxa3Kpir3E5HyKXARERER8eD5559n7Nix3HHHHQAsXbqUjz76iNdee42HH344wKsTqSFFRfDcc5CSAgUFEBEBs2YZLcXCwgK9OhERkd8UFXkOVVTVIpVQ0VwVpzKtuUww9or4MpUi5QU45d7v1+3TRcWMeHWza7/VHMGs5IRKV6SEhpiqNA/GV6XbpynYkYZIgYuIiIhIKWfOnGH79u1Mnz7dtS8kJISkpCTS0tI8XlNYWEhhYaFrOz8/v8bXKVKttmyBsWPhm2+M7auvhqVL4cILA7suERGR0t59F/70J/d969ZBUlJg1iN1nq/zUkoHKHYHLNuQTY82Ld3CEF8DHG+Jy7FT7lUwOXkFTFiZHtRtwDzNv6lqUCRSF2mGi4iIiEgpv/zyC8XFxcTGxrrtj42NxWazebxmzpw5mM1m10/r1q1rY6kiVXf8ONx3H/Tta4Qt0dHwxhvGB1cKW0REJNiEhJQNW+x2hS1SJVWdl5KyJoti+2/Jic8BjqP8bbdjHh4nWHibf2P7NShKzcwJ0MpEap8CFxEREZFqMH36dPLy8lw/Bw4cCPSSRCq2Zg0kJMDChcbf8EeNgl274LbbjB4ZIiIiweLECeO1qeQn0tdea2zrNUuqqHd8FFZzBJX5N8mBUYGyJfu3WULVMfDek9KPEwx8mX8TrEGRSE3wO3DZsGEDycnJxMXFYTKZWL16tddzx48fj8lkYv78+W77c3NzGTFiBJGRkbRo0YIxY8Zw4sQJt3O++eYbrrjiCiIiImjdujXz5s3zd6kiIiIildKqVStCQ0M5dOiQ2/5Dhw5hsVg8XhMeHk5kZKTbj0jQysmBm2+G666D//f/ID4ePv4Y3nwTzj030KsTERFxt3UrNG/uvm/nTuOLAyLVIDTExKzkBIBKhS7gXtVSlQCnIra80zVw18qrqH2ap0BKpD7zO3A5efIk3bp1Y/HixeWe9/7777Np0ybi4uLKHBsxYgQ7d+5k3bp1rF27lg0bNjBu3DjX8fz8fK655hratm3L9u3beeaZZ5g9ezbLli3zd7kiIiIifmvcuDG9evXis88+c+2z2+189tlnJCYmBnBlIlVkt8OyZdCpE7zzDoSGwkMPQWYmXHNNoFcnIiJS1r33Qu/e7vscDqNCU6QaDe5iZcnInljM7tUp0c0a+3R9yaqW6ghwvMk9eaaa71g1vrZP8/U8kbqukb8XDBkyhCFDhpR7zsGDB5k8eTIff/wxQ4cOdTu2a9cuUlNT2bp1K5deeikAixYt4g9/+APPPvsscXFxrFq1ijNnzvDaa6/RuHFjOnfuTEZGBs8//7xbMCMiIiJSU6ZMmcLo0aO59NJL6d27N/Pnz+fkyZPccccdgV6aSOXs2gXjxsGXXxrbl14Ky5dD9+4BXZaIiIhHJ0/COee473v/fbjhhoAsRxqGwV2sDEywsCU7l8PHC4hpHkGvti35/TOfY8sr8Ng2ywRYzBH0jo8qc68lI3uWGSQf3awxR6oQmpibhJG294hrfb3jowgNCVxbPV/bp9VUmzWRYON34FIRu93OqFGjmDp1Kp07dy5zPC0tjRYtWrjCFoCkpCRCQkLYvHkzf/zjH0lLS+PKK6+kcePfEuRBgwYxd+5cjh49SsuWLat72SIiIiJu/vznP/Pzzz8zc+ZMbDYb3bt3JzU1ldjY2EAvTcQ/hYUwZw489RQUFUGzZvDkkzBpklHhIiIiEmw+/xyuusp937FjYDYHZDnSsISGmEhsH+22b1ZyAhNWpmMCt9DFVOK4p9CjMgFORVLW7uR4QbFr22qOYFZyAoO7WCtxt6pztk/zN5ASqa/8bilWkblz59KoUSPuvfdej8dtNhsxMTFu+xo1akRUVBQ2m811TukPM5zbznNKKywsJD8/3+1HREREpComTZrEjz/+SGFhIZs3b6ZPnz6BXpKIfzZuNCpYUlKMsGXoUMjKgvvuU9giIiLB6ZZb3MOW224zWogpbJFKKLY7SNt7hA8yDpK290ilB7d7azdmMUewZGTPcsMOZ4BzfffzSGwfTeNGIVVqN1YybAGw5RUwYWU6qZk5lbhb1ZXXPq2iQEqkPqrWCpft27ezYMEC0tPTMZlq9z+iOXPmkJKSUquPKSIiIiISlI4dg2nTjHktALGxsHAh3HQT1PL7dBEREZ8cOwalO5p88QVceWVAliN1X2pmTpl2XlWpBvFUrVLZdl7e2o1VhgMj2EhZk8XABEtAgg1vz8cS4OobkUCo1sBl48aNHD58mDZt2rj2FRcX8+CDDzJ//nz27duHxWLh8OHDbtedPXuW3NxcLBYLABaLhUOHDrmd49x2nlPa9OnTmTJlims7Pz+f1q1bV8vzEhERERGpExwO+Ne/jAHDzsrwsWNh7tyyH2KJiIgEiw8+KDub5dQpaNIkIMuRui81M4cJK9PLtLhyVoNUVJXijad2Y5U1uIuVqzrG8re0ffyYe4rWLZvyysb/ceh4od/3cgA5eQVsyc6ttvX5qzoDKZG6rFoDl1GjRpGUlOS2b9CgQYwaNco1YDYxMZFjx46xfft2evXqBcD69eux2+2uNh2JiYk88sgjFBUVERYWBsC6deu4+OKLvc5vCQ8PJzw8vDqfjoiIiIhI3bF/P0ycCGvXGtsXX2xUuOibwSIiEsyuvhrWr/9te8oUeO65wK1H6rxiu4OUNVke54kEQzWIk6cKnBZNjc9BS8+K8dXh41Wrlqmq6gykROoqvwOXEydOsGfPHtd2dnY2GRkZREVF0aZNG6Kj3f+jCgsLw2KxcPHFFwPQqVMnBg8ezNixY1m6dClFRUVMmjSJ4cOHExcXB8Ctt95KSkoKY8aMYdq0aWRmZrJgwQJeeOGFqjxXEREREZH6p7gYXnwRHnkETp6EsDCYPt34iYio+HoREZFAsNnAWqrCID0devQIzHqk3tiSnVtum65gqAbxVoGTd6oIAHPTMI79+s8A0c0ac+TkmQrvG9Nc7/1EAs3vwGXbtm0MGDDAte1s4zV69GhWrFjh0z1WrVrFpEmTuPrqqwkJCWHYsGEsXLjQddxsNvPJJ58wceJEevXqRatWrZg5cybjxo3zd7kiIiIiIvXXjh1Gy7CtW43t3/3OqGpJSAjsukRERMrz5pswevRv2+HhcPy48aUBkSrytcojUNUgvlTgNAkLZfGYnvxyspCY5hH0atuS3z/zOba8Ao/XmYDYyHDsDgcfZBxUOy+RAPI7cOnfvz8Oh+9Fbfv27SuzLyoqirfeeqvc6y655BI2btzo7/JEREREROq/U6fgscfg2WeNCpfISJg3zwhfQkICvToRERHPHA645BLIzPxt35NPwl//Grg1Sb3ja5VHoKpBfK3ACQkxcX3381z7ZyUnMGFlepl2Y87tgrN2Rryy2bXfqoH1IgGhv42JiIiIiNQl69ZB164wd64RtvzpT7BrF9x9t8IWEREJXvv2Ga9TJcOW775T2CLVrnd8FFZzBN5qO0wYYUSvti1J23uEDzIOkrb3CMX2ykxN8V9lK3AGd7GyZGRPLGb3oMj869yXki3IAGx5BUxYmU5qZk4VVisi/vK7wkVERERERALg55/hwQfhb38zts87D156Ca67LrDrEhERqciCBXD//b9tt2kD2dn6ooDUiNAQU7nVIADXdbPy+2c+d6s0qWpFSLHdwZbsXA4fLyi3pVdVKnAGd7EyMMHiepxWzcJ58J0dQFGZc53tyVLWZDEwwaL2YiK1RIGLiIiIiEgwcziMkGXKFDhyBEwmmDQJnnjCaCUmIiISrIqLwWo1vjTgtGQJjB8fuDVJg+CsBklZk+UWqljMEVzXzcqyDdllZqE4K0KWjOzpd+iSmplT5rG8BTjOCpzy5rFYzEZg40loiInE9tEApO09gi2/4vZkW7JzXdeISM1S4CIiIiIiEqz27jU+lPr0U2O7a1dYvhz69AnsukRERCpSUABNmrjv278fWrcOzHqkwSldDVJy+Hx5A+v9rQhJzcxhwsp0nwMcXypwZiUn+PT4lW1PJiI1R7WbIiIiIiLBpqjImNHSpYsRtkREwJw5sH27whYREakbPvvst3++7DKw2xW2SK1zVoNc3/08EttHs/3Hoz4NrN+SnevT/YvtDlLWZHkNcMAIcErPh/E2j8VijvCrwqYq7clEpGYocBERERERCSZbtsCll8LDDxvfDr76avj2W2M7LCzQqxMRkWpQXFzMjBkziI+Pp0mTJrRv357HH38ch+O3D2UdDgczZ87EarXSpEkTkpKS+OGHHwK4aj8lJRlVmevXG69tJs2PkMCr7oqQLdm5lQ5wBnex8uW0q3h7bF8WDO/O22P78uW0q/xqZ+ZsT+btvy4TRmszb+3JRKT6KXAREREREQkGx48bA4X79oVvvoGoKFixAtatgwsvDPTqRESkGs2dO5clS5bw4osvsmvXLubOncu8efNYtGiR65x58+axcOFCli5dyubNm2nWrBmDBg2ioKCOtAYKD4e77oIBAwK9EhGX6q4IqWqAU7oCx9/B9s72ZECZ0MXf9mQiUj0UuIiIiIiIBNqaNdC5MyxYAA4HjBwJ330Ho0frG8EiIvXQ119/zfXXX8/QoUNp164df/rTn7jmmmvYsmULYFS3zJ8/n0cffZTrr7+eSy65hDfffJOffvqJ1atXB3bxIkGo2O4gbe8RPsg4SNreI2VaeDlVd0VIMLT0qq72ZCJSPRoFegEiIiIiIg1WTg7cdx+8846xHR8PS5fCNdcEdl0iIlKjLr/8cpYtW8b333/PRRddxI4dO/jyyy95/vnnAcjOzsZms5GUlOS6xmw206dPH9LS0hg+fHiZexYWFlJYWOjazs/Pr/knIhIEUjNzSFmT5dbay2qOYFZyQpmwoToH1sNvAY4tr8DjHBcTRvBR0y29BnexMjDBwpbsXA4fLyCmufGYqmwRqX2qcBERERERqW12OyxbBp06GWFLaChMnWrMalHYIiJS7z388MMMHz6cjh07EhYWRo8ePbj//vsZMWIEADabDYDY2Fi362JjY13HSpszZw5ms9n101oD6qUBSM3MYcLK9DJzVGx5BUxYmU5qZk6Za6qzIiSYWnpVtT2ZiFQPVbiIiIiIiNSmXbtg3Dj48ktju1cvY6hwjx6BXZeIiNSaf/7zn6xatYq33nqLzp07k5GRwf33309cXByjR4+u1D2nT5/OlClTXNv5+fkKXaReK7Y7SFmT5bGyxIEReKSsyWJggqVM+FCdFSHOAKd0lY3FS5WNiNRvClxERERERGpDYSE8/TQ89RScOQPNmsETT8DkyUaFi4iINBhTp051VbkAdO3alR9//JE5c+YwevRoLBYLAIcOHcJq/e3D2kOHDtG9e3eP9wwPDyc8PLzG1y4SLLZk55apbCnJAeTkFbAlO5fE9tFljjsrQqqDWnqJiJMCFxERERGRmrZxo1HV8t13xvYf/gAvvQRt2wZ2XSIiEhCnTp0iJMS9y3toaCh2ux2A+Ph4LBYLn332mStgyc/PZ/PmzUyYMKG2lysSlA4f9x62VOa8qqrOAEdE6i4FLiIiIiIiNeXYMZg2zZjXAhAbCwsXwk03gUnfeBQRaaiSk5N58sknadOmDZ07d+a///0vzz//PHfeeScAJpOJ+++/nyeeeIIOHToQHx/PjBkziIuL44Ybbgjs4kWCREzziIpP8uM8EZHqoMBFRERERKS6ORzwr3/BvfeCc7jxXXfBvHnQsmVg1yYiIgG3aNEiZsyYwT333MPhw4eJi4vj7rvvZubMma5zHnroIU6ePMm4ceM4duwY/fr1IzU1lYgIfXgsAtA7PgqrOQJbXoHHOS4mjDkqveOjPF5fbHd4bAHmbb+IiC9MDofD059JdV5+fj5ms5m8vDwiIyMDvRwREZGgoNfH2qPfdQN24ADccw+sXWtsX3wxvPwy/P73gV2XiEgQ0Otj7dHvWhqC1MwcJqxMB3ALXZzxyJKRPT0OrU/NzCkz5N5qjuC6blY+3JFTZv+s5ASP9xGRuqemXx9DKj5FREREREQqVFxstAtLSDDClrAwmDkTMjIUtoiIiIjUgMFdrCwZ2ROL2b3yy2KOYMnIngxMsJC29wgfZBwkbe8Riu0OV0hTMlQByMkr4OUN2WX22/IKmLAyndTMnHLXUmx3lHksEWl41FJMRERERKSqduyAsWNh61Zj+3e/M+a2JCQEdl0iIiIi9dzgLlYGJljKtAFbl2Wj39z1bgGKJTKcgrN2jy3IvHFgVMykrMliYILFY3sxbxUzqowRaXhU4SIiIiIiUlmnTsHDD0OvXkbYEhkJS5bAhg0KW0RERERqSWiIicT20Vzf/TwS20ezLsvmsYrFll/IsVNFft/fgVEBsyU7t8wxbxUzvlbGiEj9osBFRERERKQy1q2Drl1h7lyjndiwYbBrF4wfDyF6my0iIiISCMV2BylrsvyqYvHV4ePuoUp5j+Xcl7ImS+3FRBoQtRQTEREREfHHL7/AlCnwt78Z2+edB4sXw/XXB3ZdIiIiIsKW7Nwy1SbVJaa5+6yYih6rZGVMYvtonx+n2O4o0yLN2cqsvGMiEngKXEREREREfOFwwMqV8MADcOQImEwwaRI88YTRSkxEREREAq50FUp1MAEWsxFuVOax/FlTefNgAM2KEQlyClxERERERCqyd6/RKuzTT43trl1h+XLo0yew6xIRERERN6WrUKrKWTsyKzmhTCWJr4/l63nOeTClG5DZ8goYvzLd4zXOWTFLRvZU6CISBNRcWkRERETEm6IimDfPCFg+/RTCw+Gpp2D7doUtIiIiIkGod3wUVnME3ppsmYAWTcOwRLqHIFZzBHdfGY/V7L7fYo7wGmb48lhWD5UxnvgyD8YTzYoRCS6qcBERERER8WTrVhg7FnbsMLavugqWLoUOHQK7LhERERHxKjTExKzkBK8VIQ7g6Ru7MjDB4nEWykODO/k8I8X5WBNWpmPCPRgprzLGk6rMnqnsrBgRqX4KXERERERESjp+HGbMgIULjbktUVHw/PNw223G3BYRERERqfNCQ0wewwlv+70Z3MXKkpE9y8xWsfg5W6U6Zs/UxPwaEfGPAhcREREREae1a+Gee+DAAWN7xAgjbImJCey6RERERMQnztZc3pgw2m8NTLD4VHnii8FdrF4rZnxVHbNnqnt+jYj4T4GLiIiIiEhODtx3H7zzjrEdHw9LlsCgQYFdl4iIiIgARpDiS6BRUWuummq/5W9lTGnOeTC2vIJyZ7Z4YsKoqPFlVoyI1CwFLiIiIiLScNnt8OqrMHUq5OVBaChMmQKzZkGzZoFenYiIiIgAqZk5ZVp2WUu07CoZxvxw6IRP9wy29lsVzYNxePhn5zb4PitGRGqWAhcRERERaZh27YK774aNG43tXr1g+XLo0SOw6xIRERERl9TMHCasTC9T9WHLK2DCynTGXRnPhzty/B4436pZePUtsppUNA8GqPKsGBGpWSH+XrBhwwaSk5OJi4vDZDKxevVqt+OzZ8+mY8eONGvWjJYtW5KUlMTmzZvdzvn++++5/vrradWqFZGRkfTr14/PP//c7Zz9+/czdOhQmjZtSkxMDFOnTuXs2bP+P0MRERERkZIKCyElBbp3N8KWZs3ghRdg0yaFLSIiIiJBxDmPxVOLLcevPy9vyPY7bAF+Kw0JMoO7WPly2lW8PbYvC4Z35+2xffly2lUM7mIt95iIBAe/K1xOnjxJt27duPPOO7nxxhvLHL/ooot48cUXueCCCzh9+jQvvPAC11xzDXv27OHcc88F4Nprr6VDhw6sX7+eJk2aMH/+fK699lr27t2LxWKhuLiYoUOHYrFY+Prrr8nJyeG2224jLCyMp556qurPWkREREQapo0bYdw4+O47Y3vIEGNWS9u2gV2XiIiIiJRR0TyWqvjlRGGN3Lc6lDcPpqqzYkSkZvld4TJkyBCeeOIJ/vjHP3o8fuutt5KUlMQFF1xA586def7558nPz+ebb74B4JdffuGHH37g4Ycf5pJLLqFDhw48/fTTnDp1iszMTAA++eQTsrKyWLlyJd27d2fIkCE8/vjjLF68mDNnzlTh6YqIiIhIg3TsmNE+7MorjbAlJgb+/nf46COFLSIiIiJBqibnrMQ0j6ixe4tIw+V34OKPM2fOsGzZMsxmM926dQMgOjqaiy++mDfffJOTJ09y9uxZXn75ZWJiYujVqxcAaWlpdO3aldjYWNe9Bg0aRH5+Pjt37vT4WIWFheTn57v9iIiIiEgD53DAv/4FnTrBsmXGvrvuMua3/PnPYArSXhIiIiIiUiOhiAmwmiPoHR9V7fcWEfG7pZgv1q5dy/Dhwzl16hRWq5V169bRqlUrAEwmE59++ik33HADzZs3JyQkhJiYGFJTU2nZsiUANpvNLWwBXNs2m83jY86ZM4eUlJSaeDoiIiIiUhcdOAATJ8KaNcb2RRcZocvvfx/YdYmIiIiIT3rHR9G0cSinzhRXy/2cX7WZlZxAaIi+eCMi1a9GKlwGDBhARkYGX3/9NYMHD+bmm2/m8OHDADgcDiZOnEhMTAwbN25ky5Yt3HDDDSQnJ5OTk1Ppx5w+fTp5eXmunwMHDlTX0xERERGRuqS4GBYuhIQEI2wJC4MZM2DHDoUtIiIiIkGg2O4gbe8RPsg4SNreIxTbHV7PO11U+bCldKZiMUewZGRPDZkXkRpTIxUuzZo148ILL+TCCy+kb9++dOjQgVdffZXp06ezfv161q5dy9GjR4mMjATgpZdeYt26dbzxxhs8/PDDWCwWtmzZ4nbPQ4cOAWCxWDw+Znh4OOHh4TXxdERERESkrtixA8aOha1bje3LLzeqWjp3Duy6RERERASA1MwcUtZkkZP323wWqzmCWckJZYKQv6Xtw+E5i/HJmH7tuKqjhcPHC4hpbrQRU2WLiNSkGp3h4mS32yksLATg1KlTxgOHuD90SEgIdrsdgMTERL799ltXVQzAunXriIyMJCEhoTaWLCIiIiJ1yenT8PDD0KuXEbZERsKSJbBxo8IWERERkSCRmpnDhJXpbmELgC2vgAkr00nNdO9+82PuqSo93tpvbPSOj+L67ueR2D5aYYuI1Di/A5cTJ06QkZFBRkYGANnZ2WRkZLB//35OnjzJX//6VzZt2sSPP/7I9u3bufPOOzl48CA33XQTYIQpLVu2ZPTo0ezYsYPvv/+eqVOnkp2dzdChQwG45pprSEhIYNSoUezYsYOPP/6YRx99lIkTJ6qKRURERKqsXbt2mEwmt5+nn37a7ZxvvvmGK664goiICFq3bs28efMCtFqp0KefQteuMHeu0U5s2DDYtQvGj4eQWvl+kYiIiEiDVV57sJLHvtrzC7M/3ImnghXnvpQ1WW7Xt41qWqW15eQVsCU7t0r3EBHxh98txbZt28aAAQNc21OmTAFg9OjRLF26lO+++4433niDX375hejoaC677DI2btxI51+/WdiqVStSU1N55JFHuOqqqygqKqJz58588MEHdOvWDYDQ0FDWrl3LhAkTSExMpFmzZowePZrHHnusOp6ziIiICI899hhjx451bTdv3tz1z/n5+VxzzTUkJSWxdOlSvv32W+68805atGjBuHHjArFc8eSXX+DBB+HNN43t886DxYvh+usDuy4RERGRIFdsd7AlO7fKrbbKaw8GlDlWHge/BSSJ7aMBGJXYjif/vQsvI158cvi4b48vIlId/A5c+vfvj6Oc5onvvfdehfe49NJL+fjjj8s9p23btvz73//2d3kiIiIiPmnevLnX2XCrVq3izJkzvPbaazRu3JjOnTuTkZHB888/r8AlGDgcsGoVPPCAEbqYTDBxIjz5pNFKTERERES88meGSkX3mbAyvUzFii2vgPEr0yu9vpIBSeNGIVzdKYZ1WYfLuaJ8Mc0jPO6vrtBJRKQk9VgQERGRBunpp58mOjqaHj168Mwzz3D27FnXsbS0NK688koaN27s2jdo0CB2797N0aNHPd6vsLCQ/Px8tx+pAXv3wqBBMGqUEbZ06QJffw2LFilsEREREamAvzNUvCm2O0hZk1Vue7DKKhmQFNsdZB6s3PtqE0aQ1Ds+qsyx1Mwc+s1dzy3LN3Hf3zO4Zfkm+s1d7/PzFxHxRoGLiIiINDj33nsvf//73/n888+5++67eeqpp3jooYdcx202G7GxsW7XOLdtNpvHe86ZMwez2ez6ad26dc09gYaoqAjmzTNmtaxbB+Hh8NRTkJ4OffsGenUiIiIiQc+XkKT0DBVvtmTn+twqzFeeApLKPo6zTmVWckKZqpXqCp1ERDxR4CIiIiL1wsMPP4zJZCr357vvvgOMGXT9+/fnkksuYfz48Tz33HMsWrSIwsLCSj/+9OnTycvLc/0cOHCgup6abN0Kl10G06bB6dNw1VXw7bcwfTqEhQV6dSIiIn5r166dx/cqEydOBKCgoICJEycSHR3NOeecw7Bhwzh06FCAVy11XUXhRckZKhWp7rko3gISXx+nRRP394QWcwRLRvYs0yKtOkMnERFP/J7hIiIiIhKMHnzwQW6//fZyz7ngggs87u/Tpw9nz55l3759XHzxxVgsljIfaji3vc19CQ8PJzw83P+Fi3fHj8OMGUa7MLsdoqLguedg9GhjbouIiEgdtXXrVoqLi13bmZmZDBw4kJtuugmABx54gI8++oh33nkHs9nMpEmTuPHGG/nqq68CtWSpB3wNL77a83OFc028zUWpLIuXGTK+Ps7iW3sSEmKqcN3+hE6J7aP9eg4iIqDARUREROqJc889l3PPPbdS12ZkZBASEkJMTAwAiYmJPPLIIxQVFRH2awXFunXruPjii2nZsmW1rVnK8dFHMGECOCuFRoyA55+HX/8/EhERqctKv2d5+umnad++Pb///e/Jy8vj1Vdf5a233uKqq64C4PXXX6dTp05s2rSJvmqlKZXka3jx4ud7Xf9s9RKE9I6PwmqOwJZX4PfMFhNGwPLsn7rxy8nCcgOSih7Hea++7aN9Gnjva+hU3RU8ItJwqKWYiIiINChpaWnMnz+fHTt28L///Y9Vq1bxwAMPMHLkSFeYcuutt9K4cWPGjBnDzp07+cc//sGCBQuYMmVKgFffANhs8Oc/w7XXGmFLu3aQmgorVypsERGReunMmTOsXLmSO++8E5PJxPbt2ykqKiIpKcl1TseOHWnTpg1paWkBXKnUdb3atsSHTMKNt7kmoSEmZiUnAL+1A3MyefnnktuzkhP4XYdWXN/9PBLLCUt8eRxPc1q88TV0qu4KHhFpOBS4iIiISIMSHh7O3//+d37/+9/TuXNnnnzySR544AGWLVvmOsdsNvPJJ5+QnZ1Nr169ePDBB5k5cybjxo0L4MrrObsdli+Hjh3hn/+E0FCYOhUyM2HQoECvTkREpMasXr2aY8eOuVqj2mw2GjduTIsWLdzOi42NxWazeb1PYWEh+fn5bj8iJW3/8Sj+jiYpb67J4C5WlozsicXsHk5YzBEsHdmTpV6OeZqtUp7yHsffezkrZrzFMyaMqp7e8VE+31NEpCS1FBMREZEGpWfPnmzatKnC8y655BI2btxYCysSvvsOxo0D5++7Vy8jfOnRI7DrEhERqQWvvvoqQ4YMIS4urkr3mTNnDikpKdW0KqlLiu0OtmTnVji/pLJtssqbazK4i5WBCRavj1/eMX9U9Di+clbMTFiZjgnc2pRVpmJGRKQ0BS4iIiIiEhiFhfD00/DUU3DmDDRtCk88AZMnQyO9TRURkfrvxx9/5NNPP+W9995z7bNYLJw5c4Zjx465VbkcOnQIi8Xi9V7Tp093a3+an59P69ata2TdEjxSM3NIWZPlNgje29yVqrbJ8hbYhIaYvA6YL++Yv6rrXs6KmdK/N4uX35uIiD/0N1kRERERqX1ffmlUtezaZWwPGQIvvWTMbBEREWkgXn/9dWJiYhg6dKhrX69evQgLC+Ozzz5j2LBhAOzevZv9+/eTmJjo9V7h4eGEh4fX+JoleKRm5jBhZXqZYfLOuSul221VZdA91K+5JtVVMSMiUpoCFxERERGpPceOwcMPw8svG9sxMbBwIdx8M5j0F1wREWk47HY7r7/+OqNHj6ZRicpOs9nMmDFjmDJlClFRUURGRjJ58mQSExPp27dvAFcswaTY7iBlTZbH4MSB0R4rZU0WAxMsrhChvHZa5TFhVH/Ut7km1Vl9IyLiFBLoBYiIiIhIA+BwwL/+BZ06/Ra23HWXUeHy5z8rbBERkQbn008/Zf/+/dx5551ljr3wwgtce+21DBs2jCuvvBKLxeLWdkxkS3auWzus0krOXSnJ2wD6lk3DAMoMk9dcExER/6jCRURERERq1oEDMHEirFljbF90kRG69O8f0GWJiIgE0jXXXIPD4bnGICIigsWLF7N48eJaXpXUFd7mqfhynrd2WuuybJprIiJSRQpcRERERKRmFBfD4sXwyCNw4gSEhRntxP76V4ioPz3ARURERGpbq3N8m9fj7TxP7bQ010REpOoUuIiIiIhI9fvmGxg7FrZsMbYvvxyWLYPOnQO7LhEREZH6wNcBLL6eJyIi1UKBi4iIiIhUn9On4bHH4Nln4exZiIyEp5+Gu++GEI0PFBEREakOv5wsrNbzAFIzc8q0FLMGoKVYsd2hKhsRqbMUuIiIiIhI9fj0Uxg/HvbuNbZvvBEWLYK4uMCuS0RERKSeiWnuW3tWX89Lzcxhwsr0MgUxtrwCJqxMZ8nInrUSugRL6CMiUln6mqGIiIiIVM0vv8Do0TBwoBG2nHcevP8+vPuuwhYRERGRGtA7PgqrOQJvdR8mjKCid3xUhfcqtjtIWZPlsfuYc1/KmiyK7TXbn8wZ+pQMW+C30Cc1M6dGH19EpDoocBERERGRynE4YOVK6NQJ3nwTTCaYNAmysuCGGwK9OhEREZF6KzTExKzkBIAyoYtze1Zygk+tuLZk55YJOUpyADl5BWzJzq3cYn0QLKGPiEhVKXAREREREf/9738waBCMGmVUuHTpAl9/bbQQi4wM9OpERERE6r3BXawsGdkTi9m9bZjFHOFXC7DDx72HLZU5rzKCIfQREakOmuEiIiIiIr4rKoIXXoDZs+H0aQgPh5kz4S9/gcaNA706ERERkQZlcBcrAxMsVRoy36pZeLWeVxnBEPqIiFQHBS4iIiIi4putW2HsWNixw9i+6ipYuhQ6dAjsukREREQasNAQE4ntoyt/A1+zGd8znAoV2x1uIVGrc3wLc2KaR1R8kohIAClwEREREZHynTgBM2bAwoVgt0NUFDz3HIwebcxtERERERGflQ4b/K1Iqe77HT5eWK3nVSQ1M4eUNVluLcQskeG0aBpG3qkij3NcTBit0nrHR1XLGkREaooCFxERERHx7qOPYMIEOHDA2B4xAp5/HmJiArsuERERkTrIU9hgNUcwKznB55kr1X2/3BO+BSm+nlee1MwcJqxMLxOqHMovdO0zgdtxZ3Q0KzmhSsGUiEhtCAn0AkREREQkCNls8Oc/w7XXGmFLu3bwn//AypUKW0REREQqwRk2lB4Ob8srYMLKdFIzcwJyv6hmvs3h8/U8b4rtDlLWZHmsYHFgBCstmoYRG+neNsxijmDJyJ6VCqRERGqbKlxERERE5Dd2O7z6Kjz0EBw7BiEhMGUKzJ4NzZoFenUiIiIidZIvYUPKmiwGJlh8quKozvtZzE0qfgJ+nOfNluzcMuFQSQ7g2KkiVo3pSUiIqdparomI1CYFLiIiIiJi+O47uPtu2LDB2O7VC5Ytg549A7suERERkTrOl7AhJ6+ALdm5JLaPrtX79Y6PwmqOKPd+1mqYn3L4uPf7l/TLyUKu735elR5LRCRQ1FJMREREpKErLITHHoNu3YywpWlTY07Lpk0KW0RERESqga9hQyDOCw0xMSs5AW81JCYqPz+l2O4gbe8RPsg4yC/HfZsBE9M8ouKTRESClCpcRERERBqyL7+EceNg1y5je8gQeOklY2aLiIiIiFQLX0OEQJ03uIuVJSN7MvvDndjyfwtGLJHhzL6uc6Xmp6Rm5pCyJsutcibEBHZPfdAwgh1LNVTSiIgEkt8VLhs2bCA5OZm4uDhMJhOrV692Oz579mw6duxIs2bNaNmyJUlJSWzevLnMfT766CP69OlDkyZNaNmyJTfccIPb8f379zN06FCaNm1KTEwMU6dO5ezZs/4uV0REREQ8OXYMxo+HK64wwpaYGHj7bfjoI4UtIiIiItXM2barvCoSf9p2Vff93K8sb9s3qZk5TFiZXqZNWXlhC1S+kkZEJFj4HbicPHmSbt26sXjxYo/HL7roIl588UW+/fZbvvzyS9q1a8c111zDzz//7Drn3XffZdSoUdxxxx3s2LGDr776iltvvdV1vLi4mKFDh3LmzBm+/vpr3njjDVasWMHMmTMr8RRFRERExMXhgH/9Czp1gpdfNvaNGWOELsOHg0l/wRURERGpbs62XeA90vAnbKju+zkDElu+e0ByKL+ACSvTSc3M8ek+YLQRS1mThZdsBTAqXUqymCNYMrJnpSppRESCicnhcJT351/5F5tMvP/++2WqU0rKz8/HbDbz6aefcvXVV3P27FnatWtHSkoKY8aM8XjNf/7zH6699lp++uknYmNjAVi6dCnTpk3j559/pnHjxhWuzfm4eXl5REZGVur5iYiI1Dd6faw9Qfm7PnAAJk2CDz80ti+6yAhd+vcP6LJERKThCMrXx3pKv+vg5KnNltUcwazkhGpr2+Xv/YrtDvrNXV+mGsXJ2erry2lX+RTgpO09wi3LN1V43oyhnWjVPJyY5kYljipbRKQ21PTrY43OcDlz5gzLli3DbDbTrVs3ANLT0zl48CAhISH06NEDm81G9+7deeaZZ+jSpQsAaWlpdO3a1RW2AAwaNIgJEyawc+dOevToUeaxCgsLKSz8rcdkfn5+TT41ERERkbqjuNiYy/LXv8KJExAWBg8/bGxHaCipiIiISG0Z3MXKwAQLW7JzOXy8oMphQ2XvV2x3uK755Xih17AFwAHk5BWwJTuXxPbRFa7p8HHv9yqpVfNwru9+nk/niojUFTUSuKxdu5bhw4dz6tQprFYr69ato1WrVgD873//A4xZL88//zzt2rXjueeeo3///nz//fdERUVhs9ncwhbAtW2z2Tw+5pw5c0hJSamJpyMiIiJSd33zDYwdC1u2GNuXXw7LlkHnzoFdl4iIiEgDFRpi8im4qKn7eaqK8YWvQUpMc9++0OPreSIidYnfM1x8MWDAADIyMvj6668ZPHgwN998M4cPHwbAbrcD8MgjjzBs2DB69erF66+/jslk4p133qn0Y06fPp28vDzXz4EDB6rluYiIiIjUSadPw/Tp0KuXEbZERhpVLhs3KmwRERERaaC8DbP3hbeApNjuIG3vET7IOEja3iP0atsSqzmizGwZJxNG27Pe8VF+r0FEJNjVSIVLs2bNuPDCC7nwwgvp27cvHTp04NVXX2X69OlYrUb/yISEBNf54eHhXHDBBezfvx8Ai8XCFue3MH916NAh1zFPwsPDCQ8Pr4mnIyIiIlK3fPopjB8Pe/ca2zfeCAsXwnlq2SAiIiLSUPkyzN4T5wwXTwGJtxky13WzsmxDNiZwezxnCDMrOUEzW0SkXqqRCpfS7Ha7a75Kr169CA8PZ/fu3a7jRUVF7Nu3j7Zt2wKQmJjIt99+66qKAVi3bh2RkZFuQY2IiIiIlPDLL3D77TBwoBG2nHcevP8+vPuuwhYRERGROqx0FUmx3d/YBLZk5/pd2VIyIAHc1vDvb37yWC1jyytg2YZsxl0Zj8XsXhVjMUewZGRPBnex+r1+EZG6wO8KlxMnTrBnzx7XdnZ2NhkZGURFRREdHc2TTz7Jddddh9Vq5ZdffmHx4sUcPHiQm266CYDIyEjGjx/PrFmzaN26NW3btuWZZ54BcJ1zzTXXkJCQwKhRo5g3bx42m41HH32UiRMnqopFREREpDSHA1atggceMEIXkwnuuQeeespoJSYiIiIidZa3KpJZyQl+BRe+zmApyfLr4wD0m7vebQ0hJjxWyzgwgpoPd+TwxdQBbP/xKIePFxDT3KiSUWWLiNRnfgcu27ZtY8CAAa7tKVOmADB69GiWLl3Kd999xxtvvMEvv/xCdHQ0l112GRs3bqRziV7hzzzzDI0aNWLUqFGcPn2aPn36sH79elq2bAlAaGgoa9euZcKECSQmJtKsWTNGjx7NY489VtXnKyIiIlK//O9/MGECfPKJsd2lCyxbBomJgV2XiIiIiFSZc+ZK6WDDllfAhJXpflWL+DqkfsbQTrRqHu4KSNZl2TyuobwiGweQk1fA9h+Pktg+2qfHFRGpD/wOXPr374/D4f1P1Pfee6/Ce4SFhfHss8/y7LPPej2nbdu2/Pvf//Z3eSIiIiINQ1ERvPACzJ4Np09DeDjMnAl/+Qs0bhzo1YmIiIhIFZU3c8VZRZKyJouBCRafqkZ6x0fRomkYx04VeT2nZdMwbv9dvOt+lZ374lSZqhoRkbrM78BFRERERAJs61YYOxZ27DC2BwyAl1+GDh0Cuy4RERERqTYVzVxxVpFsyc6ttiqS0sFKZea+lORrVY2ISH0REugFiIiIiIiPTpww5rT07WuELS1bwmuvwWefKWwRERGpYw4ePMjIkSOJjo6mSZMmdO3alW3btrmOOxwOZs6cidVqpUmTJiQlJfHDDz8EcMVS23ytDvH1vC3ZueVWtwAcO1XEluxcv+9dmgljzkzv+KhKXS8iUlcpcBERERGpCz76CDp3hvnzwW6HW2+F776DO+4AkwaPioiI1CVHjx7ld7/7HWFhYfznP/8hKyuL5557zjXbFmDevHksXLiQpUuXsnnzZpo1a8agQYMoKFCLprqu2O4gbe8RPsg4SNreIxR7GYbia3WIr+dVJsCpTIWK853prOQEn1qdiYjUJ2opJiIiIhLMbDa47z745z+N7XbtYMkSGDw4oMsSERGRyps7dy6tW7fm9ddfd+2Lj493/bPD4WD+/Pk8+uijXH/99QC8+eabxMbGsnr1aoYPH17raxbPiu0OtmTncvh4gWvIfHkhQ2pmDilrstzadFnNEcxKTmBwF6vbub3jo7CaI7DlFXicoWICLH5UkVQmwKloDQAhJiiZGVm8PB8RkYZAgYuIiIhIMLLbjXZhU6fCsWMQEgJTpsDs2dCsWaBXJyIiIlXw4YcfMmjQIG666Sa++OILzjvvPO655x7Gjh0LQHZ2NjabjaSkJNc1ZrOZPn36kJaW5jFwKSwspLCw0LWdn59f80+kgfMnPHGeP2FlepngwpZXwISV6SwZ2dPtutAQE7OSE5iwMh0T7vNVKlNFUpkAx5c1vHhLT1o2a+xz6CQiUp+ppZiIiIhIsPnuOxgwAMaONcKWnj1h61Z45hmFLSIiIvXA//73P5YsWUKHDh34+OOPmTBhAvfeey9vvPEGADabDYDY2Fi362JjY13HSpszZw5ms9n107p165p9Eg2cMzwpPVDeGZ6kZua47S+2O0hZk+Ux6HDuS1mTVaa92OAuVpaM7InF7F6dYjFHlAloKuIMT+C3sMSpvACnojX84RIrie2jub77eSS2j1bYIiINmipcRERERIJFYSHMnQtPPglnzkDTpvD443DvvdBIb9tERETqC7vdzqWXXspTTz0FQI8ePcjMzGTp0qWMHj26UvecPn06U6ZMcW3n5+crdKkhFYUnJozwZGCCxRU+bMnOLRPOlL4uJ6+ALdm5JLaPdjs2uIuVgQkWv1qXeeMMT0pX5jjbgA1MsJC290iZxxncxcpVHWP5W9o+fsw9RduopoxKbEfjRvout4hISfqbu4iIiEgw+PJLGDcOdu0ytgcPNma1tGsX0GWJiIhI9bNarSQkJLjt69SpE++++y4AFosFgEOHDmG1/lbBcOjQIbp37+7xnuHh4YSHh9fMgsVNZcKTygysLyk0xFQmiHHyd46MtwBnXZaNfnPXe2yRBpQJaV75MluzWkRESlHgIiIiIhJIx47B9OmwdKmxHRMDCxbAn/8MJrVjEBERqY9+97vfsXv3brd933//PW3btgUgPj4ei8XCZ5995gpY8vPz2bx5MxMmTKjt5UoplQlPKjOw3hf+zpFxKh3glDdfZvzKdI/38DZ7RkSkIVPdn4iIiEggOBzw7ruQkPBb2DJmjFHhMny4whYREZF67IEHHmDTpk089dRT7Nmzh7feeotly5YxceJEAEwmE/fffz9PPPEEH374Id9++y233XYbcXFx3HDDDYFdvFQqPHEOrPf2Ds+EEZSUHFhfEX/nyHjjy3wZT8qbPSMi0lApcBERERGpbQcOwA03wJ/+BDk5cNFF8Pnn8MorEOX7X7JFRESkbrrssst4//33efvtt+nSpQuPP/448+fPZ8SIEa5zHnroISZPnsy4ceO47LLLOHHiBKmpqURE+FcBIdWvMuFJZQfWe+NLSOJrEFJRi7TyONunrfgqmw8yDpK294jCFxFp0NRSTERERKS2FBfDSy/BX/8KJ05Ao0bw8MPwyCOgD09EREQalGuvvZZrr73W63GTycRjjz3GY489VourEl84w5MJK9Mx4V4FUl54UtHAen/aclVmjow3vrZIK8/jH+1y/bMvLc38nTsjIlJXqMJFRERE6pUnn3ySyy+/nKZNm9KiRQuP5+zfv5+hQ4fStGlTYmJimDp1KmfPnnU75//+7//o2bMn4eHhXHjhhaxYsaJqC/vmG7j8crj3XiNsSUyE//4XHn9cYYuIiIhIHeMMTyxm9/dxFnNEuTNNBnex8uW0q3h7bF8WDO/O22P78uW0q1znF9sdpO09UmG1SGXmyHjj79yYilTU0iw1M4d+c9dzy/JN3Pf3DG5Zvol+c9f73AJNRCSYqcJFRERE6pUzZ85w0003kZiYyKuvvlrmeHFxMUOHDsVisfD111+Tk5PDbbfdRlhYGE899RQA2dnZDB06lPHjx7Nq1So+++wz7rrrLqxWK4MGDfJvQadPw9NPwzPPwNmz0Lw5zJ0Ld98NIfrui4iIiEhdNbiLlYEJFr8rNUoPrHdKzcwpU/3irVqkMnNkvHG2SLPlFZQ7s8VXDoxKn5Q1WQxMsLj9PpxzZ0o/jjOkKS+sEhGpC0wOh6NeNlbMz8/HbDaTl5dHZGRkoJcjIiISFBrS6+OKFSu4//77OXbsmNv+//znP1x77bX89NNPxMbGArB06VKmTZvGzz//TOPGjZk2bRofffQRmZmZruuGDx/OsWPHSE1N9enxXb/r+Hgis7ONnX/8IyxaBOedVy3PUUREpK5pSO9FAk2/67rFWxDhjCpKBxHFdgf95q73GpKYMKptvpx2lU+tupyPD1RL6OL09ti+rnDJuWZvrdD8XbOISGXU9OujvlYpIiIiDUpaWhpdu3Z1hS0AgwYNIj8/n507d7rOSUpKcrtu0KBBpKWleb1vYWEh+fn5bj8AZGdDXBy8957xo7BFREREREootjtIWZPlMehw7ktZk+XWXsw5RwZ+C2Wcypsj4423Fmktmob5dL03JVua+TN3RkSkrlJLMREREWlQbDabW9gCuLZtNlu55+Tn53P69GmaNGlS5r5z5swhJSWl7AOOHQvPPgv6ZqmIiIiIeOBPEFGyFZkzJJn9YRa2/N+ut/gwtN4TTy3S7HYHI17d7PdzcirZ0qw6586IiAQrVbiIiIhI0Hv44YcxmUzl/nz33XcBXeP06dPJy8tz/Rw4cMA4oLBFREREpEEqtjtI23uEDzIOkrb3iFuFSklVDyLc71uV6QHO+TLXdz+PxPbR9G0fjdUcUaaKpiImjPkzveOjXPuqc+6MiEiwUoWLiIiIBL0HH3yQ22+/vdxzLrjgAp/uZbFY2LJli9u+Q4cOuY45/9e5r+Q5kZGRHqtbAMLDwwkPD/dpDSIiIiJSv6Vm5pCyJsutcsXqpfKkskGEt7kvh/ILq20AvbN12YSV6Zjwbb6Lt5ZmveOjsJojKpw7UzKkERGpa1ThIiIiIkHv3HPPpWPHjuX+NG7c2Kd7JSYm8u2333L48GHXvnXr1hEZGUlCQoLrnM8++8ztunXr1pGYmFh9T0pERERE6iVnEFK6TZgtr4AJK9NJzcxx2+8MIrxVkXiqFvFl7svsD3fy1Z5fKqywqYi3+S5WcwR3XxmPtdR+iznCY9hT3XNnRESCkSpcREREpF7Zv38/ubm57N+/n+LiYjIyMgC48MILOeecc7jmmmtISEhg1KhRzJs3D5vNxqOPPsrEiRNdFSrjx4/nxRdf5KGHHuLOO+9k/fr1/POf/+Sjjz4K4DMTERERkWBXURBiAlLWZDEwweIKFsqrIvEWRPgy98WWX8iIV36bv1KywqbY7nCb1dI7PqrcoMPTfBfnNQ8N7uTzvZzhTenqn8rOnRERCTYKXERERKRemTlzJm+88YZru0ePHgB8/vnn9O/fn9DQUNauXcuECRNITEykWbNmjB49mscee8x1TXx8PB999BEPPPAACxYs4Pzzz+eVV15h0KBBtf58RERERKTu8CUIyckrYEt2Lonto137/Q0iKjNY3llhM+7KeD7ckeNTu7OSnPNdfN3vTXnhjYhIXWdyVGWSVhDLz8/HbDaTl5dHpAbVioiIAHp9rE36XYuIiJSl18fao991YHyQcZD7/p5R4XkLhnfn+u7nldnva+VJ2t4j3LJ8U3UsGfitkqY65r6IiASzmn59VIWLiIiIiIiIiIhINSg92N7f83ytFqloAL2/vLU7ExER/4QEegEiIiIiIiIiIiL1gTMI8RZXmABLZDh2h6NKw+zLG0BfWSXbnYmISOUocBEREREREREREakG5QUhJoxQo+CsnRGvbOa+v2dwy/JN9Ju7ntTMHL8fyzn3xWL2rarGV5WZDyMiIgYFLiIiIiIiIiIiItXEWxBibhoGwLFTRW77ncPsKxu6fDntKt4e25cFw7vzyB86Vn7hv/K1LZqIiJSlGS4iIiIiIiIiIiLVaHAXKwMTLGzJzuXw8QJaNQvnwXd2AEVlzq3q/JSSc18+yDhY6TWbAIs5gt7xUZW+h4hIQ6cKFxERERERERERkWrmDEKu734eISEmbPneW3VV1/yUylanOCOeWckJfgc+IiLyG78Dlw0bNpCcnExcXBwmk4nVq1e7HZ89ezYdO3akWbNmtGzZkqSkJDZv3uzxXoWFhXTv3h2TyURGRobbsW+++YYrrriCiIgIWrduzbx58/xdqoiIiIiIiIiISMD5OhelqvNTesdHYTVHlJkf42QCWjYNwxIZ7rbfYo5gycieDO5irdLji4g0dH63FDt58iTdunXjzjvv5MYbbyxz/KKLLuLFF1/kggsu4PTp07zwwgv/v717j4uyyv8A/hluM4gyyHUgBFFXULysWiJdVJK4vHx5Wd1sSVstNlfDLuKaUZuIv1o1C9Y1L2l4+b1s1/S1ZpllkeKlRE1wUrywYiRqgCvKABkDwfn94W+eHBlgBmaYC5/36zUvnec5z8M55zlznsN8OedBXFwciouL4efnp5f25ZdfRlBQEL777ju97dXV1YiLi0NsbCzWr1+PM2fO4JlnnoGXlxdmz55tapaJiIiIiIiIiIjarbFJSMuD+fe4s+yWKTNBjJ150tHnpzg7yZA+YSDmbiuADHdmzujocrtsymC95c7aUx4iIjLM5IBLYmIiEhMTW9z/5JNP6r3PzMxEdnY2Tp8+jXHjxknbP//8c3z55Zf497//jc8//1zvmA8++AD19fXYtGkT3NzcEBkZCbVajczMTAZciIiIiIiIiIio0+wrLEPGnnMo0/w6+yRQqUD6hIFGBy50M0/KNXV6QRAdcz4/JWFQINbNGN4sz6r/z7NuFovuuS9ERGQ+JgdcTFFfX48NGzZAqVRi6NCh0vaKigo8++yz2L17N7p169bsuLy8PIwePRpubm7Stvj4eKxYsQK3bt1Cz549LZltIiIiIiIiIiIi7Cssw9xtBc2CJOWaOszZVgCvbq6out0gbQ+8J6ihY8zME3M+PyVhUCBnsRARWYHJz3Axxqefforu3btDoVAgKysLOTk58PX1BQAIITBr1izMmTMH999/v8Hjy8vLERAQoLdN9768vNzgMVqtFtXV1XovIiIiIiIiIiIiYzQ2CeRdqsTH6mvIu1SJ+l+akLHnnMEZKbptdwdbgDuBmLnbCrCvsKzZMbqZJyql/rJhlnp+irOTDNF9fTDpt/chuq8Pgy1ERJ3AIjNcYmJioFarcePGDWzcuBHTpk3D8ePH4e/vj9WrV6OmpgZpaWlm/ZnLli1DRkaGWc9JRERERERERESOz9CyYd4errj5U0MrRzUncGfGSsaec3hsoKpZkIMzT4iIHJtFZrh4eHigX79+GDVqFLKzs+Hi4oLs7GwAwIEDB5CXlwe5XA4XFxf069cPAHD//fdj5syZAACVSoWKigq9c+req1Qqgz8zLS0NGo1Gel25csUSRSMiIiIiIiIiIgeiWzbs7mALAJODLToCQJmmDidKbhrcz5knRESOy6LPcNFpamqCVqsFAPzjH//AG2+8Ie378ccfER8fjw8//BBRUVEAgOjoaLz22mtoaGiAq6srACAnJwfh4eEtPr9FLpdDLpdbuCREREREREREROQoGptEi8uGddT1mrq2ExERkUMxOeBSW1uL4uJi6X1JSQnUajW8vb3h4+ODN998ExMnTkRgYCBu3LiBNWvW4Nq1a3j88ccBACEhIXrn6969OwCgb9++CA4OBgA8+eSTyMjIQHJyMhYtWoTCwkKsWrUKWVlZ7S4oERERERERERHR3U6U3Gw2s8Vc/Hso2k5EREQOxeSAy8mTJxETEyO9T01NBQDMnDkT69evx4ULF7B161bcuHEDPj4+eOCBB3DkyBFERkYa/TOUSiW+/PJLpKSkYMSIEfD19cXixYsxe/ZsU7NLRERERERERERkkCVmocgAqJR3ns1CRERdi8kBl7Fjx0KIlida7tq1y6Tz9e7d2+D5hgwZgiNHjpiaPSIiIiIiIiIim7ZkyRJkZGTobQsPD8eFCxcAAHV1dViwYAG2b98OrVaL+Ph4rF27FgEBAdbIrkMzdhaKt4cbbv5UL73v2c0Vt243QAboLUemexpL+oSBfDYLEVEX1CnPcCEiIiIiIiIiol9FRkbiq6++kt67uPz6Fc38+fOxd+9e7Ny5E0qlEvPmzcOUKVPwzTffWCOrDm1kmDcClQqUa+oMPsdFN1vl0MIY5F++hes1dfDvcWf2Ss65cmTsOae3JJlKqUD6hIFIGBTYaWUgIiLbwYALEREREREREVEnc3FxgUqlarZdo9EgOzsb//znP/Hoo48CADZv3owBAwbg2LFjGDVqVGdn1aE5O8mQPmEg5m4raHW2ipuLE6L7+ugdmzAoEI8NVOFEyU29QAxnthARdV1O1s4AEREREREREVFXc/HiRQQFBaFPnz6YPn06SktLAQD5+floaGhAbGyslDYiIgIhISHIy8uzVnYdWsKgQKybMRwqpf7yYiqlAutmDG91toqzkwzRfX0w6bf3IbqvD4MtRERdHGe4EBERERERERF1oqioKGzZsgXh4eEoKytDRkYGHnnkERQWFqK8vBxubm7w8vLSOyYgIADl5eUtnlOr1UKr1Urvq6urLZX9TtfYJCw+i4SzVYiIyBwYcCEiIiIiIiIi6kSJiYnS/4cMGYKoqCiEhoZix44dcHd3b9c5ly1bhoyMDHNl0WbsKyxr9pyUQAs9J0U3W8UUnREMIiIi+8GACxERERERERGRFXl5eaF///4oLi7GY489hvr6elRVVenNcqmoqDD4zBedtLQ0pKamSu+rq6vRq1cvS2a7VeYIROwrLMPcbQXNHmZfrqnD3G0FbS73ZWmdGQwiIiL7wGe4EBERERERERFZUW1tLS5duoTAwECMGDECrq6u2L9/v7S/qKgIpaWliI6ObvEccrkcnp6eei9r2VdYhodXHEDSxmN4cbsaSRuP4eEVB7CvsMzoczQ2CWTsOdcs2AL8+mD7jD3n0NhkKIXl6YJBdwdbgF+DQaaUlYiIHAcDLkREREREREREnegvf/kLDh06hB9++AFHjx7F7373Ozg7OyMpKQlKpRLJyclITU1Fbm4u8vPz8fTTTyM6OhqjRo2ydtbbZK5AxImSm83OcTcBoExThxMlNzuS3Xax9WAQERFZD5cUIyIiIiIiIiLqRFevXkVSUhIqKyvh5+eHhx9+GMeOHYOfnx8AICsrC05OTpg6dSq0Wi3i4+Oxdu1aK+e6bW0FImS4E4h4bKCqzeXFrte0HGxpTzpzMiUYZOozYYiIyL4x4EJERERERERE1Im2b9/e6n6FQoE1a9ZgzZo1nZQj8zBnIMK/h8Kon2lsOnOy5WAQERFZFwMuRERERERERETUYeYMRIwM80agUoFyTZ3BGTMyACqlAiPDvA0e39gkcKLkJq7X1MG/x510bc2qMZYtB4OIiMi6GHAhIiIiIiIiIqIOM2cgwtlJhvQJAzF3WwFkgF7QRRc2SZ8w0GAQZV9hGTL2nNObbROoVCB9wkAkDAo0Ko+t6WgwiIiIHJeTtTNARERERERERET2TxeIaGkeiQx3Ah/GBiISBgVi3YzhUCn1AzQqpQLrZgw3GDzZV1iGudsKmi1tVq6pw9xtBdhXWGbUz26NLhgEoFlZ2woGERGRY+MMFyIiIiIiIiIi6rCOzEppScKgQDw2UNXi8mB3Lx3m6yHHkk/OGZx1Iv4/Dxl7zuGxgaoOB0N0waB7Z9KozDiThoiI7A8DLkREREREREREZBaWCEQ4O8kQ3den2XZDS4e1RgAo09ThRMlNg+czVVvBICIi6noYcCEiIiIiIiIiIrPpjECEbukwQ7NZ2nK9xrgAjTFaCgYREVHXxIALERERERERERGZlSUDEY1NAhl7DC8dZgz/Hoq2ExEREbUDAy5ERERERERERGQ3TpTcNHoZsbvJcGdps5Fh3ubPFBEREQAna2eAiIiIiIiIiIjIWO1ZEky3mFn6hIF8xgoREVkMZ7gQEREREREREZHdaM+SYCqlAukTBiJhUKAFckRERHQHAy5ERERERERERGQ3RoZ5I1CpQLmmzuBzXGQAAjzleGfab3GjVgv/HneWEePMFiIisjQGXIiIiIiIiIiIyG44O8mQPmEg5m4rgAzQC7roQipLJkbioX6+VsgdERF1ZXyGCxERERERERER2ZWEQYFYN2M4VEr95cVUSgXWzRjOpcOIiMgqOMOFiIiIiIiIiIjsTsKgQDw2UIUTJTdxvaaOS4cREZHVMeBCRERERERERER2ydlJhui+PtbOBhEREQAuKUZERERERERERERERNRhDLgQERERERERERERERF1EAMuRERE5FDefPNNPPjgg+jWrRu8vLwMppHJZM1e27dv10tz8OBBDB8+HHK5HP369cOWLVssn3kiIiIiIiIislsMuBAREZFDqa+vx+OPP465c+e2mm7z5s0oKyuTXpMnT5b2lZSUYPz48YiJiYFarcZLL72EP/3pT/jiiy8snHsiIiIiIiIislcmB1wOHz6MCRMmICgoCDKZDLt379bbv2TJEkRERMDDwwM9e/ZEbGwsjh8/Lu3/4YcfkJycjLCwMLi7u6Nv375IT09HfX293nlOnz6NRx55BAqFAr169cJbb73VvhISERFRl5KRkYH58+dj8ODBrabz8vKCSqWSXgqFQtq3fv16hIWF4Z133sGAAQMwb948/P73v0dWVpals09EREREREREdsrkgMtPP/2EoUOHYs2aNQb39+/fH++++y7OnDmDr7/+Gr1790ZcXBz++9//AgAuXLiApqYmvPfeezh79iyysrKwfv16vPrqq9I5qqurERcXh9DQUOTn52PlypVYsmQJNmzY0M5iEhEREelLSUmBr68vRo4ciU2bNkEIIe3Ly8tDbGysXvr4+Hjk5eW1eD6tVovq6mq9FxERERERERF1HS6mHpCYmIjExMQW9z/55JN67zMzM5GdnY3Tp09j3LhxSEhIQEJCgrS/T58+KCoqwrp16/D2228DAD744APU19dj06ZNcHNzQ2RkJNRqNTIzMzF79mxTs0xERESkZ+nSpXj00UfRrVs3fPnll3juuedQW1uLF154AQBQXl6OgIAAvWMCAgJQXV2Nn3/+Ge7u7s3OuWzZMmRkZHRK/omIiIiIiIjI9lj0GS719fXYsGEDlEolhg4d2mI6jUYDb29v6X1eXh5Gjx4NNzc3aVt8fDyKiopw69YtS2aZiIiIbNArr7xi8EH3d78uXLhg9Plef/11PPTQQxg2bBgWLVqEl19+GStXruxQHtPS0qDRaKTXlStXOnQ+IiIiIiIiIrIvJs9wMcann36KP/zhD7h9+zYCAwORk5MDX19fg2mLi4uxevVqaXYLcOevSsPCwvTS6f7KtLy8HD179mx2Hq1WC61WK73nMh5ERESOY8GCBZg1a1arafr06dPu80dFReF//ud/oNVqIZfLoVKpUFFRoZemoqICnp6eBme3AIBcLodcLm93HoiIiIiIiIjIvlkk4BITEwO1Wo0bN25g48aNmDZtGo4fPw5/f3+9dNeuXUNCQgIef/xxPPvssx36mVzGg4iIyHH5+fnBz8/PYudXq9Xo2bOnFDCJjo7GZ599ppcmJycH0dHRFssDEREREREREdk3iywp5uHhgX79+mHUqFHIzs6Gi4sLsrOz9dL8+OOPiImJwYMPPogNGzbo7Wvpr0p1+wzhMh5EREQEAKWlpVCr1SgtLUVjYyPUajXUajVqa2sBAHv27MH777+PwsJCFBcXY926dfjb3/6G559/XjrHnDlz8P333+Pll1/GhQsXsHbtWuzYsQPz58+3VrGIiIiIiIiIyMZZZIbLvZqamvSW+7p27RpiYmIwYsQIbN68GU5O+nGf6OhovPbaa2hoaICrqyuAO39VGh4ebnA5MYDLeBAREdEdixcvxtatW6X3w4YNAwDk5uZi7NixcHV1xZo1azB//nwIIdCvXz9kZmbqzbYNCwvD3r17MX/+fKxatQrBwcF4//33ER8f3+nlISIiIiIiIiL7IBNCCFMOqK2tRXFxMYA7X2BkZmYiJiYG3t7e8PHxwZtvvomJEyciMDAQN27cwJo1a/DPf/4T+fn5iIyMxLVr1zB27FiEhoZi69atcHZ2ls6tm72i0WgQHh6OuLg4LFq0CIWFhXjmmWeQlZWF2bNnG5XP6upqKJVKaDQaeHp6mlJEIiIih8X7Y+dhXRMRETXH+2PnYV0TERE1Z+n7o8lLip08eRLDhg2T/lo0NTUVw4YNw+LFi+Hs7IwLFy5g6tSp6N+/PyZMmIDKykocOXIEkZGRAO7MVCkuLsb+/fsRHByMwMBA6aWjVCrx5ZdfoqSkBCNGjMCCBQuwePFio4MtRERERERERET2Yvny5ZDJZHjppZekbXV1dUhJSYGPjw+6d++OqVOnNlt+nYiIiGyLyTNc7AX/koOIiKg53h87D+uaiIioOd4fm/v2228xbdo0eHp6IiYmBn//+98BAHPnzsXevXuxZcsWKJVKzJs3D05OTvjmm2+MOi/rmoiIqDmbm+FCREREREREREQdV1tbi+nTp2Pjxo16z6zVaDTIzs5GZmYmHn30UekZuEePHsWxY8esmGMiIiJqjYu1M2Apuok71dXVVs4JERGR7dDdFx10gqtN4ViEiIioOY5F9KWkpGD8+PGIjY3FG2+8IW3Pz89HQ0MDYmNjpW0REREICQlBXl4eRo0a1excWq0WWq1Weq/RaABwLEJERHQ3S49FHDbgUlNTAwDo1auXlXNCRERke2pqaqBUKq2dDYdWWVkJgGMRIiIiQzgWAbZv346CggJ8++23zfaVl5fDzc0NXl5eetsDAgJQXl5u8HzLli1DRkZGs+0cixARETVXWVlpkbGIwwZcgoKCcOXKFfTo0QMymcza2ek01dXV6NWrF65cucI1WjuIdWk+rEvzYV2aT1etSyEEampqEBQUZO2sODxvb28AQGlpqUN9oeTInx1HLRvLZV8ctVyA45aN5TINxyJ3XLlyBS+++CJycnKgUCjMcs60tDSkpqZK76uqqhAaGupwYxFTOOrn0xSsA9aBDuuBdQCwDoA7M0BDQkKk39nNzWEDLk5OTggODrZ2NqzG09Ozy35ozI11aT6sS/NhXZpPV6zLrvoLd2dzcrrzqDylUumQbcyRPzuOWjaWy744arkAxy0by2U8jkXuLBl2/fp1DB8+XNrW2NiIw4cP491338UXX3yB+vp6VFVV6c1yqaiogEqlMnhOuVwOuVzebLujjkVM4aifT1OwDlgHOqwH1gHAOgB+/Z3d3Bw24EJEREREREREZIvGjRuHM2fO6G17+umnERERgUWLFqFXr15wdXXF/v37MXXqVABAUVERSktLER0dbY0sExERkREYcCEiIiIiIiIi6kQ9evTAoEGD9LZ5eHjAx8dH2p6cnIzU1FR4e3vD09MTzz//PKKjozFq1ChrZJmIiIiMwICLg5HL5UhPTzc4jZhMw7o0H9al+bAuzYd1SZbmqG3MUcsFOG7ZWC774qjlAhy3bCwXWUpWVhacnJwwdepUaLVaxMfHY+3atUYfz2vIOgBYBwDrQIf1wDoAWAeA5etAJoQQFjkzERERERERERERERFRF2GZJ8MQERERERERERERERF1IQy4EBERERERERERERERdRADLkRERERERERERERERB3EgAsREREREREREREREVEHMeBiZ27evInp06fD09MTXl5eSE5ORm1tbavH1NXVISUlBT4+PujevTumTp2KiooKg2krKysRHBwMmUyGqqoqC5TAdliiLr/77jskJSWhV69ecHd3x4ABA7Bq1SpLF6XTrVmzBr1794ZCoUBUVBROnDjRavqdO3ciIiICCoUCgwcPxmeffaa3XwiBxYsXIzAwEO7u7oiNjcXFixctWQSbYc66bGhowKJFizB48GB4eHggKCgIf/zjH/Hjjz9auhg2wdzt8m5z5syBTCbD3//+dzPnmhyZqW3S1ixbtgwPPPAAevToAX9/f0yePBlFRUV6acaOHQuZTKb3mjNnjpVybJwlS5Y0y3NERIS035Rxky3p3bt3s3LJZDKkpKQAsJ9rdfjwYUyYMAFBQUGQyWTYvXu33n5jxgztGeN1htbKZuw93NB1Xr58eSeXRF9b12zWrFnN8pyQkKCXxhavWVvlMvR5k8lkWLlypZTGFq+XMX27Mf1gaWkpxo8fj27dusHf3x8LFy7EL7/80plF6bLaapt3a2kMa4ufOVM5at9jCmPawvnz5zFx4kQolUp4eHjggQceQGlpqbTfXsc9Ouboqx29HdTW1mLevHkIDg6Gu7s7Bg4ciPXr1+ulcfR2UFFRgVmzZiEoKAjdunVDQkJCs/GjvdcB7+/G1cGGDRswduxYeHp6tvjdtzn6BAZc7Mz06dNx9uxZ5OTk4NNPP8Xhw4cxe/bsVo+ZP38+9uzZg507d+LQoUP48ccfMWXKFINpk5OTMWTIEEtk3eZYoi7z8/Ph7++Pbdu24ezZs3jttdeQlpaGd99919LF6TQffvghUlNTkZ6ejoKCAgwdOhTx8fG4fv26wfRHjx5FUlISkpOTcerUKUyePBmTJ09GYWGhlOatt97CP/7xD6xfvx7Hjx+Hh4cH4uPjUVdX11nFsgpz1+Xt27dRUFCA119/HQUFBdi1axeKioowceLEziyWVViiXep89NFHOHbsGIKCgixdDHIgprZJW3To0CGkpKTg2LFjyMnJQUNDA+Li4vDTTz/ppXv22WdRVlYmvd566y0r5dh4kZGRenn++uuvpX2mjJtsybfffqtXppycHADA448/LqWxh2v1008/YejQoVizZo3B/caMGdozxusMrZXNlHv40qVL9a7j888/3xnZb1Fb1wwAEhIS9PL8r3/9S2+/LV6ztsp1d3nKysqwadMmyGQyTJ06VS+drV0vY/r2tvrBxsZGjB8/HvX19Th69Ci2bt2KLVu2YPHixdYoUpdjzGcOaH0Ma4ufOVM5at9jirbq4NKlS3j44YcRERGBgwcP4vTp03j99dehUCikNPY67tExR1/t6O0gNTUV+/btw7Zt23D+/Hm89NJLmDdvHj755BMpjSO3AyEEJk+ejO+//x4ff/wxTp06hdDQUMTGxpp077N1vL8bVwe3b99GQkICXn311RbPY5Y+QZDdOHfunAAgvv32W2nb559/LmQymbh27ZrBY6qqqoSrq6vYuXOntO38+fMCgMjLy9NLu3btWjFmzBixf/9+AUDcunXLIuWwBZauy7s999xzIiYmxnyZt7KRI0eKlJQU6X1jY6MICgoSy5YtM5h+2rRpYvz48XrboqKixJ///GchhBBNTU1CpVKJlStXSvurqqqEXC4X//rXvyxQAtth7ro05MSJEwKAuHz5snkybaMsVZdXr14V9913nygsLBShoaEiKyvL7Hknx2Rqm7QH169fFwDEoUOHpG1jxowRL774ovUy1Q7p6eli6NChBve1915vi1588UXRt29f0dTUJISwz2sFQHz00UfSe2PGDO0Z41nDvWUzxNA93NbvRYbKNXPmTDFp0qQWj7GHa2bM9Zo0aZJ49NFH9bbZ+vUSonnfbkw/+NlnnwknJydRXl4upVm3bp3w9PQUWq22cwvQxbXUNlsbw9rDZ85Ujtr3mMJQHTzxxBNixowZLR7jSOMeIdrXV3eFdhAZGSmWLl2qt2348OHitddeE0I4fjsoKioSAERhYaG0rbGxUfj5+YmNGzcKIRyvDoTg/V0Iw7+/6uTm5hr87ttcfQJnuNiRvLw8eHl54f7775e2xcbGwsnJCcePHzd4TH5+PhoaGhAbGytti4iIQEhICPLy8qRt586dw9KlS/G///u/cHJy/GZhybq8l0ajgbe3t/kyb0X19fXIz8/XqwMnJyfExsa2WAd5eXl66QEgPj5eSl9SUoLy8nK9NEqlElFRUa3Wq72zRF0aotFoIJPJ4OXlZZZ82yJL1WVTUxOeeuopLFy4EJGRkZbJPDmk9rRJe6DRaACg2T3tgw8+gK+vLwYNGoS0tDTcvn3bGtkzycWLFxEUFIQ+ffpg+vTp0tIa7b3X25r6+nps27YNzzzzDGQymbTdHq/V3YwZM7RnjGerWrqHL1++HD4+Phg2bBhWrlxpF8s8HDx4EP7+/ggPD8fcuXNRWVkp7XOEa1ZRUYG9e/ciOTm52T5bv1739u3G9IN5eXkYPHgwAgICpDTx8fGorq7G2bNnOzH3ZEhbY1hH+MwZy9H7ntY0NTVh79696N+/P+Lj4+Hv74+oqCi9pZYcZdxjLEN9taO3AwB48MEH8cknn+DatWsQQiA3Nxf/+c9/EBcXB8Dx24FWqwUAvZldTk5OkMvl0ix3R6wD3t9b/v21NebqE1yMzyZZW3l5Ofz9/fW2ubi4wNvbG+Xl5S0e4+bm1uwXtYCAAOkYrVaLpKQkrFy5EiEhIfj+++8tkn9bYqm6vNfRo0fx4YcfYu/evWbJt7XduHEDjY2Nep0vcKcOLly4YPCY8vJyg+l1dab7t7U0jsgSdXmvuro6LFq0CElJSfD09DRPxm2QpepyxYoVcHFxwQsvvGD+TJNDa0+btHVNTU146aWX8NBDD2HQoEHS9ieffBKhoaEICgrC6dOnsWjRIhQVFWHXrl1WzG3roqKisGXLFoSHh6OsrAwZGRl45JFHUFhY2K57vS3avXs3qqqqMGvWLGmbPV6rexkzZmjPGM8WtXQPf+GFFzB8+HB4e3vj6NGjSEtLQ1lZGTIzM62Y29YlJCRgypQpCAsLw6VLl/Dqq68iMTEReXl5cHZ2dohrtnXrVvTo0aPZ0iO2fr0M9e3G9IMtjaN0+8i62hrDOsJnzhhdoe9pzfXr11FbW4vly5fjjTfewIoVK7Bv3z5MmTIFubm5GDNmjMOMe4xlqK929HYAAKtXr8bs2bMRHBwMFxcXODk5YePGjRg9ejSA9n3XZU90QYW0tDS899578PDwQFZWFq5evYqysjIAjlcHvL+3/PtrW8zVJzDgYgNeeeUVrFixotU058+ft9jPT0tLw4ABAzBjxgyL/YzOYu26vFthYSEmTZqE9PR06S8HiDpLQ0MDpk2bBiEE1q1bZ+3s2J38/HysWrUKBQUFen8dTtRVpaSkoLCwUO9ZJwD01rIdPHgwAgMDMW7cOFy6dAl9+/bt7GwaJTExUfr/kCFDEBUVhdDQUOzYsQPu7u5WzJn5ZGdnIzExUW/dfnu8Vl1Va/fw1NRU6f9DhgyBm5sb/vznP2PZsmWQy+WdnVWj/OEPf5D+P3jwYAwZMgR9+/bFwYMHMW7cOCvmzHw2bdqE6dOn6/31LGD716ulvp3sF8ewv+oKfU9rmpqaAACTJk3C/PnzAQC//e1vcfToUaxfvx5jxoyxZvasoqW+2tGtXr0ax44dwyeffILQ0FAcPnwYKSkpCAoKarbqgyNydXXFrl27kJycDG9vbzg7OyM2NhaJiYkQQlg7exbB+7v168Dx146yAwsWLMD58+dbffXp0wcqlarZw3Z/+eUX3Lx5EyqVyuC5VSoV6uvrUVVVpbe9oqJCOubAgQPYuXMnXFxc4OLiIg0+fH19kZ6ebv4CW5C161Ln3LlzGDduHGbPno2//vWvZi2jNfn6+sLZ2RkVFRV62w3VgY5KpWo1ve5fU87pCCxRlzq6L2ouX76MnJwch57dAlimLo8cOYLr168jJCRE6hsvX76MBQsWoHfv3hYpBzmO9rRJWzZv3jx8+umnyM3NRXBwcKtpo6KiAADFxcWdkTWz8PLyQv/+/VFcXGzSvd5WXb58GV999RX+9Kc/tZrOHq+VMWOG9ozxbImp9/CoqCj88ssv+OGHHzong2bQp08f+Pr6Sm3P3q/ZkSNHUFRU1OZnDrCt69VS325MP9jSOEq3j6zHmDGsvX/m2svR+p62+Pr6wsXFBQMHDtTbPmDAAGkpVUcY9xirpb7a0dvBzz//jFdffRWZmZmYMGEChgwZgnnz5uGJJ57A22+/DaBrtIMRI0ZArVajqqoKZWVl2LdvHyorK9GnTx8AjlUHvL+b9vvrvczVJzDgYgP8/PwQERHR6svNzQ3R0dGoqqpCfn6+dOyBAwfQ1NQk/dJ8rxEjRsDV1RX79++XthUVFaG0tBTR0dEAgH//+9/47rvvoFaroVar8f777wO4c0NKSUmxYMnNz9p1CQBnz55FTEwMZs6ciTfffNNyhbUCNzc3jBgxQq8OmpqasH//fr06uFt0dLReegDIycmR0oeFhUGlUumlqa6uxvHjx1s8pyOwRF0Cv35Rc/HiRXz11Vfw8fGxTAFsiCXq8qmnnsLp06elflGtViMoKAgLFy7EF198YbnCkENoT5u0RUIIzJs3Dx999BEOHDiAsLCwNo9Rq9UAgMDAQAvnznxqa2tx6dIlBAYGGn2vt2WbN2+Gv78/xo8f32o6e7xWxowZ2jPGsxXtuYer1Wo4OTk1W/rAll29ehWVlZVS27PnawbcmVE2YsQIDB06tM20tnC92urbjekHo6OjcebMGb0vJHQBwnu/3KXOZcwY1t4/c+3laH1PW9zc3PDAAw+gqKhIb/t//vMfhIaGAjD+Ow5H0FJf7ejtoKGhAQ0NDc2e1ezs7CzNgupK7UCpVMLPzw8XL17EyZMnMWnSJACOUQe8v7fv99d7ma1PEGRXEhISxLBhw8Tx48fF119/LX7zm9+IpKQkaf/Vq1dFeHi4OH78uLRtzpw5IiQkRBw4cECcPHlSREdHi+jo6BZ/Rm5urgAgbt26ZcmiWJ0l6vLMmTPCz89PzJgxQ5SVlUmv69evd2rZLGn79u1CLpeLLVu2iHPnzonZs2cLLy8vUV5eLoQQ4qmnnhKvvPKKlP6bb74RLi4u4u233xbnz58X6enpwtXVVZw5c0ZKs3z5cuHl5SU+/vhjcfr0aTFp0iQRFhYmfv75504vX2cyd13W19eLiRMniuDgYKFWq/XaoFartUoZO4sl2uW9QkNDRVZWlqWLQg6irTZpD+bOnSuUSqU4ePCgXn9y+/ZtIYQQxcXFYunSpeLkyZOipKREfPzxx6JPnz5i9OjRVs556xYsWCAOHjwoSkpKxDfffCNiY2OFr6+vdK82ddxkSxobG0VISIhYtGiR3nZ7ulY1NTXi1KlT4tSpUwKAyMzMFKdOnRKXL18WQhg3ZmhrjGctrZXNmHv40aNHRVZWllCr1eLSpUti27Ztws/PT/zxj3+02XLV1NSIv/zlLyIvL0+UlJSIr776SgwfPlz85je/EXV1ddI5bPGatdUWhRBCo9GIbt26iXXr1jU73lavV1t9uxBt94O//PKLGDRokIiLixNqtVrs27dP+Pn5ibS0NGsUqcsxpm3ezdAY1hY/c6Zy1L7HFG21hV27dglXV1exYcMGcfHiRbF69Wrh7Owsjhw5Ip3Dnsc9QnS8rxbC8dvBmDFjRGRkpMjNzRXff/+92Lx5s1AoFGLt2rXSORy9HezYsUPk5uaKS5cuid27d4vQ0FAxZcoUvXPYex3w/m5cHZSVlYlTp06JjRs3CgDi8OHD4tSpU6KyslJKY44+gQEXO1NZWSmSkpJE9+7dhaenp3j66adFTU2NtL+kpEQAELm5udK2n3/+WTz33HOiZ8+eolu3buJ3v/udKCsra/FndJWAiyXqMj09XQBo9goNDe3Eklne6tWrRUhIiHBzcxMjR44Ux44dk/aNGTNGzJw5Uy/9jh07RP/+/YWbm5uIjIwUe/fu1dvf1NQkXn/9dREQECDkcrkYN26cKCoq6oyiWJ0561LXZg297m7Hjsrc7fJeDLiQqVprk/agpf5k8+bNQgghSktLxejRo4W3t7eQy+WiX79+YuHChUKj0Vg342144oknRGBgoHBzcxP33XefeOKJJ0RxcbG039Rxky354osvBIBm91B7ula6cei9L10fbsyYoa0xnrW0VjZj7uH5+fkiKipKKJVKoVAoxIABA8Tf/vY3vS8Pba1ct2/fFnFxccLPz0+4urqK0NBQ8eyzzzYLPtviNWurLQohxHvvvSfc3d1FVVVVs+Nt9Xq11bcLYVw/+MMPP4jExETh7u4ufH19xYIFC0RDQ0Mnl6ZrMqZt3s3QGNYWP3OmctS+xxTGtIXs7GzRr18/oVAoxNChQ8Xu3bv1zmHP4x4hOt5XC+H47aCsrEzMmjVLBAUFCYVCIcLDw8U777wjmpqapHM4ejtYtWqVCA4OFq6uriIkJET89a9/bfZHqfZeB7y/G1cHLX1ve3cac/QJsv/PEBEREREREREREREREbUTn+FCRERERERERERERETUQQy4EBERERERERERERERdRADLkRERERERERERERERB3EgAsREREREREREREREVEHMeBCRERERERERERERETUQQy4EBERERERERERERERdRADLkRERERERERERERERB3EgAsREREREREREREREVEHMeBCRERERERERERERETUQQy4EBERERERERERERERdRADLkRERERERERERERERB3EgAsREREREREREREREVEH/R89hrgR4ydL4wAAAABJRU5ErkJggg==\n",
                  "text/plain": "<Figure size 2000x400 with 3 Axes>"
                },
                "metadata": {},
                "output_type": "display_data"
              }
            ]
          }
        }
      }
    }
  },
  "nbformat": 4,
  "nbformat_minor": 0
}
